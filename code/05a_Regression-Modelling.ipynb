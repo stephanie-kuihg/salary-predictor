{
 "cells": [
  {
   "cell_type": "markdown",
   "metadata": {},
   "source": [
    "# Regression Modelling for Salary Predictor\n",
    "---\n",
    "\n",
    "### Table of Contents <a class=\"anchor\" id=\"toc\"></a>\n",
    "\n",
    "* [Overview](#overview)\n",
    "* [Importing Libraries](#importinglibraries)\n",
    "* [Creating Custom Functions](#customfunctions)\n",
    "* [Regression Modelling (Target Variable 'Average Salary')](#salary)\n",
    "    * [Null Model](#null)\n",
    "    * [Linear Regression](#linreg)\n",
    "    * [LassoCV](#lasso)\n",
    "    * [RidgeCV](#ridge)\n",
    "    * [ElasticnetCV](#elasticnet)    \n",
    "    * [AdaBoost Regressor](#ada)\n",
    "    * [Bagging Regressor](#bagr)\n",
    "    * [Gradient Boosting Regressor](#gbr)\n",
    "    * [Random Forest Regressor](#rfr)\n",
    "    * [Extra Trees Regressor](#etr)\n",
    "    * [Support Vector Machine for Regression](#svr)\n",
    "    * [Summary of metrics for Regression Modelling](#summary)    \n",
    "* [Regression Modelling (Target Variable 'Average Salary' with Logarithmic Function applied)](#salarylog)\n",
    "    * [Linear Regression](#linreg_log)\n",
    "    * [LassoCV](#lasso_log)\n",
    "    * [RidgeCV](#ridge_log)\n",
    "    * [ElasticnetCV](#elasticnet_log)    \n",
    "    * [AdaBoost Regressor](#ada_log)\n",
    "    * [Bagging Regressor](#bagr_log)\n",
    "    * [Gradient Boosting Regressor](#gbr_log)\n",
    "    * [Random Forest Regressor](#rfr_log)\n",
    "    * [Extra Trees Regressor](#etr_log)\n",
    "    * [Support Vector Machine for Regression](#svr_log)\n",
    "    * [Summary of metrics for Regression Modelling](#summary_log) \n"
   ]
  },
  {
   "cell_type": "markdown",
   "metadata": {},
   "source": [
    "## Overview <a class=\"anchor\" id=\"overview\"></a>\n",
    "---\n",
    "[Back to top!](#toc)\n",
    "\n",
    "### Metrics used for Regressor Model Evaluation\n",
    "\n",
    "* Coefficient of Determinant, $R^2$ (i.e. Test Score)\n",
    "    * Goal: Get $R^2$ as close to 1 as possible. \n",
    "    * Easily interpretable i.e. \"An $R^2$ value of 0.8 means that 80% of the variability in _y_ is explained by the _x_-variables in our model.\"\n",
    "* Mean Absolute Error\n",
    "    * Goal: Get Mean Absolute Error as close to 0 as possible.\n",
    "    * Represents mean distance from the predicted value.\n",
    "* Mean Percentage Absolute Error\n",
    "    * Goal: Get Mean Percentage Absolute Error as close to 0 as possible.\n",
    "    * Derived from the Mean Absolute Error"
   ]
  },
  {
   "cell_type": "markdown",
   "metadata": {},
   "source": [
    "## Importing Libraries <a class=\"anchor\" id=\"importinglibraries\"></a>\n",
    "---\n",
    "[Back to top!](#toc)"
   ]
  },
  {
   "cell_type": "code",
   "execution_count": 1,
   "metadata": {},
   "outputs": [],
   "source": [
    "import pandas as pd\n",
    "import numpy as np\n",
    "import matplotlib.pyplot as plt\n",
    "import seaborn as sns\n",
    "\n",
    "from sklearn.model_selection import train_test_split, cross_val_score, cross_val_predict\n",
    "from sklearn.preprocessing import StandardScaler\n",
    "from sklearn.linear_model import LinearRegression, LassoCV, RidgeCV, ElasticNetCV\n",
    "from sklearn.ensemble import AdaBoostRegressor, BaggingRegressor, GradientBoostingRegressor\n",
    "from sklearn.ensemble import RandomForestRegressor, ExtraTreesRegressor\n",
    "from sklearn.svm import SVR\n",
    "from sklearn.metrics import r2_score, mean_absolute_error, median_absolute_error\n",
    "\n",
    "pd.set_option('display.float_format', lambda x: '{:.3f}'.format(x))\n",
    "# limit floats to 3 decimal points"
   ]
  },
  {
   "cell_type": "markdown",
   "metadata": {},
   "source": [
    "## Custom Functions <a class=\"anchor\" id=\"customfunctions\"></a>\n",
    "---\n",
    "[Back to top!](#toc)"
   ]
  },
  {
   "cell_type": "code",
   "execution_count": 2,
   "metadata": {},
   "outputs": [],
   "source": [
    "def get_scores(model_name, pipeline):\n",
    "    print(model_name)\n",
    "    print('------------')\n",
    "    train_score = pipeline.score(X_train, y_train)\n",
    "    print(f'Training score: {round(train_score, 4)}')\n",
    "    test_score = pipeline.score(X_test, y_test)\n",
    "    print(f'Testing score: {round(test_score, 4)}')"
   ]
  },
  {
   "cell_type": "code",
   "execution_count": 3,
   "metadata": {},
   "outputs": [],
   "source": [
    "from sklearn.metrics import mean_absolute_error, r2_score, median_absolute_error\n",
    "\n",
    "def get_evaluation_metrics(model_name, preds):\n",
    "    print(model_name)\n",
    "    print('------------')\n",
    "    \n",
    "    #r2\n",
    "    r2 = r2_score(y_test, preds)\n",
    "    print(f'R2 Score: {round(r2, 4)}')\n",
    "    \n",
    "    # Mean Absolute Error\n",
    "    mean_ae = mean_absolute_error(y_test, preds)\n",
    "    print(f'Mean Absolute Error: {round(mean_ae, 4)}')\n",
    "    \n",
    "    # Mean Absolute Error\n",
    "    mean_pae = (mean_ae / y_test.mean())*100\n",
    "    print(f'Mean Percentage Absolute Error: {round(mean_pae, 4)}')\n",
    "    \n",
    "    # Median Absolute Error\n",
    "    median_ae = median_absolute_error(y_test, preds)\n",
    "    print(f'Median Absolute Error: {round(median_ae, 4)}')\n",
    "\n",
    "    # Median Percentage Absolute Error\n",
    "    median_pae = (median_ae / y_test.median())*100\n",
    "    print(f'Median Percentage Absolute Error: {round(median_pae, 4)}')"
   ]
  },
  {
   "cell_type": "code",
   "execution_count": 4,
   "metadata": {},
   "outputs": [],
   "source": [
    "from sklearn.metrics import mean_absolute_error, r2_score, median_absolute_error\n",
    "\n",
    "def get_evaluation_metrics_log(model_name, preds, preds_exp):\n",
    "    print(model_name)\n",
    "    print('------------')\n",
    "    \n",
    "    #r2\n",
    "    r2 = r2_score(y_test, preds)\n",
    "    print(f'R2 Score: {round(r2, 4)}')\n",
    "    \n",
    "    # Mean Absolute Error\n",
    "    mean_ae = mean_absolute_error(y_test_exp, preds_exp)\n",
    "    print(f'Mean Absolute Error: {round(mean_ae, 4)}')\n",
    "    \n",
    "    # Mean Absolute Error\n",
    "    mean_pae = (mean_ae / y_test_exp.mean())*100\n",
    "    print(f'Mean Percentage Absolute Error: {round(mean_pae, 4)}')\n",
    "    \n",
    "    # Median Absolute Error\n",
    "    median_ae = median_absolute_error(y_test_exp, preds_exp)\n",
    "    print(f'Median Absolute Error: {round(median_ae, 4)}')\n",
    "\n",
    "    # Median Percentage Absolute Error\n",
    "    median_pae = (median_ae / y_test_exp.median())*100\n",
    "    print(f'Median Percentage Absolute Error: {round(median_pae, 4)}')"
   ]
  },
  {
   "cell_type": "markdown",
   "metadata": {},
   "source": [
    "## Regression Modelling for `salary_average` <a class=\"anchor\" id=\"salary\"></a>\n",
    "---\n",
    "[Back to top!](#toc)"
   ]
  },
  {
   "cell_type": "code",
   "execution_count": 5,
   "metadata": {
    "scrolled": true
   },
   "outputs": [
    {
     "name": "stdout",
     "output_type": "stream",
     "text": [
      "<class 'pandas.core.frame.DataFrame'>\n",
      "RangeIndex: 3969 entries, 0 to 3968\n",
      "Data columns (total 92 columns):\n",
      " #   Column                             Non-Null Count  Dtype  \n",
      "---  ------                             --------------  -----  \n",
      " 0   minimum_years_experience           3969 non-null   int64  \n",
      " 1   days_new_posting_closing           3969 non-null   float64\n",
      " 2   days_original_posting_closing      3969 non-null   float64\n",
      " 3   salary_average                     3969 non-null   float64\n",
      " 4   job_title_wordcount                3969 non-null   int64  \n",
      " 5   job_title_charcount                3969 non-null   int64  \n",
      " 6   job_description_wordcount          3969 non-null   int64  \n",
      " 7   job_description_charcount          3969 non-null   int64  \n",
      " 8   skills_num                         3969 non-null   int64  \n",
      " 9   skill_tableau                      3969 non-null   int64  \n",
      " 10  skill_datawarehouse                3969 non-null   int64  \n",
      " 11  skill_agile                        3969 non-null   int64  \n",
      " 12  skill_aws                          3969 non-null   int64  \n",
      " 13  skill_c#                           3969 non-null   int64  \n",
      " 14  skill_spring                       3969 non-null   int64  \n",
      " 15  skill_hadoop                       3969 non-null   int64  \n",
      " 16  skill_spark                        3969 non-null   int64  \n",
      " 17  skill_oracle                       3969 non-null   int64  \n",
      " 18  skill_stats                        3969 non-null   int64  \n",
      " 19  skill_datamining                   3969 non-null   int64  \n",
      " 20  skill_github                       3969 non-null   int64  \n",
      " 21  skill_sdlc                         3969 non-null   int64  \n",
      " 22  skill_c++                          3969 non-null   int64  \n",
      " 23  skill_cloud                        3969 non-null   int64  \n",
      " 24  skill_html                         3969 non-null   int64  \n",
      " 25  skill_javascript                   3969 non-null   int64  \n",
      " 26  skill_python                       3969 non-null   int64  \n",
      " 27  skill_azure                        3969 non-null   int64  \n",
      " 28  skill_linux                        3969 non-null   int64  \n",
      " 29  skill_unix                         3969 non-null   int64  \n",
      " 30  skill_ml                           3969 non-null   int64  \n",
      " 31  skill_algo                         3969 non-null   int64  \n",
      " 32  skill_java                         3969 non-null   int64  \n",
      " 33  skill_sql                          3969 non-null   int64  \n",
      " 34  categories_finance                 3969 non-null   int64  \n",
      " 35  categories_IT                      3969 non-null   int64  \n",
      " 36  categories_consulting              3969 non-null   int64  \n",
      " 37  categories_education               3969 non-null   int64  \n",
      " 38  categories_professional            3969 non-null   int64  \n",
      " 39  categories_others                  3969 non-null   int64  \n",
      " 40  categories_insurance               3969 non-null   int64  \n",
      " 41  categories_risk_mgmt               3969 non-null   int64  \n",
      " 42  categories_general_mgmt            3969 non-null   int64  \n",
      " 43  categories_engineering             3969 non-null   int64  \n",
      " 44  categories_civil_service           3969 non-null   int64  \n",
      " 45  categories_legal                   3969 non-null   int64  \n",
      " 46  categories_accounts                3969 non-null   int64  \n",
      " 47  categories_PR                      3969 non-null   int64  \n",
      " 48  categories_research                3969 non-null   int64  \n",
      " 49  categories_manufacturing           3969 non-null   int64  \n",
      " 50  categories_design                  3969 non-null   int64  \n",
      " 51  categories_telcom                  3969 non-null   int64  \n",
      " 52  categories_retail                  3969 non-null   int64  \n",
      " 53  categories_tourism                 3969 non-null   int64  \n",
      " 54  categories_advert                  3969 non-null   int64  \n",
      " 55  categories_admin                   3969 non-null   int64  \n",
      " 56  categories_maintenance             3969 non-null   int64  \n",
      " 57  categories_logistics               3969 non-null   int64  \n",
      " 58  categories_wholesale               3969 non-null   int64  \n",
      " 59  categories_social_services         3969 non-null   int64  \n",
      " 60  categories_security                3969 non-null   int64  \n",
      " 61  categories_property                3969 non-null   int64  \n",
      " 62  categories_therapy                 3969 non-null   int64  \n",
      " 63  categories_architecture            3969 non-null   int64  \n",
      " 64  categories_purchasing              3969 non-null   int64  \n",
      " 65  categories_HR                      3969 non-null   int64  \n",
      " 66  categories_entertainment           3969 non-null   int64  \n",
      " 67  categories_cust_service            3969 non-null   int64  \n",
      " 68  categories_env_health              3969 non-null   int64  \n",
      " 69  categories_construction            3969 non-null   int64  \n",
      " 70  categories_events                  3969 non-null   int64  \n",
      " 71  categories_general_work            3969 non-null   int64  \n",
      " 72  categories_FandB                   3969 non-null   int64  \n",
      " 73  categories_hospitality             3969 non-null   int64  \n",
      " 74  job_title_business analyst         3969 non-null   int64  \n",
      " 75  job_title_data analyst             3969 non-null   int64  \n",
      " 76  job_title_data engineer            3969 non-null   int64  \n",
      " 77  job_title_data quality management  3969 non-null   int64  \n",
      " 78  job_title_data scientist           3969 non-null   int64  \n",
      " 79  job_title_research scientist       3969 non-null   int64  \n",
      " 80  job_title_software developer       3969 non-null   int64  \n",
      " 81  job_title_software engineer        3969 non-null   int64  \n",
      " 82  job_title_system engineer          3969 non-null   int64  \n",
      " 83  position_level_entry level         3969 non-null   int64  \n",
      " 84  position_level_executive           3969 non-null   int64  \n",
      " 85  position_level_junior executive    3969 non-null   int64  \n",
      " 86  position_level_manager             3969 non-null   int64  \n",
      " 87  position_level_middle management   3969 non-null   int64  \n",
      " 88  position_level_non-executive       3969 non-null   int64  \n",
      " 89  position_level_professional        3969 non-null   int64  \n",
      " 90  position_level_senior executive    3969 non-null   int64  \n",
      " 91  position_level_senior management   3969 non-null   int64  \n",
      "dtypes: float64(3), int64(89)\n",
      "memory usage: 2.8 MB\n"
     ]
    }
   ],
   "source": [
    "df_v1 = pd.read_csv('../data/modelling_dataset_v1.csv')\n",
    "df_v1.info()"
   ]
  },
  {
   "cell_type": "markdown",
   "metadata": {},
   "source": [
    "### Null Model <a class=\"anchor\" id=\"null\"></a>\n",
    "[Back to top!](#toc)"
   ]
  },
  {
   "cell_type": "code",
   "execution_count": 6,
   "metadata": {},
   "outputs": [],
   "source": [
    "features = [col for col in df_v1.columns if col != 'salary_average']\n",
    "X = df_v1[features]\n",
    "y = df_v1['salary_average']\n",
    "\n",
    "X_train, X_test, y_train, y_test = train_test_split(X, y, random_state=123)"
   ]
  },
  {
   "cell_type": "code",
   "execution_count": 7,
   "metadata": {},
   "outputs": [
    {
     "name": "stdout",
     "output_type": "stream",
     "text": [
      "Null Mean Absolute Error: 2323.868493350736\n",
      "Null Mean Absolute Percentage Error: 31.87748496380985\n"
     ]
    }
   ],
   "source": [
    "# baseline accuracy\n",
    "y_bar = y_test.mean()\n",
    "null_resids = y_test - y_bar\n",
    "null_mae = np.abs(null_resids).mean()\n",
    "print(f'Null Mean Absolute Error: {null_mae}')\n",
    "\n",
    "mean_pae = (null_mae / y_test.mean())*100\n",
    "print(f'Null Mean Absolute Percentage Error: {mean_pae}')"
   ]
  },
  {
   "cell_type": "markdown",
   "metadata": {},
   "source": [
    "### Linear Regression <a class=\"anchor\" id=\"linreg\"></a>\n",
    "[Back to top!](#toc)"
   ]
  },
  {
   "cell_type": "code",
   "execution_count": 8,
   "metadata": {},
   "outputs": [
    {
     "data": {
      "text/plain": [
       "LinearRegression()"
      ]
     },
     "execution_count": 8,
     "metadata": {},
     "output_type": "execute_result"
    }
   ],
   "source": [
    "features = [col for col in df_v1.columns if col != 'salary_average']\n",
    "X = df_v1[features]\n",
    "y = df_v1['salary_average']\n",
    "\n",
    "X_train, X_test, y_train, y_test = train_test_split(X, y, random_state=123)\n",
    "\n",
    "ss = StandardScaler()\n",
    "ss.fit(X_train)\n",
    "X_train = ss.transform(X_train)\n",
    "X_test = ss.transform(X_test)\n",
    "\n",
    "linreg = LinearRegression()\n",
    "linreg.fit(X_train, y_train)"
   ]
  },
  {
   "cell_type": "code",
   "execution_count": 9,
   "metadata": {},
   "outputs": [
    {
     "name": "stdout",
     "output_type": "stream",
     "text": [
      "Linear Regression\n",
      "------------\n",
      "Training score: 0.5427\n",
      "Testing score: 0.5267\n"
     ]
    }
   ],
   "source": [
    "get_scores('Linear Regression', linreg)\n",
    "\n",
    "# keeping variable for summary input later\n",
    "train_score_linreg = linreg.score(X_train, y_train)"
   ]
  },
  {
   "cell_type": "code",
   "execution_count": 10,
   "metadata": {},
   "outputs": [
    {
     "name": "stdout",
     "output_type": "stream",
     "text": [
      "Linear Regression\n",
      "------------\n",
      "R2 Score: 0.5267\n",
      "Mean Absolute Error: 1572.5177\n",
      "Mean Percentage Absolute Error: 21.5709\n",
      "Median Absolute Error: 1176.732\n",
      "Median Percentage Absolute Error: 16.8105\n"
     ]
    }
   ],
   "source": [
    "# Get predictions\n",
    "pred_linreg = linreg.predict(X_test)\n",
    "\n",
    "# Get model metrics\n",
    "get_evaluation_metrics('Linear Regression', pred_linreg)"
   ]
  },
  {
   "cell_type": "markdown",
   "metadata": {},
   "source": [
    "### LassoCV <a class=\"anchor\" id=\"lasso\"></a>\n",
    "[Back to top!](#toc)"
   ]
  },
  {
   "cell_type": "code",
   "execution_count": 11,
   "metadata": {},
   "outputs": [
    {
     "data": {
      "text/plain": [
       "LassoCV(n_alphas=200)"
      ]
     },
     "execution_count": 11,
     "metadata": {},
     "output_type": "execute_result"
    }
   ],
   "source": [
    "features = [col for col in df_v1.columns if col != 'salary_average']\n",
    "X = df_v1[features]\n",
    "y = df_v1['salary_average']\n",
    "\n",
    "X_train, X_test, y_train, y_test = train_test_split(X, y, random_state=123)\n",
    "\n",
    "ss = StandardScaler()\n",
    "ss.fit(X_train)\n",
    "X_train = ss.transform(X_train)\n",
    "X_test = ss.transform(X_test)\n",
    "\n",
    "lasso = LassoCV(n_alphas=200)\n",
    "lasso.fit(X_train, y_train)"
   ]
  },
  {
   "cell_type": "code",
   "execution_count": 12,
   "metadata": {},
   "outputs": [
    {
     "name": "stdout",
     "output_type": "stream",
     "text": [
      "LassoCV\n",
      "------------\n",
      "Training score: 0.5399\n",
      "Testing score: 0.5305\n"
     ]
    }
   ],
   "source": [
    "get_scores('LassoCV', lasso)\n",
    "\n",
    "# keeping variable for summary input later\n",
    "train_score_lasso = lasso.score(X_train, y_train)"
   ]
  },
  {
   "cell_type": "code",
   "execution_count": 13,
   "metadata": {},
   "outputs": [
    {
     "name": "stdout",
     "output_type": "stream",
     "text": [
      "LassoCV\n",
      "------------\n",
      "R2 Score: 0.5305\n",
      "Mean Absolute Error: 1557.3892\n",
      "Mean Percentage Absolute Error: 21.3634\n",
      "Median Absolute Error: 1193.9285\n",
      "Median Percentage Absolute Error: 17.0561\n"
     ]
    }
   ],
   "source": [
    "# Get predictions\n",
    "pred_lasso = lasso.predict(X_test)\n",
    "\n",
    "# Get model metrics\n",
    "get_evaluation_metrics('LassoCV', pred_lasso)"
   ]
  },
  {
   "cell_type": "markdown",
   "metadata": {},
   "source": [
    "### RidgeCV <a class=\"anchor\" id=\"ridge\"></a>\n",
    "[Back to top!](#toc)"
   ]
  },
  {
   "cell_type": "code",
   "execution_count": 14,
   "metadata": {},
   "outputs": [
    {
     "data": {
      "text/plain": [
       "RidgeCV(alphas=array([ 0.1,  0.2,  0.3,  0.4,  0.5,  0.6,  0.7,  0.8,  0.9,  1. ,  1.1,\n",
       "        1.2,  1.3,  1.4,  1.5,  1.6,  1.7,  1.8,  1.9,  2. ,  2.1,  2.2,\n",
       "        2.3,  2.4,  2.5,  2.6,  2.7,  2.8,  2.9,  3. ,  3.1,  3.2,  3.3,\n",
       "        3.4,  3.5,  3.6,  3.7,  3.8,  3.9,  4. ,  4.1,  4.2,  4.3,  4.4,\n",
       "        4.5,  4.6,  4.7,  4.8,  4.9,  5. ,  5.1,  5.2,  5.3,  5.4,  5.5,\n",
       "        5.6,  5.7,  5.8,  5.9,  6. ,  6.1,  6.2,  6.3,  6.4,  6.5,  6.6,\n",
       "        6.7,  6.8,  6.9,  7. ,  7.1,  7.2,  7.3,  7.4,  7.5,  7.6,  7.7,\n",
       "        7.8,  7.9,  8. ,  8.1,  8.2,  8.3,  8.4,  8.5,  8.6,  8.7,  8.8,\n",
       "        8.9,  9. ,  9.1,  9.2,  9.3,  9.4,  9.5,  9.6,  9.7,  9.8,  9.9,\n",
       "       10. ]))"
      ]
     },
     "execution_count": 14,
     "metadata": {},
     "output_type": "execute_result"
    }
   ],
   "source": [
    "features = [col for col in df_v1.columns if col != 'salary_average']\n",
    "X = df_v1[features]\n",
    "y = df_v1['salary_average']\n",
    "\n",
    "X_train, X_test, y_train, y_test = train_test_split(X, y, random_state=123)\n",
    "\n",
    "ss = StandardScaler()\n",
    "ss.fit(X_train)\n",
    "X_train = ss.transform(X_train)\n",
    "X_test = ss.transform(X_test)\n",
    "\n",
    "ridge = RidgeCV(alphas=np.linspace(.1, 10, 100))\n",
    "ridge.fit(X_train, y_train)"
   ]
  },
  {
   "cell_type": "code",
   "execution_count": 15,
   "metadata": {},
   "outputs": [
    {
     "name": "stdout",
     "output_type": "stream",
     "text": [
      "RidgeCV\n",
      "------------\n",
      "Training score: 0.5427\n",
      "Testing score: 0.5269\n"
     ]
    }
   ],
   "source": [
    "get_scores('RidgeCV', ridge)\n",
    "\n",
    "# keeping variable for summary input later\n",
    "train_score_ridge = ridge.score(X_train, y_train)"
   ]
  },
  {
   "cell_type": "code",
   "execution_count": 16,
   "metadata": {},
   "outputs": [
    {
     "name": "stdout",
     "output_type": "stream",
     "text": [
      "RidgeCV\n",
      "------------\n",
      "R2 Score: 0.5269\n",
      "Mean Absolute Error: 1572.0656\n",
      "Mean Percentage Absolute Error: 21.5647\n",
      "Median Absolute Error: 1175.4893\n",
      "Median Percentage Absolute Error: 16.7927\n"
     ]
    }
   ],
   "source": [
    "# Get predictions\n",
    "pred_ridge = ridge.predict(X_test)\n",
    "\n",
    "# Get model metrics\n",
    "get_evaluation_metrics('RidgeCV', pred_ridge)"
   ]
  },
  {
   "cell_type": "markdown",
   "metadata": {},
   "source": [
    "### ElasticnetCV <a class=\"anchor\" id=\"elasticnet\"></a>\n",
    "[Back to top!](#toc)"
   ]
  },
  {
   "cell_type": "code",
   "execution_count": 17,
   "metadata": {},
   "outputs": [
    {
     "data": {
      "text/plain": [
       "ElasticNetCV()"
      ]
     },
     "execution_count": 17,
     "metadata": {},
     "output_type": "execute_result"
    }
   ],
   "source": [
    "features = [col for col in df_v1.columns if col != 'salary_average']\n",
    "X = df_v1[features]\n",
    "y = df_v1['salary_average']\n",
    "\n",
    "X_train, X_test, y_train, y_test = train_test_split(X, y, random_state=123)\n",
    "\n",
    "ss = StandardScaler()\n",
    "ss.fit(X_train)\n",
    "X_train = ss.transform(X_train)\n",
    "X_test = ss.transform(X_test)\n",
    "\n",
    "enet = ElasticNetCV()\n",
    "enet.fit(X_train, y_train)"
   ]
  },
  {
   "cell_type": "code",
   "execution_count": 18,
   "metadata": {},
   "outputs": [
    {
     "name": "stdout",
     "output_type": "stream",
     "text": [
      "ElasticNetCV\n",
      "------------\n",
      "Training score: 0.4001\n",
      "Testing score: 0.4084\n"
     ]
    }
   ],
   "source": [
    "get_scores('ElasticNetCV', enet)\n",
    "\n",
    "# keeping variable for summary input later\n",
    "train_score_enet = enet.score(X_train, y_train)"
   ]
  },
  {
   "cell_type": "code",
   "execution_count": 19,
   "metadata": {},
   "outputs": [
    {
     "name": "stdout",
     "output_type": "stream",
     "text": [
      "ElasticNetCV\n",
      "------------\n",
      "R2 Score: 0.4084\n",
      "Mean Absolute Error: 1757.0581\n",
      "Mean Percentage Absolute Error: 24.1023\n",
      "Median Absolute Error: 1348.8741\n",
      "Median Percentage Absolute Error: 19.2696\n"
     ]
    }
   ],
   "source": [
    "# Get predictions\n",
    "pred_enet = enet.predict(X_test)\n",
    "\n",
    "# Get model metrics\n",
    "get_evaluation_metrics('ElasticNetCV', pred_enet)"
   ]
  },
  {
   "cell_type": "markdown",
   "metadata": {},
   "source": [
    "### AdaBoost Regressor <a class=\"anchor\" id=\"ada\"></a>\n",
    "[Back to top!](#toc)"
   ]
  },
  {
   "cell_type": "code",
   "execution_count": 20,
   "metadata": {},
   "outputs": [
    {
     "data": {
      "text/plain": [
       "AdaBoostRegressor(n_estimators=100, random_state=123)"
      ]
     },
     "execution_count": 20,
     "metadata": {},
     "output_type": "execute_result"
    }
   ],
   "source": [
    "features = [col for col in df_v1.columns if col != 'salary_average']\n",
    "X = df_v1[features]\n",
    "y = df_v1['salary_average']\n",
    "\n",
    "X_train, X_test, y_train, y_test = train_test_split(X, y, random_state=123)\n",
    "\n",
    "ss = StandardScaler()\n",
    "ss.fit(X_train)\n",
    "X_train = ss.transform(X_train)\n",
    "X_test = ss.transform(X_test)\n",
    "\n",
    "ada = AdaBoostRegressor(n_estimators=100, random_state=123)\n",
    "ada.fit(X_train, y_train)"
   ]
  },
  {
   "cell_type": "code",
   "execution_count": 21,
   "metadata": {},
   "outputs": [
    {
     "name": "stdout",
     "output_type": "stream",
     "text": [
      "AdaBoost Regressor\n",
      "------------\n",
      "Training score: 0.3725\n",
      "Testing score: 0.327\n"
     ]
    }
   ],
   "source": [
    "get_scores('AdaBoost Regressor', ada)\n",
    "\n",
    "# keeping variable for summary input later\n",
    "train_score_ada = ada.score(X_train, y_train)"
   ]
  },
  {
   "cell_type": "code",
   "execution_count": 22,
   "metadata": {},
   "outputs": [
    {
     "name": "stdout",
     "output_type": "stream",
     "text": [
      "AdaBoost Regressor\n",
      "------------\n",
      "R2 Score: 0.327\n",
      "Mean Absolute Error: 2068.4509\n",
      "Mean Percentage Absolute Error: 28.3738\n",
      "Median Absolute Error: 1832.9211\n",
      "Median Percentage Absolute Error: 26.1846\n"
     ]
    }
   ],
   "source": [
    "# Get predictions\n",
    "pred_ada = ada.predict(X_test)\n",
    "\n",
    "# Get model metrics\n",
    "get_evaluation_metrics('AdaBoost Regressor', pred_ada)"
   ]
  },
  {
   "cell_type": "markdown",
   "metadata": {},
   "source": [
    "### Bagging Regressor <a class=\"anchor\" id=\"bagr\"></a>\n",
    "[Back to top!](#toc)"
   ]
  },
  {
   "cell_type": "code",
   "execution_count": 23,
   "metadata": {},
   "outputs": [
    {
     "data": {
      "text/plain": [
       "BaggingRegressor(base_estimator=SVR(), random_state=123)"
      ]
     },
     "execution_count": 23,
     "metadata": {},
     "output_type": "execute_result"
    }
   ],
   "source": [
    "features = [col for col in df_v1.columns if col != 'salary_average']\n",
    "X = df_v1[features]\n",
    "y = df_v1['salary_average']\n",
    "\n",
    "X_train, X_test, y_train, y_test = train_test_split(X, y, random_state=123)\n",
    "\n",
    "ss = StandardScaler()\n",
    "ss.fit(X_train)\n",
    "X_train = ss.transform(X_train)\n",
    "X_test = ss.transform(X_test)\n",
    "\n",
    "bagr = BaggingRegressor(base_estimator=SVR(), n_estimators=10, random_state=123)\n",
    "bagr.fit(X_train, y_train)"
   ]
  },
  {
   "cell_type": "code",
   "execution_count": 24,
   "metadata": {},
   "outputs": [
    {
     "name": "stdout",
     "output_type": "stream",
     "text": [
      "Bagging Regressor\n",
      "------------\n",
      "Training score: -0.0288\n",
      "Testing score: -0.0261\n"
     ]
    }
   ],
   "source": [
    "get_scores('Bagging Regressor', bagr)\n",
    "\n",
    "# keeping variable for summary input later\n",
    "train_score_bagr = bagr.score(X_train, y_train)"
   ]
  },
  {
   "cell_type": "code",
   "execution_count": 25,
   "metadata": {},
   "outputs": [
    {
     "name": "stdout",
     "output_type": "stream",
     "text": [
      "Bagging Regressor\n",
      "------------\n",
      "R2 Score: -0.0261\n",
      "Mean Absolute Error: 2275.5426\n",
      "Mean Percentage Absolute Error: 31.2146\n",
      "Median Absolute Error: 1675.107\n",
      "Median Percentage Absolute Error: 23.9301\n"
     ]
    }
   ],
   "source": [
    "# Get predictions\n",
    "pred_bagr = bagr.predict(X_test)\n",
    "\n",
    "# Get model metrics\n",
    "get_evaluation_metrics('Bagging Regressor', pred_bagr)"
   ]
  },
  {
   "cell_type": "markdown",
   "metadata": {},
   "source": [
    "### Gradient Boosting Regressor <a class=\"anchor\" id=\"gbr\"></a>\n",
    "[Back to top!](#toc)"
   ]
  },
  {
   "cell_type": "code",
   "execution_count": 26,
   "metadata": {},
   "outputs": [
    {
     "data": {
      "text/plain": [
       "GradientBoostingRegressor(random_state=123)"
      ]
     },
     "execution_count": 26,
     "metadata": {},
     "output_type": "execute_result"
    }
   ],
   "source": [
    "features = [col for col in df_v1.columns if col != 'salary_average']\n",
    "X = df_v1[features]\n",
    "y = df_v1['salary_average']\n",
    "\n",
    "X_train, X_test, y_train, y_test = train_test_split(X, y, random_state=123)\n",
    "\n",
    "ss = StandardScaler()\n",
    "ss.fit(X_train)\n",
    "X_train = ss.transform(X_train)\n",
    "X_test = ss.transform(X_test)\n",
    "\n",
    "gbr = GradientBoostingRegressor(random_state=123)\n",
    "gbr.fit(X_train, y_train)"
   ]
  },
  {
   "cell_type": "code",
   "execution_count": 27,
   "metadata": {},
   "outputs": [
    {
     "name": "stdout",
     "output_type": "stream",
     "text": [
      "Gradient Boosting Regressor\n",
      "------------\n",
      "Training score: 0.6212\n",
      "Testing score: 0.5301\n"
     ]
    }
   ],
   "source": [
    "get_scores('Gradient Boosting Regressor', gbr)\n",
    "\n",
    "# keeping variable for summary input later\n",
    "train_score_gbr = gbr.score(X_train, y_train)"
   ]
  },
  {
   "cell_type": "code",
   "execution_count": 28,
   "metadata": {},
   "outputs": [
    {
     "name": "stdout",
     "output_type": "stream",
     "text": [
      "Bagging Regressor\n",
      "------------\n",
      "R2 Score: 0.5301\n",
      "Mean Absolute Error: 1539.8522\n",
      "Mean Percentage Absolute Error: 21.1228\n",
      "Median Absolute Error: 1164.8923\n",
      "Median Percentage Absolute Error: 16.6413\n"
     ]
    }
   ],
   "source": [
    "# Get predictions\n",
    "pred_gbr = gbr.predict(X_test)\n",
    "\n",
    "# Get model metrics\n",
    "get_evaluation_metrics('Bagging Regressor', pred_gbr)"
   ]
  },
  {
   "cell_type": "markdown",
   "metadata": {},
   "source": [
    "### Random Forest Regressor <a class=\"anchor\" id=\"rfr\"></a>\n",
    "[Back to top!](#toc)"
   ]
  },
  {
   "cell_type": "code",
   "execution_count": 29,
   "metadata": {},
   "outputs": [
    {
     "data": {
      "text/plain": [
       "RandomForestRegressor(max_depth=100)"
      ]
     },
     "execution_count": 29,
     "metadata": {},
     "output_type": "execute_result"
    }
   ],
   "source": [
    "features = [col for col in df_v1.columns if col != 'salary_average']\n",
    "X = df_v1[features]\n",
    "y = df_v1['salary_average']\n",
    "\n",
    "X_train, X_test, y_train, y_test = train_test_split(X, y, random_state=123)\n",
    "\n",
    "ss = StandardScaler()\n",
    "ss.fit(X_train)\n",
    "X_train = ss.transform(X_train)\n",
    "X_test = ss.transform(X_test)\n",
    "\n",
    "rfr = RandomForestRegressor(max_depth=100)\n",
    "rfr.fit(X_train, y_train)"
   ]
  },
  {
   "cell_type": "code",
   "execution_count": 30,
   "metadata": {},
   "outputs": [
    {
     "name": "stdout",
     "output_type": "stream",
     "text": [
      "Random Forest Regressor\n",
      "------------\n",
      "Training score: 0.9332\n",
      "Testing score: 0.5545\n"
     ]
    }
   ],
   "source": [
    "get_scores('Random Forest Regressor', rfr)\n",
    "\n",
    "# keeping variable for summary input later\n",
    "train_score_rfr = rfr.score(X_train, y_train)"
   ]
  },
  {
   "cell_type": "code",
   "execution_count": 31,
   "metadata": {},
   "outputs": [
    {
     "name": "stdout",
     "output_type": "stream",
     "text": [
      "Random Forest Regressor\n",
      "------------\n",
      "R2 Score: 0.5545\n",
      "Mean Absolute Error: 1471.8029\n",
      "Mean Percentage Absolute Error: 20.1893\n",
      "Median Absolute Error: 1050.0\n",
      "Median Percentage Absolute Error: 15.0\n"
     ]
    }
   ],
   "source": [
    "# Get predictions\n",
    "pred_rfr = rfr.predict(X_test)\n",
    "\n",
    "# Get model metrics\n",
    "get_evaluation_metrics('Random Forest Regressor', pred_rfr)"
   ]
  },
  {
   "cell_type": "markdown",
   "metadata": {},
   "source": [
    "### Extra Trees Regressor <a class=\"anchor\" id=\"etr\"></a>\n",
    "[Back to top!](#toc)"
   ]
  },
  {
   "cell_type": "code",
   "execution_count": 32,
   "metadata": {},
   "outputs": [
    {
     "data": {
      "text/plain": [
       "ExtraTreesRegressor(n_estimators=150)"
      ]
     },
     "execution_count": 32,
     "metadata": {},
     "output_type": "execute_result"
    }
   ],
   "source": [
    "features = [col for col in df_v1.columns if col != 'salary_average']\n",
    "X = df_v1[features]\n",
    "y = df_v1['salary_average']\n",
    "\n",
    "X_train, X_test, y_train, y_test = train_test_split(X, y, random_state=123)\n",
    "\n",
    "ss = StandardScaler()\n",
    "ss.fit(X_train)\n",
    "X_train = ss.transform(X_train)\n",
    "X_test = ss.transform(X_test)\n",
    "\n",
    "etr = ExtraTreesRegressor(n_estimators=150)\n",
    "etr.fit(X_train, y_train)"
   ]
  },
  {
   "cell_type": "code",
   "execution_count": 33,
   "metadata": {},
   "outputs": [
    {
     "name": "stdout",
     "output_type": "stream",
     "text": [
      "Extra Trees Regressor\n",
      "------------\n",
      "Training score: 0.998\n",
      "Testing score: 0.5399\n"
     ]
    }
   ],
   "source": [
    "get_scores('Extra Trees Regressor', etr)\n",
    "\n",
    "# keeping variable for summary input later\n",
    "train_score_etr = etr.score(X_train, y_train)"
   ]
  },
  {
   "cell_type": "code",
   "execution_count": 34,
   "metadata": {},
   "outputs": [
    {
     "name": "stdout",
     "output_type": "stream",
     "text": [
      "Extra Trees Regressor\n",
      "------------\n",
      "R2 Score: 0.5399\n",
      "Mean Absolute Error: 1465.1384\n",
      "Mean Percentage Absolute Error: 20.0979\n",
      "Median Absolute Error: 1006.36\n",
      "Median Percentage Absolute Error: 14.3766\n"
     ]
    }
   ],
   "source": [
    "# Get predictions\n",
    "pred_etr = etr.predict(X_test)\n",
    "\n",
    "# Get model metrics\n",
    "get_evaluation_metrics('Extra Trees Regressor', pred_etr)"
   ]
  },
  {
   "cell_type": "code",
   "execution_count": null,
   "metadata": {},
   "outputs": [],
   "source": []
  },
  {
   "cell_type": "markdown",
   "metadata": {},
   "source": [
    "### Support Vector Machine for Regression <a class=\"anchor\" id=\"svr\"></a>\n",
    "[Back to top!](#toc)"
   ]
  },
  {
   "cell_type": "code",
   "execution_count": 35,
   "metadata": {},
   "outputs": [
    {
     "data": {
      "text/plain": [
       "SVR(epsilon=0.2)"
      ]
     },
     "execution_count": 35,
     "metadata": {},
     "output_type": "execute_result"
    }
   ],
   "source": [
    "features = [col for col in df_v1.columns if col != 'salary_average']\n",
    "X = df_v1[features]\n",
    "y = df_v1['salary_average']\n",
    "\n",
    "X_train, X_test, y_train, y_test = train_test_split(X, y, random_state=123)\n",
    "\n",
    "ss = StandardScaler()\n",
    "ss.fit(X_train)\n",
    "X_train = ss.transform(X_train)\n",
    "X_test = ss.transform(X_test)\n",
    "\n",
    "svr = SVR(C=1.0, epsilon=0.2)\n",
    "svr.fit(X_train, y_train)"
   ]
  },
  {
   "cell_type": "code",
   "execution_count": 36,
   "metadata": {},
   "outputs": [
    {
     "name": "stdout",
     "output_type": "stream",
     "text": [
      "SVM for Regression\n",
      "------------\n",
      "Training score: -0.0264\n",
      "Testing score: -0.0238\n"
     ]
    }
   ],
   "source": [
    "get_scores('SVM for Regression', svr)\n",
    "\n",
    "# keeping variable for summary input later\n",
    "train_score_svr = svr.score(X_train, y_train)"
   ]
  },
  {
   "cell_type": "code",
   "execution_count": 37,
   "metadata": {},
   "outputs": [
    {
     "name": "stdout",
     "output_type": "stream",
     "text": [
      "SVM for Regression\n",
      "------------\n",
      "R2 Score: -0.0238\n",
      "Mean Absolute Error: 2274.5381\n",
      "Mean Percentage Absolute Error: 31.2008\n",
      "Median Absolute Error: 1693.8366\n",
      "Median Percentage Absolute Error: 24.1977\n"
     ]
    }
   ],
   "source": [
    "# Get predictions\n",
    "pred_svr = svr.predict(X_test)\n",
    "\n",
    "# Get model metrics\n",
    "get_evaluation_metrics('SVM for Regression', pred_svr)"
   ]
  },
  {
   "cell_type": "code",
   "execution_count": null,
   "metadata": {},
   "outputs": [],
   "source": []
  },
  {
   "cell_type": "markdown",
   "metadata": {},
   "source": [
    "### Summary of metrics for regression modelling of target variable `salary_average` <a class=\"anchor\" id=\"summary\"></a>\n",
    "[Back to top!](#toc)"
   ]
  },
  {
   "cell_type": "code",
   "execution_count": 38,
   "metadata": {},
   "outputs": [
    {
     "data": {
      "text/html": [
       "<div>\n",
       "<style scoped>\n",
       "    .dataframe tbody tr th:only-of-type {\n",
       "        vertical-align: middle;\n",
       "    }\n",
       "\n",
       "    .dataframe tbody tr th {\n",
       "        vertical-align: top;\n",
       "    }\n",
       "\n",
       "    .dataframe thead th {\n",
       "        text-align: right;\n",
       "    }\n",
       "</style>\n",
       "<table border=\"1\" class=\"dataframe\">\n",
       "  <thead>\n",
       "    <tr style=\"text-align: right;\">\n",
       "      <th></th>\n",
       "      <th>Model</th>\n",
       "      <th>Train Score</th>\n",
       "      <th>Test Score</th>\n",
       "      <th>Mean Absolute Error</th>\n",
       "      <th>Mean Percentage Absolute Error</th>\n",
       "      <th>Median Absolute Error</th>\n",
       "      <th>Median Percentage Absolute Error</th>\n",
       "    </tr>\n",
       "  </thead>\n",
       "  <tbody>\n",
       "    <tr>\n",
       "      <th>0</th>\n",
       "      <td>Linear Regression v1</td>\n",
       "      <td>0.543</td>\n",
       "      <td>0.527</td>\n",
       "      <td>1572.518</td>\n",
       "      <td>21.571</td>\n",
       "      <td>1176.732</td>\n",
       "      <td>16.811</td>\n",
       "    </tr>\n",
       "    <tr>\n",
       "      <th>1</th>\n",
       "      <td>LassoCV v1</td>\n",
       "      <td>0.540</td>\n",
       "      <td>0.530</td>\n",
       "      <td>1557.389</td>\n",
       "      <td>21.363</td>\n",
       "      <td>1193.928</td>\n",
       "      <td>17.056</td>\n",
       "    </tr>\n",
       "    <tr>\n",
       "      <th>2</th>\n",
       "      <td>RidgeCV v1</td>\n",
       "      <td>0.543</td>\n",
       "      <td>0.527</td>\n",
       "      <td>1572.066</td>\n",
       "      <td>21.565</td>\n",
       "      <td>1175.489</td>\n",
       "      <td>16.793</td>\n",
       "    </tr>\n",
       "    <tr>\n",
       "      <th>3</th>\n",
       "      <td>ElasticnetCV v1</td>\n",
       "      <td>0.400</td>\n",
       "      <td>0.408</td>\n",
       "      <td>1757.058</td>\n",
       "      <td>24.102</td>\n",
       "      <td>1348.874</td>\n",
       "      <td>19.270</td>\n",
       "    </tr>\n",
       "    <tr>\n",
       "      <th>4</th>\n",
       "      <td>AdaBoost Regressor v1</td>\n",
       "      <td>0.372</td>\n",
       "      <td>0.327</td>\n",
       "      <td>2068.451</td>\n",
       "      <td>28.374</td>\n",
       "      <td>1832.921</td>\n",
       "      <td>26.185</td>\n",
       "    </tr>\n",
       "    <tr>\n",
       "      <th>5</th>\n",
       "      <td>Bagging Regressor v1</td>\n",
       "      <td>-0.029</td>\n",
       "      <td>-0.026</td>\n",
       "      <td>2275.543</td>\n",
       "      <td>31.215</td>\n",
       "      <td>1675.107</td>\n",
       "      <td>23.930</td>\n",
       "    </tr>\n",
       "    <tr>\n",
       "      <th>6</th>\n",
       "      <td>Gradient Boosting Regressor v1</td>\n",
       "      <td>0.621</td>\n",
       "      <td>0.530</td>\n",
       "      <td>1539.852</td>\n",
       "      <td>21.123</td>\n",
       "      <td>1164.892</td>\n",
       "      <td>16.641</td>\n",
       "    </tr>\n",
       "    <tr>\n",
       "      <th>7</th>\n",
       "      <td>Random Forest Regressor v1</td>\n",
       "      <td>0.933</td>\n",
       "      <td>0.554</td>\n",
       "      <td>1471.803</td>\n",
       "      <td>20.189</td>\n",
       "      <td>1050.000</td>\n",
       "      <td>15.000</td>\n",
       "    </tr>\n",
       "    <tr>\n",
       "      <th>8</th>\n",
       "      <td>Extra Trees Regressor v1</td>\n",
       "      <td>0.998</td>\n",
       "      <td>0.540</td>\n",
       "      <td>1465.138</td>\n",
       "      <td>20.098</td>\n",
       "      <td>1006.360</td>\n",
       "      <td>14.377</td>\n",
       "    </tr>\n",
       "    <tr>\n",
       "      <th>9</th>\n",
       "      <td>Support Vector Machine for Regression v1</td>\n",
       "      <td>-0.026</td>\n",
       "      <td>-0.024</td>\n",
       "      <td>2274.538</td>\n",
       "      <td>31.201</td>\n",
       "      <td>1693.837</td>\n",
       "      <td>24.198</td>\n",
       "    </tr>\n",
       "  </tbody>\n",
       "</table>\n",
       "</div>"
      ],
      "text/plain": [
       "                                      Model  Train Score  Test Score  \\\n",
       "0                      Linear Regression v1        0.543       0.527   \n",
       "1                                LassoCV v1        0.540       0.530   \n",
       "2                                RidgeCV v1        0.543       0.527   \n",
       "3                           ElasticnetCV v1        0.400       0.408   \n",
       "4                     AdaBoost Regressor v1        0.372       0.327   \n",
       "5                      Bagging Regressor v1       -0.029      -0.026   \n",
       "6            Gradient Boosting Regressor v1        0.621       0.530   \n",
       "7                Random Forest Regressor v1        0.933       0.554   \n",
       "8                  Extra Trees Regressor v1        0.998       0.540   \n",
       "9  Support Vector Machine for Regression v1       -0.026      -0.024   \n",
       "\n",
       "   Mean Absolute Error  Mean Percentage Absolute Error  Median Absolute Error  \\\n",
       "0             1572.518                          21.571               1176.732   \n",
       "1             1557.389                          21.363               1193.928   \n",
       "2             1572.066                          21.565               1175.489   \n",
       "3             1757.058                          24.102               1348.874   \n",
       "4             2068.451                          28.374               1832.921   \n",
       "5             2275.543                          31.215               1675.107   \n",
       "6             1539.852                          21.123               1164.892   \n",
       "7             1471.803                          20.189               1050.000   \n",
       "8             1465.138                          20.098               1006.360   \n",
       "9             2274.538                          31.201               1693.837   \n",
       "\n",
       "   Median Percentage Absolute Error  \n",
       "0                            16.811  \n",
       "1                            17.056  \n",
       "2                            16.793  \n",
       "3                            19.270  \n",
       "4                            26.185  \n",
       "5                            23.930  \n",
       "6                            16.641  \n",
       "7                            15.000  \n",
       "8                            14.377  \n",
       "9                            24.198  "
      ]
     },
     "execution_count": 38,
     "metadata": {},
     "output_type": "execute_result"
    }
   ],
   "source": [
    "# list of dict\n",
    "summary_v1 = [{'Model': 'Linear Regression v1', \n",
    "            'Train Score': train_score_linreg, \n",
    "            'Test Score': r2_score(y_test, pred_linreg),\n",
    "            'Mean Absolute Error': mean_absolute_error(y_test, pred_linreg), \n",
    "            'Mean Percentage Absolute Error': (mean_absolute_error(y_test, pred_linreg) / y_test.mean())*100,\n",
    "            'Median Absolute Error': median_absolute_error(y_test, pred_linreg),\n",
    "            'Median Percentage Absolute Error': (median_absolute_error(y_test, pred_linreg) / y_test.median())*100},\n",
    "           {'Model': 'LassoCV v1', \n",
    "            'Train Score': train_score_lasso, \n",
    "            'Test Score': r2_score(y_test, pred_lasso),\n",
    "            'Mean Absolute Error': mean_absolute_error(y_test, pred_lasso), \n",
    "            'Mean Percentage Absolute Error': (mean_absolute_error(y_test, pred_lasso) / y_test.mean())*100,\n",
    "            'Median Absolute Error': median_absolute_error(y_test, pred_lasso),\n",
    "            'Median Percentage Absolute Error': (median_absolute_error(y_test, pred_lasso) / y_test.median())*100},\n",
    "           {'Model': 'RidgeCV v1', \n",
    "            'Train Score': train_score_ridge, \n",
    "            'Test Score': r2_score(y_test, pred_ridge),\n",
    "            'Mean Absolute Error': mean_absolute_error(y_test, pred_ridge), \n",
    "            'Mean Percentage Absolute Error': (mean_absolute_error(y_test, pred_ridge) / y_test.mean())*100,\n",
    "            'Median Absolute Error': median_absolute_error(y_test, pred_ridge),\n",
    "            'Median Percentage Absolute Error': (median_absolute_error(y_test, pred_ridge) / y_test.median())*100},\n",
    "           {'Model': 'ElasticnetCV v1', \n",
    "            'Train Score': train_score_enet, \n",
    "            'Test Score': r2_score(y_test, pred_enet),\n",
    "            'Mean Absolute Error': mean_absolute_error(y_test, pred_enet), \n",
    "            'Mean Percentage Absolute Error': (mean_absolute_error(y_test, pred_enet) / y_test.mean())*100,\n",
    "            'Median Absolute Error': median_absolute_error(y_test, pred_enet),\n",
    "            'Median Percentage Absolute Error': (median_absolute_error(y_test, pred_enet) / y_test.median())*100},\n",
    "           {'Model': 'AdaBoost Regressor v1', \n",
    "            'Train Score': train_score_ada, \n",
    "            'Test Score': r2_score(y_test, pred_ada),\n",
    "            'Mean Absolute Error': mean_absolute_error(y_test, pred_ada), \n",
    "            'Mean Percentage Absolute Error': (mean_absolute_error(y_test, pred_ada) / y_test.mean())*100,\n",
    "            'Median Absolute Error': median_absolute_error(y_test, pred_ada),\n",
    "            'Median Percentage Absolute Error': (median_absolute_error(y_test, pred_ada) / y_test.median())*100},\n",
    "           {'Model': 'Bagging Regressor v1', \n",
    "            'Train Score': train_score_bagr, \n",
    "            'Test Score': r2_score(y_test, pred_bagr),\n",
    "            'Mean Absolute Error': mean_absolute_error(y_test, pred_bagr), \n",
    "            'Mean Percentage Absolute Error': (mean_absolute_error(y_test, pred_bagr) / y_test.mean())*100,\n",
    "            'Median Absolute Error': median_absolute_error(y_test, pred_bagr),\n",
    "            'Median Percentage Absolute Error': (median_absolute_error(y_test, pred_bagr) / y_test.median())*100},\n",
    "           {'Model': 'Gradient Boosting Regressor v1', \n",
    "            'Train Score': train_score_gbr, \n",
    "            'Test Score': r2_score(y_test, pred_gbr),\n",
    "            'Mean Absolute Error': mean_absolute_error(y_test, pred_gbr), \n",
    "            'Mean Percentage Absolute Error': (mean_absolute_error(y_test, pred_gbr) / y_test.mean())*100,\n",
    "            'Median Absolute Error': median_absolute_error(y_test, pred_gbr),\n",
    "            'Median Percentage Absolute Error': (median_absolute_error(y_test, pred_gbr) / y_test.median())*100},\n",
    "           {'Model': 'Random Forest Regressor v1', \n",
    "            'Train Score': train_score_rfr, \n",
    "            'Test Score': r2_score(y_test, pred_rfr),\n",
    "            'Mean Absolute Error': mean_absolute_error(y_test, pred_rfr), \n",
    "            'Mean Percentage Absolute Error': (mean_absolute_error(y_test, pred_rfr) / y_test.mean())*100,\n",
    "            'Median Absolute Error': median_absolute_error(y_test, pred_rfr),\n",
    "            'Median Percentage Absolute Error': (median_absolute_error(y_test, pred_rfr) / y_test.median())*100},\n",
    "           {'Model': 'Extra Trees Regressor v1', \n",
    "            'Train Score': train_score_etr, \n",
    "            'Test Score': r2_score(y_test, pred_etr),\n",
    "            'Mean Absolute Error': mean_absolute_error(y_test, pred_etr), \n",
    "            'Mean Percentage Absolute Error': (mean_absolute_error(y_test, pred_etr) / y_test.mean())*100,\n",
    "            'Median Absolute Error': median_absolute_error(y_test, pred_etr),\n",
    "            'Median Percentage Absolute Error': (median_absolute_error(y_test, pred_etr) / y_test.median())*100},\n",
    "           {'Model': 'Support Vector Machine for Regression v1', \n",
    "            'Train Score': train_score_svr, \n",
    "            'Test Score': r2_score(y_test, pred_svr),\n",
    "            'Mean Absolute Error': mean_absolute_error(y_test, pred_svr), \n",
    "            'Mean Percentage Absolute Error': (mean_absolute_error(y_test, pred_svr) / y_test.mean())*100,\n",
    "            'Median Absolute Error': median_absolute_error(y_test, pred_svr),\n",
    "            'Median Percentage Absolute Error': (median_absolute_error(y_test, pred_svr) / y_test.median())*100}]\n",
    "\n",
    "summary_v1 = pd.DataFrame(summary_v1)\n",
    "summary_v1.round(4) # rounding off values to 4 decimal places"
   ]
  },
  {
   "cell_type": "code",
   "execution_count": 39,
   "metadata": {},
   "outputs": [],
   "source": [
    "# exporting .csv for executive summary at the top\n",
    "summary_v1.to_csv('../data/model_metrics_v1.csv', index=False)"
   ]
  },
  {
   "cell_type": "code",
   "execution_count": null,
   "metadata": {},
   "outputs": [],
   "source": []
  },
  {
   "cell_type": "code",
   "execution_count": null,
   "metadata": {},
   "outputs": [],
   "source": []
  },
  {
   "cell_type": "markdown",
   "metadata": {},
   "source": [
    "## Regression Modelling for `salary_average_log` <a class=\"anchor\" id=\"salarylog\"></a>\n",
    "---\n",
    "[Back to top!](#toc)"
   ]
  },
  {
   "cell_type": "code",
   "execution_count": 40,
   "metadata": {
    "scrolled": true
   },
   "outputs": [
    {
     "name": "stdout",
     "output_type": "stream",
     "text": [
      "<class 'pandas.core.frame.DataFrame'>\n",
      "RangeIndex: 3969 entries, 0 to 3968\n",
      "Data columns (total 92 columns):\n",
      " #   Column                             Non-Null Count  Dtype  \n",
      "---  ------                             --------------  -----  \n",
      " 0   minimum_years_experience           3969 non-null   int64  \n",
      " 1   days_new_posting_closing           3969 non-null   float64\n",
      " 2   days_original_posting_closing      3969 non-null   float64\n",
      " 3   job_title_wordcount                3969 non-null   int64  \n",
      " 4   job_title_charcount                3969 non-null   int64  \n",
      " 5   job_description_wordcount          3969 non-null   int64  \n",
      " 6   job_description_charcount          3969 non-null   int64  \n",
      " 7   skills_num                         3969 non-null   int64  \n",
      " 8   skill_tableau                      3969 non-null   int64  \n",
      " 9   skill_datawarehouse                3969 non-null   int64  \n",
      " 10  skill_agile                        3969 non-null   int64  \n",
      " 11  skill_aws                          3969 non-null   int64  \n",
      " 12  skill_c#                           3969 non-null   int64  \n",
      " 13  skill_spring                       3969 non-null   int64  \n",
      " 14  skill_hadoop                       3969 non-null   int64  \n",
      " 15  skill_spark                        3969 non-null   int64  \n",
      " 16  skill_oracle                       3969 non-null   int64  \n",
      " 17  skill_stats                        3969 non-null   int64  \n",
      " 18  skill_datamining                   3969 non-null   int64  \n",
      " 19  skill_github                       3969 non-null   int64  \n",
      " 20  skill_sdlc                         3969 non-null   int64  \n",
      " 21  skill_c++                          3969 non-null   int64  \n",
      " 22  skill_cloud                        3969 non-null   int64  \n",
      " 23  skill_html                         3969 non-null   int64  \n",
      " 24  skill_javascript                   3969 non-null   int64  \n",
      " 25  skill_python                       3969 non-null   int64  \n",
      " 26  skill_azure                        3969 non-null   int64  \n",
      " 27  skill_linux                        3969 non-null   int64  \n",
      " 28  skill_unix                         3969 non-null   int64  \n",
      " 29  skill_ml                           3969 non-null   int64  \n",
      " 30  skill_algo                         3969 non-null   int64  \n",
      " 31  skill_java                         3969 non-null   int64  \n",
      " 32  skill_sql                          3969 non-null   int64  \n",
      " 33  categories_finance                 3969 non-null   int64  \n",
      " 34  categories_IT                      3969 non-null   int64  \n",
      " 35  categories_consulting              3969 non-null   int64  \n",
      " 36  categories_education               3969 non-null   int64  \n",
      " 37  categories_professional            3969 non-null   int64  \n",
      " 38  categories_others                  3969 non-null   int64  \n",
      " 39  categories_insurance               3969 non-null   int64  \n",
      " 40  categories_risk_mgmt               3969 non-null   int64  \n",
      " 41  categories_general_mgmt            3969 non-null   int64  \n",
      " 42  categories_engineering             3969 non-null   int64  \n",
      " 43  categories_civil_service           3969 non-null   int64  \n",
      " 44  categories_legal                   3969 non-null   int64  \n",
      " 45  categories_accounts                3969 non-null   int64  \n",
      " 46  categories_PR                      3969 non-null   int64  \n",
      " 47  categories_research                3969 non-null   int64  \n",
      " 48  categories_manufacturing           3969 non-null   int64  \n",
      " 49  categories_design                  3969 non-null   int64  \n",
      " 50  categories_telcom                  3969 non-null   int64  \n",
      " 51  categories_retail                  3969 non-null   int64  \n",
      " 52  categories_tourism                 3969 non-null   int64  \n",
      " 53  categories_advert                  3969 non-null   int64  \n",
      " 54  categories_admin                   3969 non-null   int64  \n",
      " 55  categories_maintenance             3969 non-null   int64  \n",
      " 56  categories_logistics               3969 non-null   int64  \n",
      " 57  categories_wholesale               3969 non-null   int64  \n",
      " 58  categories_social_services         3969 non-null   int64  \n",
      " 59  categories_security                3969 non-null   int64  \n",
      " 60  categories_property                3969 non-null   int64  \n",
      " 61  categories_therapy                 3969 non-null   int64  \n",
      " 62  categories_architecture            3969 non-null   int64  \n",
      " 63  categories_purchasing              3969 non-null   int64  \n",
      " 64  categories_HR                      3969 non-null   int64  \n",
      " 65  categories_entertainment           3969 non-null   int64  \n",
      " 66  categories_cust_service            3969 non-null   int64  \n",
      " 67  categories_env_health              3969 non-null   int64  \n",
      " 68  categories_construction            3969 non-null   int64  \n",
      " 69  categories_events                  3969 non-null   int64  \n",
      " 70  categories_general_work            3969 non-null   int64  \n",
      " 71  categories_FandB                   3969 non-null   int64  \n",
      " 72  categories_hospitality             3969 non-null   int64  \n",
      " 73  job_title_business analyst         3969 non-null   int64  \n",
      " 74  job_title_data analyst             3969 non-null   int64  \n",
      " 75  job_title_data engineer            3969 non-null   int64  \n",
      " 76  job_title_data quality management  3969 non-null   int64  \n",
      " 77  job_title_data scientist           3969 non-null   int64  \n",
      " 78  job_title_research scientist       3969 non-null   int64  \n",
      " 79  job_title_software developer       3969 non-null   int64  \n",
      " 80  job_title_software engineer        3969 non-null   int64  \n",
      " 81  job_title_system engineer          3969 non-null   int64  \n",
      " 82  position_level_entry level         3969 non-null   int64  \n",
      " 83  position_level_executive           3969 non-null   int64  \n",
      " 84  position_level_junior executive    3969 non-null   int64  \n",
      " 85  position_level_manager             3969 non-null   int64  \n",
      " 86  position_level_middle management   3969 non-null   int64  \n",
      " 87  position_level_non-executive       3969 non-null   int64  \n",
      " 88  position_level_professional        3969 non-null   int64  \n",
      " 89  position_level_senior executive    3969 non-null   int64  \n",
      " 90  position_level_senior management   3969 non-null   int64  \n",
      " 91  salary_average_log                 3969 non-null   float64\n",
      "dtypes: float64(3), int64(89)\n",
      "memory usage: 2.8 MB\n"
     ]
    }
   ],
   "source": [
    "df_v2 = pd.read_csv('../data/modelling_dataset_v2.csv')\n",
    "df_v2.info()"
   ]
  },
  {
   "cell_type": "markdown",
   "metadata": {},
   "source": [
    "### Linear Regression <a class=\"anchor\" id=\"linreg_log\"></a>\n",
    "[Back to top!](#toc)"
   ]
  },
  {
   "cell_type": "code",
   "execution_count": 41,
   "metadata": {},
   "outputs": [
    {
     "data": {
      "text/plain": [
       "LinearRegression()"
      ]
     },
     "execution_count": 41,
     "metadata": {},
     "output_type": "execute_result"
    }
   ],
   "source": [
    "features = [col for col in df_v2.columns if col != 'salary_average_log']\n",
    "X = df_v2[features]\n",
    "y = df_v2['salary_average_log']\n",
    "\n",
    "X_train, X_test, y_train, y_test = train_test_split(X, y, random_state=123)\n",
    "\n",
    "ss = StandardScaler()\n",
    "ss.fit(X_train)\n",
    "X_train = ss.transform(X_train)\n",
    "X_test = ss.transform(X_test)\n",
    "\n",
    "linreg_log = LinearRegression()\n",
    "linreg_log.fit(X_train, y_train)"
   ]
  },
  {
   "cell_type": "code",
   "execution_count": 42,
   "metadata": {},
   "outputs": [
    {
     "name": "stdout",
     "output_type": "stream",
     "text": [
      "Linear Regression\n",
      "------------\n",
      "Training score: 0.5645\n",
      "Testing score: 0.561\n"
     ]
    }
   ],
   "source": [
    "get_scores('Linear Regression', linreg_log)\n",
    "\n",
    "# keeping variable for summary input later\n",
    "train_score_linreg_log = linreg_log.score(X_train, y_train)"
   ]
  },
  {
   "cell_type": "code",
   "execution_count": 43,
   "metadata": {},
   "outputs": [
    {
     "name": "stdout",
     "output_type": "stream",
     "text": [
      "Linear Regression\n",
      "------------\n",
      "R2 Score: 0.561\n",
      "Mean Absolute Error: 1567.7916\n",
      "Mean Percentage Absolute Error: 21.5061\n",
      "Median Absolute Error: 1089.2433\n",
      "Median Percentage Absolute Error: 15.5606\n"
     ]
    }
   ],
   "source": [
    "# Get predictions\n",
    "pred_linreg_log = linreg_log.predict(X_test)\n",
    "pred_linreg_exp = np.exp(pred_linreg_log)\n",
    "y_test_exp = np.exp(y_test)\n",
    "\n",
    "# Get model metrics\n",
    "get_evaluation_metrics_log('Linear Regression', pred_linreg_log, pred_linreg_exp)"
   ]
  },
  {
   "cell_type": "markdown",
   "metadata": {},
   "source": [
    "### LassoCV <a class=\"anchor\" id=\"lasso_log\"></a>\n",
    "[Back to top!](#toc)"
   ]
  },
  {
   "cell_type": "code",
   "execution_count": 44,
   "metadata": {},
   "outputs": [
    {
     "data": {
      "text/plain": [
       "LassoCV(n_alphas=200)"
      ]
     },
     "execution_count": 44,
     "metadata": {},
     "output_type": "execute_result"
    }
   ],
   "source": [
    "features = [col for col in df_v2.columns if col != 'salary_average_log']\n",
    "X = df_v2[features]\n",
    "y = df_v2['salary_average_log']\n",
    "\n",
    "X_train, X_test, y_train, y_test = train_test_split(X, y, random_state=123)\n",
    "\n",
    "ss = StandardScaler()\n",
    "ss.fit(X_train)\n",
    "X_train = ss.transform(X_train)\n",
    "X_test = ss.transform(X_test)\n",
    "\n",
    "lasso_log = LassoCV(n_alphas=200)\n",
    "lasso_log.fit(X_train, y_train)"
   ]
  },
  {
   "cell_type": "code",
   "execution_count": 45,
   "metadata": {},
   "outputs": [
    {
     "name": "stdout",
     "output_type": "stream",
     "text": [
      "LassoCV\n",
      "------------\n",
      "Training score: 0.5607\n",
      "Testing score: 0.5635\n"
     ]
    }
   ],
   "source": [
    "get_scores('LassoCV', lasso_log)\n",
    "\n",
    "# keeping variable for summary input later\n",
    "train_score_lasso_log = lasso_log.score(X_train, y_train)"
   ]
  },
  {
   "cell_type": "code",
   "execution_count": 46,
   "metadata": {},
   "outputs": [
    {
     "name": "stdout",
     "output_type": "stream",
     "text": [
      "LassoCV\n",
      "------------\n",
      "R2 Score: 0.5635\n",
      "Mean Absolute Error: 1558.8956\n",
      "Mean Percentage Absolute Error: 21.384\n",
      "Median Absolute Error: 1093.647\n",
      "Median Percentage Absolute Error: 15.6235\n"
     ]
    }
   ],
   "source": [
    "# Get predictions\n",
    "pred_lasso_log = lasso_log.predict(X_test)\n",
    "pred_lasso_exp = np.exp(pred_lasso_log)\n",
    "y_test_exp = np.exp(y_test)\n",
    "\n",
    "# Get model metrics\n",
    "get_evaluation_metrics_log('LassoCV', pred_lasso_log, pred_lasso_exp)"
   ]
  },
  {
   "cell_type": "markdown",
   "metadata": {},
   "source": [
    "### RidgeCV <a class=\"anchor\" id=\"ridge_log\"></a>\n",
    "[Back to top!](#toc)"
   ]
  },
  {
   "cell_type": "code",
   "execution_count": 47,
   "metadata": {},
   "outputs": [
    {
     "data": {
      "text/plain": [
       "RidgeCV(alphas=array([ 0.1,  0.2,  0.3,  0.4,  0.5,  0.6,  0.7,  0.8,  0.9,  1. ,  1.1,\n",
       "        1.2,  1.3,  1.4,  1.5,  1.6,  1.7,  1.8,  1.9,  2. ,  2.1,  2.2,\n",
       "        2.3,  2.4,  2.5,  2.6,  2.7,  2.8,  2.9,  3. ,  3.1,  3.2,  3.3,\n",
       "        3.4,  3.5,  3.6,  3.7,  3.8,  3.9,  4. ,  4.1,  4.2,  4.3,  4.4,\n",
       "        4.5,  4.6,  4.7,  4.8,  4.9,  5. ,  5.1,  5.2,  5.3,  5.4,  5.5,\n",
       "        5.6,  5.7,  5.8,  5.9,  6. ,  6.1,  6.2,  6.3,  6.4,  6.5,  6.6,\n",
       "        6.7,  6.8,  6.9,  7. ,  7.1,  7.2,  7.3,  7.4,  7.5,  7.6,  7.7,\n",
       "        7.8,  7.9,  8. ,  8.1,  8.2,  8.3,  8.4,  8.5,  8.6,  8.7,  8.8,\n",
       "        8.9,  9. ,  9.1,  9.2,  9.3,  9.4,  9.5,  9.6,  9.7,  9.8,  9.9,\n",
       "       10. ]))"
      ]
     },
     "execution_count": 47,
     "metadata": {},
     "output_type": "execute_result"
    }
   ],
   "source": [
    "features = [col for col in df_v2.columns if col != 'salary_average_log']\n",
    "X = df_v2[features]\n",
    "y = df_v2['salary_average_log']\n",
    "\n",
    "X_train, X_test, y_train, y_test = train_test_split(X, y, random_state=123)\n",
    "\n",
    "ss = StandardScaler()\n",
    "ss.fit(X_train)\n",
    "X_train = ss.transform(X_train)\n",
    "X_test = ss.transform(X_test)\n",
    "\n",
    "ridge_log = RidgeCV(alphas=np.linspace(.1, 10, 100))\n",
    "ridge_log.fit(X_train, y_train)"
   ]
  },
  {
   "cell_type": "code",
   "execution_count": 48,
   "metadata": {},
   "outputs": [
    {
     "name": "stdout",
     "output_type": "stream",
     "text": [
      "RidgeCV\n",
      "------------\n",
      "Training score: 0.5645\n",
      "Testing score: 0.5611\n"
     ]
    }
   ],
   "source": [
    "get_scores('RidgeCV', ridge_log)\n",
    "\n",
    "# keeping variable for summary input later\n",
    "train_score_ridge_log = ridge_log.score(X_train, y_train)"
   ]
  },
  {
   "cell_type": "code",
   "execution_count": 49,
   "metadata": {},
   "outputs": [
    {
     "name": "stdout",
     "output_type": "stream",
     "text": [
      "RidgeCV\n",
      "------------\n",
      "R2 Score: 0.5611\n",
      "Mean Absolute Error: 1567.3258\n",
      "Mean Percentage Absolute Error: 21.4997\n",
      "Median Absolute Error: 1091.4924\n",
      "Median Percentage Absolute Error: 15.5927\n"
     ]
    }
   ],
   "source": [
    "# Get predictions\n",
    "pred_ridge_log = ridge_log.predict(X_test)\n",
    "pred_ridge_exp = np.exp(pred_ridge_log)\n",
    "y_test_exp = np.exp(y_test)\n",
    "\n",
    "# Get model metrics\n",
    "get_evaluation_metrics_log('RidgeCV', pred_ridge_log, pred_ridge_exp)"
   ]
  },
  {
   "cell_type": "markdown",
   "metadata": {},
   "source": [
    "### ElasticnetCV <a class=\"anchor\" id=\"elasticnet_log\"></a>\n",
    "[Back to top!](#toc)"
   ]
  },
  {
   "cell_type": "code",
   "execution_count": 50,
   "metadata": {},
   "outputs": [
    {
     "data": {
      "text/plain": [
       "ElasticNetCV()"
      ]
     },
     "execution_count": 50,
     "metadata": {},
     "output_type": "execute_result"
    }
   ],
   "source": [
    "features = [col for col in df_v2.columns if col != 'salary_average_log']\n",
    "X = df_v2[features]\n",
    "y = df_v2['salary_average_log']\n",
    "\n",
    "X_train, X_test, y_train, y_test = train_test_split(X, y, random_state=123)\n",
    "\n",
    "ss = StandardScaler()\n",
    "ss.fit(X_train)\n",
    "X_train = ss.transform(X_train)\n",
    "X_test = ss.transform(X_test)\n",
    "\n",
    "enet_log = ElasticNetCV()\n",
    "enet_log.fit(X_train, y_train)"
   ]
  },
  {
   "cell_type": "code",
   "execution_count": 51,
   "metadata": {},
   "outputs": [
    {
     "name": "stdout",
     "output_type": "stream",
     "text": [
      "ElasticnetCV\n",
      "------------\n",
      "Training score: 0.5605\n",
      "Testing score: 0.5635\n"
     ]
    }
   ],
   "source": [
    "get_scores('ElasticnetCV', enet_log)\n",
    "\n",
    "# keeping variable for summary input later\n",
    "train_score_enet_log = enet_log.score(X_train, y_train)"
   ]
  },
  {
   "cell_type": "code",
   "execution_count": 52,
   "metadata": {},
   "outputs": [
    {
     "name": "stdout",
     "output_type": "stream",
     "text": [
      "ElasticnetCV\n",
      "------------\n",
      "R2 Score: 0.5635\n",
      "Mean Absolute Error: 1558.5253\n",
      "Mean Percentage Absolute Error: 21.3789\n",
      "Median Absolute Error: 1098.4315\n",
      "Median Percentage Absolute Error: 15.6919\n"
     ]
    }
   ],
   "source": [
    "# Get predictions\n",
    "pred_enet_log = enet_log.predict(X_test)\n",
    "pred_enet_exp = np.exp(pred_enet_log)\n",
    "y_test_exp = np.exp(y_test)\n",
    "\n",
    "# Get model metrics\n",
    "get_evaluation_metrics_log('ElasticnetCV', pred_enet_log, pred_enet_exp)"
   ]
  },
  {
   "cell_type": "markdown",
   "metadata": {},
   "source": [
    "### AdaBoost Regressor <a class=\"anchor\" id=\"ada_log\"></a>\n",
    "[Back to top!](#toc)"
   ]
  },
  {
   "cell_type": "code",
   "execution_count": 53,
   "metadata": {},
   "outputs": [
    {
     "data": {
      "text/plain": [
       "AdaBoostRegressor(n_estimators=100, random_state=123)"
      ]
     },
     "execution_count": 53,
     "metadata": {},
     "output_type": "execute_result"
    }
   ],
   "source": [
    "features = [col for col in df_v2.columns if col != 'salary_average_log']\n",
    "X = df_v2[features]\n",
    "y = df_v2['salary_average_log']\n",
    "\n",
    "X_train, X_test, y_train, y_test = train_test_split(X, y, random_state=123)\n",
    "\n",
    "ss = StandardScaler()\n",
    "ss.fit(X_train)\n",
    "X_train = ss.transform(X_train)\n",
    "X_test = ss.transform(X_test)\n",
    "\n",
    "ada_log = AdaBoostRegressor(n_estimators=100, random_state=123)\n",
    "ada_log.fit(X_train, y_train)"
   ]
  },
  {
   "cell_type": "code",
   "execution_count": 54,
   "metadata": {},
   "outputs": [
    {
     "name": "stdout",
     "output_type": "stream",
     "text": [
      "AdaBoost Regressor\n",
      "------------\n",
      "Training score: 0.4806\n",
      "Testing score: 0.4652\n"
     ]
    }
   ],
   "source": [
    "get_scores('AdaBoost Regressor', ada_log)\n",
    "\n",
    "# keeping variable for summary input later\n",
    "train_score_ada_log = ada_log.score(X_train, y_train)"
   ]
  },
  {
   "cell_type": "code",
   "execution_count": 55,
   "metadata": {},
   "outputs": [
    {
     "name": "stdout",
     "output_type": "stream",
     "text": [
      "AdaBoost Regressor\n",
      "------------\n",
      "R2 Score: 0.4652\n",
      "Mean Absolute Error: 1675.7467\n",
      "Mean Percentage Absolute Error: 22.9869\n",
      "Median Absolute Error: 1256.0955\n",
      "Median Percentage Absolute Error: 17.9442\n"
     ]
    }
   ],
   "source": [
    "# Get predictions\n",
    "pred_ada_log = ada_log.predict(X_test)\n",
    "pred_ada_exp = np.exp(pred_ada_log)\n",
    "y_test_exp = np.exp(y_test)\n",
    "\n",
    "# Get model metrics\n",
    "get_evaluation_metrics_log('AdaBoost Regressor', pred_ada_log, pred_ada_exp)"
   ]
  },
  {
   "cell_type": "markdown",
   "metadata": {},
   "source": [
    "### Bagging Regressor <a class=\"anchor\" id=\"bagr_log\"></a>\n",
    "[Back to top!](#toc)"
   ]
  },
  {
   "cell_type": "code",
   "execution_count": 56,
   "metadata": {},
   "outputs": [
    {
     "data": {
      "text/plain": [
       "BaggingRegressor(base_estimator=SVR(), random_state=123)"
      ]
     },
     "execution_count": 56,
     "metadata": {},
     "output_type": "execute_result"
    }
   ],
   "source": [
    "features = [col for col in df_v2.columns if col != 'salary_average_log']\n",
    "X = df_v2[features]\n",
    "y = df_v2['salary_average_log']\n",
    "\n",
    "X_train, X_test, y_train, y_test = train_test_split(X, y, random_state=123)\n",
    "\n",
    "ss = StandardScaler()\n",
    "ss.fit(X_train)\n",
    "X_train = ss.transform(X_train)\n",
    "X_test = ss.transform(X_test)\n",
    "\n",
    "bagr_log = BaggingRegressor(base_estimator=SVR(), n_estimators=10, random_state=123)\n",
    "bagr_log.fit(X_train, y_train)"
   ]
  },
  {
   "cell_type": "code",
   "execution_count": 57,
   "metadata": {},
   "outputs": [
    {
     "name": "stdout",
     "output_type": "stream",
     "text": [
      "Bagging Regressor\n",
      "------------\n",
      "Training score: 0.7475\n",
      "Testing score: 0.5342\n"
     ]
    }
   ],
   "source": [
    "get_scores('Bagging Regressor', bagr_log)\n",
    "\n",
    "# keeping variable for summary input later\n",
    "train_score_bagr_log = bagr_log.score(X_train, y_train)"
   ]
  },
  {
   "cell_type": "code",
   "execution_count": 58,
   "metadata": {},
   "outputs": [
    {
     "name": "stdout",
     "output_type": "stream",
     "text": [
      "Bagging Regressor\n",
      "------------\n",
      "R2 Score: 0.5342\n",
      "Mean Absolute Error: 1543.7526\n",
      "Mean Percentage Absolute Error: 21.1763\n",
      "Median Absolute Error: 1058.33\n",
      "Median Percentage Absolute Error: 15.119\n"
     ]
    }
   ],
   "source": [
    "# Get predictions\n",
    "pred_bagr_log = bagr_log.predict(X_test)\n",
    "pred_bagr_exp = np.exp(pred_bagr_log)\n",
    "y_test_exp = np.exp(y_test)\n",
    "\n",
    "# Get model metrics\n",
    "get_evaluation_metrics_log('Bagging Regressor', pred_bagr_log, pred_bagr_exp)"
   ]
  },
  {
   "cell_type": "markdown",
   "metadata": {},
   "source": [
    "### Gradient Boosting Regressor <a class=\"anchor\" id=\"gbr_log\"></a>\n",
    "[Back to top!](#toc)"
   ]
  },
  {
   "cell_type": "code",
   "execution_count": 59,
   "metadata": {},
   "outputs": [
    {
     "data": {
      "text/plain": [
       "GradientBoostingRegressor(random_state=123)"
      ]
     },
     "execution_count": 59,
     "metadata": {},
     "output_type": "execute_result"
    }
   ],
   "source": [
    "features = [col for col in df_v2.columns if col != 'salary_average_log']\n",
    "X = df_v2[features]\n",
    "y = df_v2['salary_average_log']\n",
    "\n",
    "X_train, X_test, y_train, y_test = train_test_split(X, y, random_state=123)\n",
    "\n",
    "ss = StandardScaler()\n",
    "ss.fit(X_train)\n",
    "X_train = ss.transform(X_train)\n",
    "X_test = ss.transform(X_test)\n",
    "\n",
    "gbr_log = GradientBoostingRegressor(random_state=123)\n",
    "gbr_log.fit(X_train, y_train)"
   ]
  },
  {
   "cell_type": "code",
   "execution_count": 60,
   "metadata": {},
   "outputs": [
    {
     "name": "stdout",
     "output_type": "stream",
     "text": [
      "Gradient Boosting Regressor\n",
      "------------\n",
      "Training score: 0.6377\n",
      "Testing score: 0.5765\n"
     ]
    }
   ],
   "source": [
    "get_scores('Gradient Boosting Regressor', gbr_log)\n",
    "\n",
    "# keeping variable for summary input later\n",
    "train_score_gbr_log = gbr_log.score(X_train, y_train)"
   ]
  },
  {
   "cell_type": "code",
   "execution_count": 61,
   "metadata": {},
   "outputs": [
    {
     "name": "stdout",
     "output_type": "stream",
     "text": [
      "Gradient Boosting Regressor\n",
      "------------\n",
      "R2 Score: 0.5765\n",
      "Mean Absolute Error: 1513.0686\n",
      "Mean Percentage Absolute Error: 20.7554\n",
      "Median Absolute Error: 1094.6755\n",
      "Median Percentage Absolute Error: 15.6382\n"
     ]
    }
   ],
   "source": [
    "# Get predictions\n",
    "pred_gbr_log = gbr_log.predict(X_test)\n",
    "pred_gbr_exp = np.exp(pred_gbr_log)\n",
    "y_test_exp = np.exp(y_test)\n",
    "\n",
    "# Get model metrics\n",
    "get_evaluation_metrics_log('Gradient Boosting Regressor', pred_gbr_log, pred_gbr_exp)"
   ]
  },
  {
   "cell_type": "markdown",
   "metadata": {},
   "source": [
    "### Random Forest Regressor <a class=\"anchor\" id=\"rfr_log\"></a>\n",
    "[Back to top!](#toc)"
   ]
  },
  {
   "cell_type": "code",
   "execution_count": 62,
   "metadata": {},
   "outputs": [
    {
     "data": {
      "text/plain": [
       "RandomForestRegressor(max_depth=100)"
      ]
     },
     "execution_count": 62,
     "metadata": {},
     "output_type": "execute_result"
    }
   ],
   "source": [
    "features = [col for col in df_v2.columns if col != 'salary_average_log']\n",
    "X = df_v2[features]\n",
    "y = df_v2['salary_average_log']\n",
    "\n",
    "X_train, X_test, y_train, y_test = train_test_split(X, y, random_state=123)\n",
    "\n",
    "ss = StandardScaler()\n",
    "ss.fit(X_train)\n",
    "X_train = ss.transform(X_train)\n",
    "X_test = ss.transform(X_test)\n",
    "\n",
    "rfr_log = RandomForestRegressor(max_depth=100)\n",
    "rfr_log.fit(X_train, y_train)"
   ]
  },
  {
   "cell_type": "code",
   "execution_count": 63,
   "metadata": {},
   "outputs": [
    {
     "name": "stdout",
     "output_type": "stream",
     "text": [
      "Random Forest Regressor\n",
      "------------\n",
      "Training score: 0.9387\n",
      "Testing score: 0.6049\n"
     ]
    }
   ],
   "source": [
    "get_scores('Random Forest Regressor', rfr_log)\n",
    "\n",
    "# keeping variable for summary input later\n",
    "train_score_rfr_log = rfr_log.score(X_train, y_train)"
   ]
  },
  {
   "cell_type": "code",
   "execution_count": 64,
   "metadata": {},
   "outputs": [
    {
     "name": "stdout",
     "output_type": "stream",
     "text": [
      "Random Forest Regressor\n",
      "------------\n",
      "R2 Score: 0.6049\n",
      "Mean Absolute Error: 1436.7994\n",
      "Mean Percentage Absolute Error: 19.7092\n",
      "Median Absolute Error: 1025.854\n",
      "Median Percentage Absolute Error: 14.6551\n"
     ]
    }
   ],
   "source": [
    "# Get predictions\n",
    "pred_rfr_log = rfr_log.predict(X_test)\n",
    "pred_rfr_exp = np.exp(pred_rfr_log)\n",
    "y_test_exp = np.exp(y_test)\n",
    "\n",
    "# Get model metrics\n",
    "get_evaluation_metrics_log('Random Forest Regressor', pred_rfr_log, pred_rfr_exp)"
   ]
  },
  {
   "cell_type": "markdown",
   "metadata": {},
   "source": [
    "### Extra Trees Regressor <a class=\"anchor\" id=\"etr_log\"></a>\n",
    "[Back to top!](#toc)"
   ]
  },
  {
   "cell_type": "code",
   "execution_count": 65,
   "metadata": {},
   "outputs": [
    {
     "data": {
      "text/plain": [
       "ExtraTreesRegressor(n_estimators=150)"
      ]
     },
     "execution_count": 65,
     "metadata": {},
     "output_type": "execute_result"
    }
   ],
   "source": [
    "features = [col for col in df_v2.columns if col != 'salary_average_log']\n",
    "X = df_v2[features]\n",
    "y = df_v2['salary_average_log']\n",
    "\n",
    "X_train, X_test, y_train, y_test = train_test_split(X, y, random_state=123)\n",
    "\n",
    "ss = StandardScaler()\n",
    "ss.fit(X_train)\n",
    "X_train = ss.transform(X_train)\n",
    "X_test = ss.transform(X_test)\n",
    "\n",
    "etr_log = ExtraTreesRegressor(n_estimators=150)\n",
    "etr_log.fit(X_train, y_train)"
   ]
  },
  {
   "cell_type": "code",
   "execution_count": 66,
   "metadata": {},
   "outputs": [
    {
     "name": "stdout",
     "output_type": "stream",
     "text": [
      "Extra Trees Regressor\n",
      "------------\n",
      "Training score: 0.9984\n",
      "Testing score: 0.5714\n"
     ]
    }
   ],
   "source": [
    "get_scores('Extra Trees Regressor', etr_log)\n",
    "\n",
    "# keeping variable for summary input later\n",
    "train_score_etr_log = etr_log.score(X_train, y_train)"
   ]
  },
  {
   "cell_type": "code",
   "execution_count": 67,
   "metadata": {},
   "outputs": [
    {
     "name": "stdout",
     "output_type": "stream",
     "text": [
      "Random Forest Regressor\n",
      "------------\n",
      "R2 Score: 0.5714\n",
      "Mean Absolute Error: 1456.033\n",
      "Mean Percentage Absolute Error: 19.973\n",
      "Median Absolute Error: 995.8418\n",
      "Median Percentage Absolute Error: 14.2263\n"
     ]
    }
   ],
   "source": [
    "# Get predictions\n",
    "pred_etr_log = etr_log.predict(X_test)\n",
    "pred_etr_exp = np.exp(pred_etr_log)\n",
    "y_test_exp = np.exp(y_test)\n",
    "\n",
    "# Get model metrics\n",
    "get_evaluation_metrics_log('Random Forest Regressor', pred_etr_log, pred_etr_exp)"
   ]
  },
  {
   "cell_type": "markdown",
   "metadata": {},
   "source": [
    "### Support Vector Machine for Regression <a class=\"anchor\" id=\"svr_log\"></a>\n",
    "[Back to top!](#toc)"
   ]
  },
  {
   "cell_type": "code",
   "execution_count": 68,
   "metadata": {},
   "outputs": [
    {
     "data": {
      "text/plain": [
       "SVR(epsilon=0.2)"
      ]
     },
     "execution_count": 68,
     "metadata": {},
     "output_type": "execute_result"
    }
   ],
   "source": [
    "features = [col for col in df_v2.columns if col != 'salary_average_log']\n",
    "X = df_v2[features]\n",
    "y = df_v2['salary_average_log']\n",
    "\n",
    "X_train, X_test, y_train, y_test = train_test_split(X, y, random_state=123)\n",
    "\n",
    "ss = StandardScaler()\n",
    "ss.fit(X_train)\n",
    "X_train = ss.transform(X_train)\n",
    "X_test = ss.transform(X_test)\n",
    "\n",
    "svr_log = SVR(C=1.0, epsilon=0.2)\n",
    "svr_log.fit(X_train, y_train)"
   ]
  },
  {
   "cell_type": "code",
   "execution_count": 69,
   "metadata": {},
   "outputs": [
    {
     "name": "stdout",
     "output_type": "stream",
     "text": [
      "SVM for Regresssion\n",
      "------------\n",
      "Training score: 0.7422\n",
      "Testing score: 0.5286\n"
     ]
    }
   ],
   "source": [
    "get_scores('SVM for Regresssion', svr_log)\n",
    "\n",
    "# keeping variable for summary input later\n",
    "train_score_svr_log = svr_log.score(X_train, y_train)"
   ]
  },
  {
   "cell_type": "code",
   "execution_count": 70,
   "metadata": {},
   "outputs": [
    {
     "name": "stdout",
     "output_type": "stream",
     "text": [
      "SVM for Regresssion\n",
      "------------\n",
      "R2 Score: 0.5286\n",
      "Mean Absolute Error: 1565.4703\n",
      "Mean Percentage Absolute Error: 21.4742\n",
      "Median Absolute Error: 1138.745\n",
      "Median Percentage Absolute Error: 16.2678\n"
     ]
    }
   ],
   "source": [
    "# Get predictions\n",
    "pred_svr_log = svr_log.predict(X_test)\n",
    "pred_svr_exp = np.exp(pred_svr_log)\n",
    "y_test_exp = np.exp(y_test)\n",
    "\n",
    "# Get model metrics\n",
    "get_evaluation_metrics_log('SVM for Regresssion', pred_svr_log, pred_svr_exp)"
   ]
  },
  {
   "cell_type": "markdown",
   "metadata": {},
   "source": [
    "### Summary of metrics for regression modelling of target variable `salary_average_log` <a class=\"anchor\" id=\"summary_log\"></a>\n",
    "[Back to top!](#toc)"
   ]
  },
  {
   "cell_type": "code",
   "execution_count": 71,
   "metadata": {},
   "outputs": [
    {
     "data": {
      "text/html": [
       "<div>\n",
       "<style scoped>\n",
       "    .dataframe tbody tr th:only-of-type {\n",
       "        vertical-align: middle;\n",
       "    }\n",
       "\n",
       "    .dataframe tbody tr th {\n",
       "        vertical-align: top;\n",
       "    }\n",
       "\n",
       "    .dataframe thead th {\n",
       "        text-align: right;\n",
       "    }\n",
       "</style>\n",
       "<table border=\"1\" class=\"dataframe\">\n",
       "  <thead>\n",
       "    <tr style=\"text-align: right;\">\n",
       "      <th></th>\n",
       "      <th>Model</th>\n",
       "      <th>Train Score</th>\n",
       "      <th>Test Score</th>\n",
       "      <th>Mean Absolute Error</th>\n",
       "      <th>Mean Percentage Absolute Error</th>\n",
       "      <th>Median Absolute Error</th>\n",
       "      <th>Median Percentage Absolute Error</th>\n",
       "    </tr>\n",
       "  </thead>\n",
       "  <tbody>\n",
       "    <tr>\n",
       "      <th>0</th>\n",
       "      <td>Linear Regression v2</td>\n",
       "      <td>0.565</td>\n",
       "      <td>0.561</td>\n",
       "      <td>1567.792</td>\n",
       "      <td>21.506</td>\n",
       "      <td>1089.243</td>\n",
       "      <td>15.561</td>\n",
       "    </tr>\n",
       "    <tr>\n",
       "      <th>1</th>\n",
       "      <td>LassoCV v2</td>\n",
       "      <td>0.561</td>\n",
       "      <td>0.564</td>\n",
       "      <td>1558.896</td>\n",
       "      <td>21.384</td>\n",
       "      <td>1093.647</td>\n",
       "      <td>15.623</td>\n",
       "    </tr>\n",
       "    <tr>\n",
       "      <th>2</th>\n",
       "      <td>RidgeCV v2</td>\n",
       "      <td>0.565</td>\n",
       "      <td>0.561</td>\n",
       "      <td>1567.326</td>\n",
       "      <td>21.500</td>\n",
       "      <td>1091.492</td>\n",
       "      <td>15.593</td>\n",
       "    </tr>\n",
       "    <tr>\n",
       "      <th>3</th>\n",
       "      <td>ElasticnetCV v2</td>\n",
       "      <td>0.560</td>\n",
       "      <td>0.564</td>\n",
       "      <td>1558.525</td>\n",
       "      <td>21.379</td>\n",
       "      <td>1098.431</td>\n",
       "      <td>15.692</td>\n",
       "    </tr>\n",
       "    <tr>\n",
       "      <th>4</th>\n",
       "      <td>AdaBoost Regressor v2</td>\n",
       "      <td>0.481</td>\n",
       "      <td>0.465</td>\n",
       "      <td>1675.747</td>\n",
       "      <td>22.987</td>\n",
       "      <td>1256.095</td>\n",
       "      <td>17.944</td>\n",
       "    </tr>\n",
       "    <tr>\n",
       "      <th>5</th>\n",
       "      <td>Bagging Regressor v2</td>\n",
       "      <td>0.748</td>\n",
       "      <td>0.534</td>\n",
       "      <td>1543.753</td>\n",
       "      <td>21.176</td>\n",
       "      <td>1058.330</td>\n",
       "      <td>15.119</td>\n",
       "    </tr>\n",
       "    <tr>\n",
       "      <th>6</th>\n",
       "      <td>Gradient Boosting Regressor v2</td>\n",
       "      <td>0.638</td>\n",
       "      <td>0.577</td>\n",
       "      <td>1513.069</td>\n",
       "      <td>20.755</td>\n",
       "      <td>1094.676</td>\n",
       "      <td>15.638</td>\n",
       "    </tr>\n",
       "    <tr>\n",
       "      <th>7</th>\n",
       "      <td>Random Forest Regressor v2</td>\n",
       "      <td>0.939</td>\n",
       "      <td>0.605</td>\n",
       "      <td>1436.799</td>\n",
       "      <td>19.709</td>\n",
       "      <td>1025.854</td>\n",
       "      <td>14.655</td>\n",
       "    </tr>\n",
       "    <tr>\n",
       "      <th>8</th>\n",
       "      <td>Extra Trees Regressor v2</td>\n",
       "      <td>0.998</td>\n",
       "      <td>0.571</td>\n",
       "      <td>1456.033</td>\n",
       "      <td>19.973</td>\n",
       "      <td>995.842</td>\n",
       "      <td>14.226</td>\n",
       "    </tr>\n",
       "    <tr>\n",
       "      <th>9</th>\n",
       "      <td>Support Vector Machine for Regression v2</td>\n",
       "      <td>0.742</td>\n",
       "      <td>0.529</td>\n",
       "      <td>1565.470</td>\n",
       "      <td>21.474</td>\n",
       "      <td>1138.745</td>\n",
       "      <td>16.268</td>\n",
       "    </tr>\n",
       "  </tbody>\n",
       "</table>\n",
       "</div>"
      ],
      "text/plain": [
       "                                      Model  Train Score  Test Score  \\\n",
       "0                      Linear Regression v2        0.565       0.561   \n",
       "1                                LassoCV v2        0.561       0.564   \n",
       "2                                RidgeCV v2        0.565       0.561   \n",
       "3                           ElasticnetCV v2        0.560       0.564   \n",
       "4                     AdaBoost Regressor v2        0.481       0.465   \n",
       "5                      Bagging Regressor v2        0.748       0.534   \n",
       "6            Gradient Boosting Regressor v2        0.638       0.577   \n",
       "7                Random Forest Regressor v2        0.939       0.605   \n",
       "8                  Extra Trees Regressor v2        0.998       0.571   \n",
       "9  Support Vector Machine for Regression v2        0.742       0.529   \n",
       "\n",
       "   Mean Absolute Error  Mean Percentage Absolute Error  Median Absolute Error  \\\n",
       "0             1567.792                          21.506               1089.243   \n",
       "1             1558.896                          21.384               1093.647   \n",
       "2             1567.326                          21.500               1091.492   \n",
       "3             1558.525                          21.379               1098.431   \n",
       "4             1675.747                          22.987               1256.095   \n",
       "5             1543.753                          21.176               1058.330   \n",
       "6             1513.069                          20.755               1094.676   \n",
       "7             1436.799                          19.709               1025.854   \n",
       "8             1456.033                          19.973                995.842   \n",
       "9             1565.470                          21.474               1138.745   \n",
       "\n",
       "   Median Percentage Absolute Error  \n",
       "0                            15.561  \n",
       "1                            15.623  \n",
       "2                            15.593  \n",
       "3                            15.692  \n",
       "4                            17.944  \n",
       "5                            15.119  \n",
       "6                            15.638  \n",
       "7                            14.655  \n",
       "8                            14.226  \n",
       "9                            16.268  "
      ]
     },
     "execution_count": 71,
     "metadata": {},
     "output_type": "execute_result"
    }
   ],
   "source": [
    "# list of dict\n",
    "summary_v2 = [{'Model': 'Linear Regression v2', \n",
    "            'Train Score': train_score_linreg_log, \n",
    "            'Test Score': r2_score(y_test, pred_linreg_log),\n",
    "            'Mean Absolute Error': mean_absolute_error(y_test_exp, pred_linreg_exp), \n",
    "            'Mean Percentage Absolute Error': (mean_absolute_error(y_test_exp, pred_linreg_exp) / y_test_exp.mean())*100,\n",
    "            'Median Absolute Error': median_absolute_error(y_test_exp, pred_linreg_exp),\n",
    "            'Median Percentage Absolute Error': (median_absolute_error(y_test_exp, pred_linreg_exp) / y_test_exp.median())*100},\n",
    "           {'Model': 'LassoCV v2', \n",
    "            'Train Score': train_score_lasso_log, \n",
    "            'Test Score': r2_score(y_test, pred_lasso_log),\n",
    "            'Mean Absolute Error': mean_absolute_error(y_test_exp, pred_lasso_exp), \n",
    "            'Mean Percentage Absolute Error': (mean_absolute_error(y_test_exp, pred_lasso_exp) / y_test_exp.mean())*100,\n",
    "            'Median Absolute Error': median_absolute_error(y_test_exp, pred_lasso_exp),\n",
    "            'Median Percentage Absolute Error': (median_absolute_error(y_test_exp, pred_lasso_exp) / y_test_exp.median())*100},\n",
    "           {'Model': 'RidgeCV v2', \n",
    "            'Train Score': train_score_ridge_log, \n",
    "            'Test Score': r2_score(y_test, pred_ridge_log),\n",
    "            'Mean Absolute Error': mean_absolute_error(y_test_exp, pred_ridge_exp), \n",
    "            'Mean Percentage Absolute Error': (mean_absolute_error(y_test_exp, pred_ridge_exp) / y_test_exp.mean())*100,\n",
    "            'Median Absolute Error': median_absolute_error(y_test_exp, pred_ridge_exp),\n",
    "            'Median Percentage Absolute Error': (median_absolute_error(y_test_exp, pred_ridge_exp) / y_test_exp.median())*100},\n",
    "           {'Model': 'ElasticnetCV v2', \n",
    "            'Train Score': train_score_enet_log, \n",
    "            'Test Score': r2_score(y_test, pred_enet_log),\n",
    "            'Mean Absolute Error': mean_absolute_error(y_test_exp, pred_enet_exp), \n",
    "            'Mean Percentage Absolute Error': (mean_absolute_error(y_test_exp, pred_enet_exp) / y_test_exp.mean())*100,\n",
    "            'Median Absolute Error': median_absolute_error(y_test_exp, pred_enet_exp),\n",
    "            'Median Percentage Absolute Error': (median_absolute_error(y_test_exp, pred_enet_exp) / y_test_exp.median())*100},\n",
    "           {'Model': 'AdaBoost Regressor v2', \n",
    "            'Train Score': train_score_ada_log, \n",
    "            'Test Score': r2_score(y_test, pred_ada_log),\n",
    "            'Mean Absolute Error': mean_absolute_error(y_test_exp, pred_ada_exp), \n",
    "            'Mean Percentage Absolute Error': (mean_absolute_error(y_test_exp, pred_ada_exp) / y_test_exp.mean())*100,\n",
    "            'Median Absolute Error': median_absolute_error(y_test_exp, pred_ada_exp),\n",
    "            'Median Percentage Absolute Error': (median_absolute_error(y_test_exp, pred_ada_exp) / y_test_exp.median())*100},\n",
    "           {'Model': 'Bagging Regressor v2', \n",
    "            'Train Score': train_score_bagr_log, \n",
    "            'Test Score': r2_score(y_test, pred_bagr_log),\n",
    "            'Mean Absolute Error': mean_absolute_error(y_test_exp, pred_bagr_exp), \n",
    "            'Mean Percentage Absolute Error': (mean_absolute_error(y_test_exp, pred_bagr_exp) / y_test_exp.mean())*100,\n",
    "            'Median Absolute Error': median_absolute_error(y_test_exp, pred_bagr_exp),\n",
    "            'Median Percentage Absolute Error': (median_absolute_error(y_test_exp, pred_bagr_exp) / y_test_exp.median())*100},\n",
    "           {'Model': 'Gradient Boosting Regressor v2', \n",
    "            'Train Score': train_score_gbr_log, \n",
    "            'Test Score': r2_score(y_test, pred_gbr_log),\n",
    "            'Mean Absolute Error': mean_absolute_error(y_test_exp, pred_gbr_exp), \n",
    "            'Mean Percentage Absolute Error': (mean_absolute_error(y_test_exp, pred_gbr_exp) / y_test_exp.mean())*100,\n",
    "            'Median Absolute Error': median_absolute_error(y_test_exp, pred_gbr_exp),\n",
    "            'Median Percentage Absolute Error': (median_absolute_error(y_test_exp, pred_gbr_exp) / y_test_exp.median())*100},\n",
    "           {'Model': 'Random Forest Regressor v2', \n",
    "            'Train Score': train_score_rfr_log, \n",
    "            'Test Score': r2_score(y_test, pred_rfr_log),\n",
    "            'Mean Absolute Error': mean_absolute_error(y_test_exp, pred_rfr_exp), \n",
    "            'Mean Percentage Absolute Error': (mean_absolute_error(y_test_exp, pred_rfr_exp) / y_test_exp.mean())*100,\n",
    "            'Median Absolute Error': median_absolute_error(y_test_exp, pred_rfr_exp),\n",
    "            'Median Percentage Absolute Error': (median_absolute_error(y_test_exp, pred_rfr_exp) / y_test_exp.median())*100},\n",
    "           {'Model': 'Extra Trees Regressor v2', \n",
    "            'Train Score': train_score_etr_log, \n",
    "            'Test Score': r2_score(y_test, pred_etr_log),\n",
    "            'Mean Absolute Error': mean_absolute_error(y_test_exp, pred_etr_exp), \n",
    "            'Mean Percentage Absolute Error': (mean_absolute_error(y_test_exp, pred_etr_exp) / y_test_exp.mean())*100,\n",
    "            'Median Absolute Error': median_absolute_error(y_test_exp, pred_etr_exp),\n",
    "            'Median Percentage Absolute Error': (median_absolute_error(y_test_exp, pred_etr_exp) / y_test_exp.median())*100},\n",
    "           {'Model': 'Support Vector Machine for Regression v2', \n",
    "            'Train Score': train_score_svr_log, \n",
    "            'Test Score': r2_score(y_test, pred_svr_log),\n",
    "            'Mean Absolute Error': mean_absolute_error(y_test_exp, pred_svr_exp), \n",
    "            'Mean Percentage Absolute Error': (mean_absolute_error(y_test_exp, pred_svr_exp) / y_test_exp.mean())*100,\n",
    "            'Median Absolute Error': median_absolute_error(y_test_exp, pred_svr_exp),\n",
    "            'Median Percentage Absolute Error': (median_absolute_error(y_test_exp, pred_svr_exp) / y_test_exp.median())*100}]\n",
    "\n",
    "summary_v2 = pd.DataFrame(summary_v2)\n",
    "summary_v2.round(4) # rounding off values to 4 decimal places"
   ]
  },
  {
   "cell_type": "code",
   "execution_count": 72,
   "metadata": {},
   "outputs": [],
   "source": [
    "# exporting .csv for executive summary at the top\n",
    "summary_v2.to_csv('../data/model_metrics_v2.csv', index=False)"
   ]
  }
 ],
 "metadata": {
  "kernelspec": {
   "display_name": "Python 3",
   "language": "python",
   "name": "python3"
  },
  "language_info": {
   "codemirror_mode": {
    "name": "ipython",
    "version": 3
   },
   "file_extension": ".py",
   "mimetype": "text/x-python",
   "name": "python",
   "nbconvert_exporter": "python",
   "pygments_lexer": "ipython3",
   "version": "3.8.5"
  }
 },
 "nbformat": 4,
 "nbformat_minor": 4
}
