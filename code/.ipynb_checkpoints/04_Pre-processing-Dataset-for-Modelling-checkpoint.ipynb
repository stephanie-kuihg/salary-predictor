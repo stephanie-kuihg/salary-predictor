{
 "cells": [
  {
   "cell_type": "markdown",
   "metadata": {},
   "source": [
    "# Pre-processing Dataset for Modelling\n",
    "---\n",
    "(insert image here - wordcloud?)\n",
    "(links to various notebooks)\n",
    "\n",
    "## Overview\n",
    "---\n",
    "This section will aim to spot trends and feature engineer the datasets to support our findings using the cleaned dataset from the previous notebook. \n",
    "\n",
    "\n",
    "## Table of Contents <a class=\"anchor\" id=\"toc\"></a>\n",
    "---\n",
    "\n",
    "* [Overview](#overview)\n",
    "* [Importing Libraries](#importinglibraries)\n",
    "* [Extracting Text Features](#cleaning)\n",
    "* [One Hot Encoding Categorical Variables](#cleaning)\n",
    "* [Creating Target Variables](#cleaning)\n",
    "* [Export Datasets for Modelling](#exportcsv)"
   ]
  },
  {
   "cell_type": "markdown",
   "metadata": {},
   "source": [
    "## Importing Libraries <a class=\"anchor\" id=\"importinglibraries\"></a>\n",
    "---\n",
    "[Back to top!](#toc)"
   ]
  },
  {
   "cell_type": "code",
   "execution_count": 1,
   "metadata": {},
   "outputs": [],
   "source": [
    "import pandas as pd\n",
    "import numpy as np\n",
    "\n",
    "pd.set_option('display.max_columns', None)\n",
    "pd.set_option('display.max_rows', None)"
   ]
  },
  {
   "cell_type": "code",
   "execution_count": 2,
   "metadata": {
    "scrolled": true
   },
   "outputs": [
    {
     "name": "stdout",
     "output_type": "stream",
     "text": [
      "<class 'pandas.core.frame.DataFrame'>\n",
      "RangeIndex: 3969 entries, 0 to 3968\n",
      "Data columns (total 81 columns):\n",
      " #   Column                         Non-Null Count  Dtype  \n",
      "---  ------                         --------------  -----  \n",
      " 0   job_title                      3969 non-null   object \n",
      " 1   job_title_standardized         3969 non-null   object \n",
      " 2   job_description                3969 non-null   object \n",
      " 3   categories                     3969 non-null   object \n",
      " 4   minimum_years_experience       3969 non-null   int64  \n",
      " 5   skills                         3969 non-null   object \n",
      " 6   position_level_standardized    3969 non-null   object \n",
      " 7   days_new_posting_closing       3969 non-null   float64\n",
      " 8   days_original_posting_closing  3969 non-null   float64\n",
      " 9   organisation                   3969 non-null   object \n",
      " 10  salary_average                 3969 non-null   float64\n",
      " 11  job_title_wordcount            3969 non-null   int64  \n",
      " 12  job_title_charcount            3969 non-null   int64  \n",
      " 13  job_description_wordcount      3969 non-null   int64  \n",
      " 14  job_description_charcount      3969 non-null   int64  \n",
      " 15  skills_num                     3969 non-null   int64  \n",
      " 16  skill_tableau                  3969 non-null   int64  \n",
      " 17  skill_datawarehouse            3969 non-null   int64  \n",
      " 18  skill_agile                    3969 non-null   int64  \n",
      " 19  skill_aws                      3969 non-null   int64  \n",
      " 20  skill_c#                       3969 non-null   int64  \n",
      " 21  skill_spring                   3969 non-null   int64  \n",
      " 22  skill_hadoop                   3969 non-null   int64  \n",
      " 23  skill_spark                    3969 non-null   int64  \n",
      " 24  skill_oracle                   3969 non-null   int64  \n",
      " 25  skill_stats                    3969 non-null   int64  \n",
      " 26  skill_datamining               3969 non-null   int64  \n",
      " 27  skill_github                   3969 non-null   int64  \n",
      " 28  skill_sdlc                     3969 non-null   int64  \n",
      " 29  skill_c++                      3969 non-null   int64  \n",
      " 30  skill_cloud                    3969 non-null   int64  \n",
      " 31  skill_html                     3969 non-null   int64  \n",
      " 32  skill_javascript               3969 non-null   int64  \n",
      " 33  skill_python                   3969 non-null   int64  \n",
      " 34  skill_azure                    3969 non-null   int64  \n",
      " 35  skill_linux                    3969 non-null   int64  \n",
      " 36  skill_unix                     3969 non-null   int64  \n",
      " 37  skill_ml                       3969 non-null   int64  \n",
      " 38  skill_algo                     3969 non-null   int64  \n",
      " 39  skill_java                     3969 non-null   int64  \n",
      " 40  skill_sql                      3969 non-null   int64  \n",
      " 41  categories_finance             3969 non-null   int64  \n",
      " 42  categories_IT                  3969 non-null   int64  \n",
      " 43  categories_consulting          3969 non-null   int64  \n",
      " 44  categories_education           3969 non-null   int64  \n",
      " 45  categories_professional        3969 non-null   int64  \n",
      " 46  categories_others              3969 non-null   int64  \n",
      " 47  categories_insurance           3969 non-null   int64  \n",
      " 48  categories_risk_mgmt           3969 non-null   int64  \n",
      " 49  categories_general_mgmt        3969 non-null   int64  \n",
      " 50  categories_engineering         3969 non-null   int64  \n",
      " 51  categories_civil_service       3969 non-null   int64  \n",
      " 52  categories_legal               3969 non-null   int64  \n",
      " 53  categories_accounts            3969 non-null   int64  \n",
      " 54  categories_PR                  3969 non-null   int64  \n",
      " 55  categories_research            3969 non-null   int64  \n",
      " 56  categories_manufacturing       3969 non-null   int64  \n",
      " 57  categories_design              3969 non-null   int64  \n",
      " 58  categories_telcom              3969 non-null   int64  \n",
      " 59  categories_retail              3969 non-null   int64  \n",
      " 60  categories_tourism             3969 non-null   int64  \n",
      " 61  categories_advert              3969 non-null   int64  \n",
      " 62  categories_admin               3969 non-null   int64  \n",
      " 63  categories_maintenance         3969 non-null   int64  \n",
      " 64  categories_logistics           3969 non-null   int64  \n",
      " 65  categories_wholesale           3969 non-null   int64  \n",
      " 66  categories_social_services     3969 non-null   int64  \n",
      " 67  categories_security            3969 non-null   int64  \n",
      " 68  categories_property            3969 non-null   int64  \n",
      " 69  categories_therapy             3969 non-null   int64  \n",
      " 70  categories_architecture        3969 non-null   int64  \n",
      " 71  categories_purchasing          3969 non-null   int64  \n",
      " 72  categories_HR                  3969 non-null   int64  \n",
      " 73  categories_entertainment       3969 non-null   int64  \n",
      " 74  categories_cust_service        3969 non-null   int64  \n",
      " 75  categories_env_health          3969 non-null   int64  \n",
      " 76  categories_construction        3969 non-null   int64  \n",
      " 77  categories_events              3969 non-null   int64  \n",
      " 78  categories_general_work        3969 non-null   int64  \n",
      " 79  categories_FandB               3969 non-null   int64  \n",
      " 80  categories_hospitality         3969 non-null   int64  \n",
      "dtypes: float64(3), int64(71), object(7)\n",
      "memory usage: 2.5+ MB\n"
     ]
    }
   ],
   "source": [
    "jobs = pd.read_csv('../data/feature_engineered_dataset.csv')\n",
    "jobs.info()"
   ]
  },
  {
   "cell_type": "markdown",
   "metadata": {},
   "source": [
    "## Extracting Text Features <a class=\"anchor\" id=\"importinglibraries\"></a>\n",
    "---\n",
    "[Back to top!](#toc)"
   ]
  },
  {
   "cell_type": "code",
   "execution_count": 3,
   "metadata": {
    "scrolled": true
   },
   "outputs": [
    {
     "data": {
      "text/html": [
       "<div>\n",
       "<style scoped>\n",
       "    .dataframe tbody tr th:only-of-type {\n",
       "        vertical-align: middle;\n",
       "    }\n",
       "\n",
       "    .dataframe tbody tr th {\n",
       "        vertical-align: top;\n",
       "    }\n",
       "\n",
       "    .dataframe thead th {\n",
       "        text-align: right;\n",
       "    }\n",
       "</style>\n",
       "<table border=\"1\" class=\"dataframe\">\n",
       "  <thead>\n",
       "    <tr style=\"text-align: right;\">\n",
       "      <th></th>\n",
       "      <th>job_title</th>\n",
       "      <th>job_description</th>\n",
       "      <th>skills</th>\n",
       "      <th>organisation</th>\n",
       "    </tr>\n",
       "  </thead>\n",
       "  <tbody>\n",
       "    <tr>\n",
       "      <th>0</th>\n",
       "      <td>Senior Derivatives XA Market Data Engineer</td>\n",
       "      <td>At ICE we approach every challenge as an oppor...</td>\n",
       "      <td>analytics; communication; data; detail oriente...</td>\n",
       "      <td>ICE DATA SERVICES SINGAPORE PTE. LTD.</td>\n",
       "    </tr>\n",
       "    <tr>\n",
       "      <th>1</th>\n",
       "      <td>IT - Business Analyst (Data Analytics and Mach...</td>\n",
       "      <td>[ COLLECTION, USE AND DISCLOSURE OF PERSONAL D...</td>\n",
       "      <td>agile; agile methodolgy; banking; business ana...</td>\n",
       "      <td>NTT DATA SINGAPORE PTE. LTD.</td>\n",
       "    </tr>\n",
       "    <tr>\n",
       "      <th>2</th>\n",
       "      <td>Junior Data Analyst (Finance / Python) - up to...</td>\n",
       "      <td>We are a top 8 global IT services company with...</td>\n",
       "      <td>access; business process; data; data analysis;...</td>\n",
       "      <td>NTT DATA SINGAPORE PTE. LTD.</td>\n",
       "    </tr>\n",
       "    <tr>\n",
       "      <th>3</th>\n",
       "      <td>Data Analytics Consultant</td>\n",
       "      <td>This TMCA* (TeSA Mid-Career Advancement) progr...</td>\n",
       "      <td>analysis; business change management; business...</td>\n",
       "      <td>DATA &amp; ANALYTICS CAPITALS PTE. LTD.</td>\n",
       "    </tr>\n",
       "    <tr>\n",
       "      <th>4</th>\n",
       "      <td>(IT)- Data science analyst</td>\n",
       "      <td>We are a top 8 global IT services company with...</td>\n",
       "      <td>business process; data; mysql; mysql dba; orac...</td>\n",
       "      <td>NTT DATA SINGAPORE PTE. LTD.</td>\n",
       "    </tr>\n",
       "  </tbody>\n",
       "</table>\n",
       "</div>"
      ],
      "text/plain": [
       "                                           job_title  \\\n",
       "0         Senior Derivatives XA Market Data Engineer   \n",
       "1  IT - Business Analyst (Data Analytics and Mach...   \n",
       "2  Junior Data Analyst (Finance / Python) - up to...   \n",
       "3                          Data Analytics Consultant   \n",
       "4                         (IT)- Data science analyst   \n",
       "\n",
       "                                     job_description  \\\n",
       "0  At ICE we approach every challenge as an oppor...   \n",
       "1  [ COLLECTION, USE AND DISCLOSURE OF PERSONAL D...   \n",
       "2  We are a top 8 global IT services company with...   \n",
       "3  This TMCA* (TeSA Mid-Career Advancement) progr...   \n",
       "4  We are a top 8 global IT services company with...   \n",
       "\n",
       "                                              skills  \\\n",
       "0  analytics; communication; data; detail oriente...   \n",
       "1  agile; agile methodolgy; banking; business ana...   \n",
       "2  access; business process; data; data analysis;...   \n",
       "3  analysis; business change management; business...   \n",
       "4  business process; data; mysql; mysql dba; orac...   \n",
       "\n",
       "                            organisation  \n",
       "0  ICE DATA SERVICES SINGAPORE PTE. LTD.  \n",
       "1           NTT DATA SINGAPORE PTE. LTD.  \n",
       "2           NTT DATA SINGAPORE PTE. LTD.  \n",
       "3    DATA & ANALYTICS CAPITALS PTE. LTD.  \n",
       "4           NTT DATA SINGAPORE PTE. LTD.  "
      ]
     },
     "execution_count": 3,
     "metadata": {},
     "output_type": "execute_result"
    }
   ],
   "source": [
    "jobs_textfeatures = pd.concat([jobs['job_title'], jobs['job_description'], \n",
    "                               jobs['skills'], jobs['organisation']], \n",
    "                              axis = 1, join = 'outer')\n",
    "jobs_textfeatures.head()"
   ]
  },
  {
   "cell_type": "code",
   "execution_count": 4,
   "metadata": {
    "scrolled": true
   },
   "outputs": [
    {
     "data": {
      "text/html": [
       "<div>\n",
       "<style scoped>\n",
       "    .dataframe tbody tr th:only-of-type {\n",
       "        vertical-align: middle;\n",
       "    }\n",
       "\n",
       "    .dataframe tbody tr th {\n",
       "        vertical-align: top;\n",
       "    }\n",
       "\n",
       "    .dataframe thead th {\n",
       "        text-align: right;\n",
       "    }\n",
       "</style>\n",
       "<table border=\"1\" class=\"dataframe\">\n",
       "  <thead>\n",
       "    <tr style=\"text-align: right;\">\n",
       "      <th></th>\n",
       "      <th>job_title</th>\n",
       "    </tr>\n",
       "  </thead>\n",
       "  <tbody>\n",
       "    <tr>\n",
       "      <th>0</th>\n",
       "      <td>Senior Derivatives XA Market Data Engineer At ...</td>\n",
       "    </tr>\n",
       "    <tr>\n",
       "      <th>1</th>\n",
       "      <td>IT - Business Analyst (Data Analytics and Mach...</td>\n",
       "    </tr>\n",
       "    <tr>\n",
       "      <th>2</th>\n",
       "      <td>Junior Data Analyst (Finance / Python) - up to...</td>\n",
       "    </tr>\n",
       "    <tr>\n",
       "      <th>3</th>\n",
       "      <td>Data Analytics Consultant This TMCA* (TeSA Mid...</td>\n",
       "    </tr>\n",
       "    <tr>\n",
       "      <th>4</th>\n",
       "      <td>(IT)- Data science analyst We are a top 8 glob...</td>\n",
       "    </tr>\n",
       "  </tbody>\n",
       "</table>\n",
       "</div>"
      ],
      "text/plain": [
       "                                           job_title\n",
       "0  Senior Derivatives XA Market Data Engineer At ...\n",
       "1  IT - Business Analyst (Data Analytics and Mach...\n",
       "2  Junior Data Analyst (Finance / Python) - up to...\n",
       "3  Data Analytics Consultant This TMCA* (TeSA Mid...\n",
       "4  (IT)- Data science analyst We are a top 8 glob..."
      ]
     },
     "execution_count": 4,
     "metadata": {},
     "output_type": "execute_result"
    }
   ],
   "source": [
    "job_text = jobs_textfeatures['job_title'].str.cat([jobs_textfeatures['job_description'], jobs_textfeatures['skills'], jobs_textfeatures['organisation']], \n",
    "                                                   sep=' ', join='left')\n",
    "job_text = pd.DataFrame(job_text)\n",
    "job_text.head()"
   ]
  },
  {
   "cell_type": "code",
   "execution_count": 5,
   "metadata": {
    "scrolled": true
   },
   "outputs": [
    {
     "name": "stdout",
     "output_type": "stream",
     "text": [
      "<class 'pandas.core.frame.DataFrame'>\n",
      "RangeIndex: 3969 entries, 0 to 3968\n",
      "Data columns (total 76 columns):\n",
      " #   Column                         Non-Null Count  Dtype  \n",
      "---  ------                         --------------  -----  \n",
      " 0   job_title_standardized         3969 non-null   object \n",
      " 1   minimum_years_experience       3969 non-null   int64  \n",
      " 2   position_level_standardized    3969 non-null   object \n",
      " 3   days_new_posting_closing       3969 non-null   float64\n",
      " 4   days_original_posting_closing  3969 non-null   float64\n",
      " 5   salary_average                 3969 non-null   float64\n",
      " 6   job_title_wordcount            3969 non-null   int64  \n",
      " 7   job_title_charcount            3969 non-null   int64  \n",
      " 8   job_description_wordcount      3969 non-null   int64  \n",
      " 9   job_description_charcount      3969 non-null   int64  \n",
      " 10  skills_num                     3969 non-null   int64  \n",
      " 11  skill_tableau                  3969 non-null   int64  \n",
      " 12  skill_datawarehouse            3969 non-null   int64  \n",
      " 13  skill_agile                    3969 non-null   int64  \n",
      " 14  skill_aws                      3969 non-null   int64  \n",
      " 15  skill_c#                       3969 non-null   int64  \n",
      " 16  skill_spring                   3969 non-null   int64  \n",
      " 17  skill_hadoop                   3969 non-null   int64  \n",
      " 18  skill_spark                    3969 non-null   int64  \n",
      " 19  skill_oracle                   3969 non-null   int64  \n",
      " 20  skill_stats                    3969 non-null   int64  \n",
      " 21  skill_datamining               3969 non-null   int64  \n",
      " 22  skill_github                   3969 non-null   int64  \n",
      " 23  skill_sdlc                     3969 non-null   int64  \n",
      " 24  skill_c++                      3969 non-null   int64  \n",
      " 25  skill_cloud                    3969 non-null   int64  \n",
      " 26  skill_html                     3969 non-null   int64  \n",
      " 27  skill_javascript               3969 non-null   int64  \n",
      " 28  skill_python                   3969 non-null   int64  \n",
      " 29  skill_azure                    3969 non-null   int64  \n",
      " 30  skill_linux                    3969 non-null   int64  \n",
      " 31  skill_unix                     3969 non-null   int64  \n",
      " 32  skill_ml                       3969 non-null   int64  \n",
      " 33  skill_algo                     3969 non-null   int64  \n",
      " 34  skill_java                     3969 non-null   int64  \n",
      " 35  skill_sql                      3969 non-null   int64  \n",
      " 36  categories_finance             3969 non-null   int64  \n",
      " 37  categories_IT                  3969 non-null   int64  \n",
      " 38  categories_consulting          3969 non-null   int64  \n",
      " 39  categories_education           3969 non-null   int64  \n",
      " 40  categories_professional        3969 non-null   int64  \n",
      " 41  categories_others              3969 non-null   int64  \n",
      " 42  categories_insurance           3969 non-null   int64  \n",
      " 43  categories_risk_mgmt           3969 non-null   int64  \n",
      " 44  categories_general_mgmt        3969 non-null   int64  \n",
      " 45  categories_engineering         3969 non-null   int64  \n",
      " 46  categories_civil_service       3969 non-null   int64  \n",
      " 47  categories_legal               3969 non-null   int64  \n",
      " 48  categories_accounts            3969 non-null   int64  \n",
      " 49  categories_PR                  3969 non-null   int64  \n",
      " 50  categories_research            3969 non-null   int64  \n",
      " 51  categories_manufacturing       3969 non-null   int64  \n",
      " 52  categories_design              3969 non-null   int64  \n",
      " 53  categories_telcom              3969 non-null   int64  \n",
      " 54  categories_retail              3969 non-null   int64  \n",
      " 55  categories_tourism             3969 non-null   int64  \n",
      " 56  categories_advert              3969 non-null   int64  \n",
      " 57  categories_admin               3969 non-null   int64  \n",
      " 58  categories_maintenance         3969 non-null   int64  \n",
      " 59  categories_logistics           3969 non-null   int64  \n",
      " 60  categories_wholesale           3969 non-null   int64  \n",
      " 61  categories_social_services     3969 non-null   int64  \n",
      " 62  categories_security            3969 non-null   int64  \n",
      " 63  categories_property            3969 non-null   int64  \n",
      " 64  categories_therapy             3969 non-null   int64  \n",
      " 65  categories_architecture        3969 non-null   int64  \n",
      " 66  categories_purchasing          3969 non-null   int64  \n",
      " 67  categories_HR                  3969 non-null   int64  \n",
      " 68  categories_entertainment       3969 non-null   int64  \n",
      " 69  categories_cust_service        3969 non-null   int64  \n",
      " 70  categories_env_health          3969 non-null   int64  \n",
      " 71  categories_construction        3969 non-null   int64  \n",
      " 72  categories_events              3969 non-null   int64  \n",
      " 73  categories_general_work        3969 non-null   int64  \n",
      " 74  categories_FandB               3969 non-null   int64  \n",
      " 75  categories_hospitality         3969 non-null   int64  \n",
      "dtypes: float64(3), int64(71), object(2)\n",
      "memory usage: 2.3+ MB\n"
     ]
    }
   ],
   "source": [
    "# drop text columns\n",
    "jobs.drop(columns=['job_title', 'categories', 'job_description', 'skills', 'organisation'], inplace=True)\n",
    "jobs.info()"
   ]
  },
  {
   "cell_type": "markdown",
   "metadata": {},
   "source": [
    "\n",
    "## OHE `job_title_standardized`, `position_level_standardized`\n",
    "---"
   ]
  },
  {
   "cell_type": "code",
   "execution_count": 6,
   "metadata": {},
   "outputs": [
    {
     "name": "stdout",
     "output_type": "stream",
     "text": [
      "<class 'pandas.core.frame.DataFrame'>\n",
      "RangeIndex: 3969 entries, 0 to 3968\n",
      "Data columns (total 9 columns):\n",
      " #   Column                             Non-Null Count  Dtype\n",
      "---  ------                             --------------  -----\n",
      " 0   job_title_business analyst         3969 non-null   uint8\n",
      " 1   job_title_data analyst             3969 non-null   uint8\n",
      " 2   job_title_data engineer            3969 non-null   uint8\n",
      " 3   job_title_data quality management  3969 non-null   uint8\n",
      " 4   job_title_data scientist           3969 non-null   uint8\n",
      " 5   job_title_research scientist       3969 non-null   uint8\n",
      " 6   job_title_software developer       3969 non-null   uint8\n",
      " 7   job_title_software engineer        3969 non-null   uint8\n",
      " 8   job_title_system engineer          3969 non-null   uint8\n",
      "dtypes: uint8(9)\n",
      "memory usage: 35.0 KB\n"
     ]
    }
   ],
   "source": [
    "df_job_title = pd.get_dummies(jobs['job_title_standardized'], prefix = 'job_title')\n",
    "df_job_title.info()"
   ]
  },
  {
   "cell_type": "code",
   "execution_count": 7,
   "metadata": {},
   "outputs": [
    {
     "name": "stdout",
     "output_type": "stream",
     "text": [
      "<class 'pandas.core.frame.DataFrame'>\n",
      "RangeIndex: 3969 entries, 0 to 3968\n",
      "Data columns (total 9 columns):\n",
      " #   Column                            Non-Null Count  Dtype\n",
      "---  ------                            --------------  -----\n",
      " 0   position_level_entry level        3969 non-null   uint8\n",
      " 1   position_level_executive          3969 non-null   uint8\n",
      " 2   position_level_junior executive   3969 non-null   uint8\n",
      " 3   position_level_manager            3969 non-null   uint8\n",
      " 4   position_level_middle management  3969 non-null   uint8\n",
      " 5   position_level_non-executive      3969 non-null   uint8\n",
      " 6   position_level_professional       3969 non-null   uint8\n",
      " 7   position_level_senior executive   3969 non-null   uint8\n",
      " 8   position_level_senior management  3969 non-null   uint8\n",
      "dtypes: uint8(9)\n",
      "memory usage: 35.0 KB\n"
     ]
    }
   ],
   "source": [
    "df_position_level = pd.get_dummies(jobs['position_level_standardized'], prefix = 'position_level')\n",
    "df_position_level.info()"
   ]
  },
  {
   "cell_type": "code",
   "execution_count": 8,
   "metadata": {
    "scrolled": true
   },
   "outputs": [
    {
     "name": "stdout",
     "output_type": "stream",
     "text": [
      "<class 'pandas.core.frame.DataFrame'>\n",
      "RangeIndex: 3969 entries, 0 to 3968\n",
      "Data columns (total 92 columns):\n",
      " #   Column                             Non-Null Count  Dtype  \n",
      "---  ------                             --------------  -----  \n",
      " 0   minimum_years_experience           3969 non-null   int64  \n",
      " 1   days_new_posting_closing           3969 non-null   float64\n",
      " 2   days_original_posting_closing      3969 non-null   float64\n",
      " 3   salary_average                     3969 non-null   float64\n",
      " 4   job_title_wordcount                3969 non-null   int64  \n",
      " 5   job_title_charcount                3969 non-null   int64  \n",
      " 6   job_description_wordcount          3969 non-null   int64  \n",
      " 7   job_description_charcount          3969 non-null   int64  \n",
      " 8   skills_num                         3969 non-null   int64  \n",
      " 9   skill_tableau                      3969 non-null   int64  \n",
      " 10  skill_datawarehouse                3969 non-null   int64  \n",
      " 11  skill_agile                        3969 non-null   int64  \n",
      " 12  skill_aws                          3969 non-null   int64  \n",
      " 13  skill_c#                           3969 non-null   int64  \n",
      " 14  skill_spring                       3969 non-null   int64  \n",
      " 15  skill_hadoop                       3969 non-null   int64  \n",
      " 16  skill_spark                        3969 non-null   int64  \n",
      " 17  skill_oracle                       3969 non-null   int64  \n",
      " 18  skill_stats                        3969 non-null   int64  \n",
      " 19  skill_datamining                   3969 non-null   int64  \n",
      " 20  skill_github                       3969 non-null   int64  \n",
      " 21  skill_sdlc                         3969 non-null   int64  \n",
      " 22  skill_c++                          3969 non-null   int64  \n",
      " 23  skill_cloud                        3969 non-null   int64  \n",
      " 24  skill_html                         3969 non-null   int64  \n",
      " 25  skill_javascript                   3969 non-null   int64  \n",
      " 26  skill_python                       3969 non-null   int64  \n",
      " 27  skill_azure                        3969 non-null   int64  \n",
      " 28  skill_linux                        3969 non-null   int64  \n",
      " 29  skill_unix                         3969 non-null   int64  \n",
      " 30  skill_ml                           3969 non-null   int64  \n",
      " 31  skill_algo                         3969 non-null   int64  \n",
      " 32  skill_java                         3969 non-null   int64  \n",
      " 33  skill_sql                          3969 non-null   int64  \n",
      " 34  categories_finance                 3969 non-null   int64  \n",
      " 35  categories_IT                      3969 non-null   int64  \n",
      " 36  categories_consulting              3969 non-null   int64  \n",
      " 37  categories_education               3969 non-null   int64  \n",
      " 38  categories_professional            3969 non-null   int64  \n",
      " 39  categories_others                  3969 non-null   int64  \n",
      " 40  categories_insurance               3969 non-null   int64  \n",
      " 41  categories_risk_mgmt               3969 non-null   int64  \n",
      " 42  categories_general_mgmt            3969 non-null   int64  \n",
      " 43  categories_engineering             3969 non-null   int64  \n",
      " 44  categories_civil_service           3969 non-null   int64  \n",
      " 45  categories_legal                   3969 non-null   int64  \n",
      " 46  categories_accounts                3969 non-null   int64  \n",
      " 47  categories_PR                      3969 non-null   int64  \n",
      " 48  categories_research                3969 non-null   int64  \n",
      " 49  categories_manufacturing           3969 non-null   int64  \n",
      " 50  categories_design                  3969 non-null   int64  \n",
      " 51  categories_telcom                  3969 non-null   int64  \n",
      " 52  categories_retail                  3969 non-null   int64  \n",
      " 53  categories_tourism                 3969 non-null   int64  \n",
      " 54  categories_advert                  3969 non-null   int64  \n",
      " 55  categories_admin                   3969 non-null   int64  \n",
      " 56  categories_maintenance             3969 non-null   int64  \n",
      " 57  categories_logistics               3969 non-null   int64  \n",
      " 58  categories_wholesale               3969 non-null   int64  \n",
      " 59  categories_social_services         3969 non-null   int64  \n",
      " 60  categories_security                3969 non-null   int64  \n",
      " 61  categories_property                3969 non-null   int64  \n",
      " 62  categories_therapy                 3969 non-null   int64  \n",
      " 63  categories_architecture            3969 non-null   int64  \n",
      " 64  categories_purchasing              3969 non-null   int64  \n",
      " 65  categories_HR                      3969 non-null   int64  \n",
      " 66  categories_entertainment           3969 non-null   int64  \n",
      " 67  categories_cust_service            3969 non-null   int64  \n",
      " 68  categories_env_health              3969 non-null   int64  \n",
      " 69  categories_construction            3969 non-null   int64  \n",
      " 70  categories_events                  3969 non-null   int64  \n",
      " 71  categories_general_work            3969 non-null   int64  \n",
      " 72  categories_FandB                   3969 non-null   int64  \n",
      " 73  categories_hospitality             3969 non-null   int64  \n",
      " 74  job_title_business analyst         3969 non-null   uint8  \n",
      " 75  job_title_data analyst             3969 non-null   uint8  \n",
      " 76  job_title_data engineer            3969 non-null   uint8  \n",
      " 77  job_title_data quality management  3969 non-null   uint8  \n",
      " 78  job_title_data scientist           3969 non-null   uint8  \n",
      " 79  job_title_research scientist       3969 non-null   uint8  \n",
      " 80  job_title_software developer       3969 non-null   uint8  \n",
      " 81  job_title_software engineer        3969 non-null   uint8  \n",
      " 82  job_title_system engineer          3969 non-null   uint8  \n",
      " 83  position_level_entry level         3969 non-null   uint8  \n",
      " 84  position_level_executive           3969 non-null   uint8  \n",
      " 85  position_level_junior executive    3969 non-null   uint8  \n",
      " 86  position_level_manager             3969 non-null   uint8  \n",
      " 87  position_level_middle management   3969 non-null   uint8  \n",
      " 88  position_level_non-executive       3969 non-null   uint8  \n",
      " 89  position_level_professional        3969 non-null   uint8  \n",
      " 90  position_level_senior executive    3969 non-null   uint8  \n",
      " 91  position_level_senior management   3969 non-null   uint8  \n",
      "dtypes: float64(3), int64(71), uint8(18)\n",
      "memory usage: 2.3 MB\n"
     ]
    }
   ],
   "source": [
    "jobs = pd.concat([jobs, df_job_title, df_position_level], \n",
    "               axis = 1, join = 'outer')\n",
    "jobs.drop(columns=['job_title_standardized', \n",
    "                 'position_level_standardized'], \n",
    "        inplace=True)\n",
    "\n",
    "jobs.info()"
   ]
  },
  {
   "cell_type": "markdown",
   "metadata": {},
   "source": [
    "## Creating Target Variables"
   ]
  },
  {
   "cell_type": "markdown",
   "metadata": {},
   "source": [
    "### Applying Logarithm function to target variable"
   ]
  },
  {
   "cell_type": "code",
   "execution_count": 9,
   "metadata": {},
   "outputs": [
    {
     "name": "stdout",
     "output_type": "stream",
     "text": [
      "<class 'pandas.core.frame.DataFrame'>\n",
      "RangeIndex: 3969 entries, 0 to 3968\n",
      "Data columns (total 93 columns):\n",
      " #   Column                             Non-Null Count  Dtype  \n",
      "---  ------                             --------------  -----  \n",
      " 0   minimum_years_experience           3969 non-null   int64  \n",
      " 1   days_new_posting_closing           3969 non-null   float64\n",
      " 2   days_original_posting_closing      3969 non-null   float64\n",
      " 3   salary_average                     3969 non-null   float64\n",
      " 4   job_title_wordcount                3969 non-null   int64  \n",
      " 5   job_title_charcount                3969 non-null   int64  \n",
      " 6   job_description_wordcount          3969 non-null   int64  \n",
      " 7   job_description_charcount          3969 non-null   int64  \n",
      " 8   skills_num                         3969 non-null   int64  \n",
      " 9   skill_tableau                      3969 non-null   int64  \n",
      " 10  skill_datawarehouse                3969 non-null   int64  \n",
      " 11  skill_agile                        3969 non-null   int64  \n",
      " 12  skill_aws                          3969 non-null   int64  \n",
      " 13  skill_c#                           3969 non-null   int64  \n",
      " 14  skill_spring                       3969 non-null   int64  \n",
      " 15  skill_hadoop                       3969 non-null   int64  \n",
      " 16  skill_spark                        3969 non-null   int64  \n",
      " 17  skill_oracle                       3969 non-null   int64  \n",
      " 18  skill_stats                        3969 non-null   int64  \n",
      " 19  skill_datamining                   3969 non-null   int64  \n",
      " 20  skill_github                       3969 non-null   int64  \n",
      " 21  skill_sdlc                         3969 non-null   int64  \n",
      " 22  skill_c++                          3969 non-null   int64  \n",
      " 23  skill_cloud                        3969 non-null   int64  \n",
      " 24  skill_html                         3969 non-null   int64  \n",
      " 25  skill_javascript                   3969 non-null   int64  \n",
      " 26  skill_python                       3969 non-null   int64  \n",
      " 27  skill_azure                        3969 non-null   int64  \n",
      " 28  skill_linux                        3969 non-null   int64  \n",
      " 29  skill_unix                         3969 non-null   int64  \n",
      " 30  skill_ml                           3969 non-null   int64  \n",
      " 31  skill_algo                         3969 non-null   int64  \n",
      " 32  skill_java                         3969 non-null   int64  \n",
      " 33  skill_sql                          3969 non-null   int64  \n",
      " 34  categories_finance                 3969 non-null   int64  \n",
      " 35  categories_IT                      3969 non-null   int64  \n",
      " 36  categories_consulting              3969 non-null   int64  \n",
      " 37  categories_education               3969 non-null   int64  \n",
      " 38  categories_professional            3969 non-null   int64  \n",
      " 39  categories_others                  3969 non-null   int64  \n",
      " 40  categories_insurance               3969 non-null   int64  \n",
      " 41  categories_risk_mgmt               3969 non-null   int64  \n",
      " 42  categories_general_mgmt            3969 non-null   int64  \n",
      " 43  categories_engineering             3969 non-null   int64  \n",
      " 44  categories_civil_service           3969 non-null   int64  \n",
      " 45  categories_legal                   3969 non-null   int64  \n",
      " 46  categories_accounts                3969 non-null   int64  \n",
      " 47  categories_PR                      3969 non-null   int64  \n",
      " 48  categories_research                3969 non-null   int64  \n",
      " 49  categories_manufacturing           3969 non-null   int64  \n",
      " 50  categories_design                  3969 non-null   int64  \n",
      " 51  categories_telcom                  3969 non-null   int64  \n",
      " 52  categories_retail                  3969 non-null   int64  \n",
      " 53  categories_tourism                 3969 non-null   int64  \n",
      " 54  categories_advert                  3969 non-null   int64  \n",
      " 55  categories_admin                   3969 non-null   int64  \n",
      " 56  categories_maintenance             3969 non-null   int64  \n",
      " 57  categories_logistics               3969 non-null   int64  \n",
      " 58  categories_wholesale               3969 non-null   int64  \n",
      " 59  categories_social_services         3969 non-null   int64  \n",
      " 60  categories_security                3969 non-null   int64  \n",
      " 61  categories_property                3969 non-null   int64  \n",
      " 62  categories_therapy                 3969 non-null   int64  \n",
      " 63  categories_architecture            3969 non-null   int64  \n",
      " 64  categories_purchasing              3969 non-null   int64  \n",
      " 65  categories_HR                      3969 non-null   int64  \n",
      " 66  categories_entertainment           3969 non-null   int64  \n",
      " 67  categories_cust_service            3969 non-null   int64  \n",
      " 68  categories_env_health              3969 non-null   int64  \n",
      " 69  categories_construction            3969 non-null   int64  \n",
      " 70  categories_events                  3969 non-null   int64  \n",
      " 71  categories_general_work            3969 non-null   int64  \n",
      " 72  categories_FandB                   3969 non-null   int64  \n",
      " 73  categories_hospitality             3969 non-null   int64  \n",
      " 74  job_title_business analyst         3969 non-null   uint8  \n",
      " 75  job_title_data analyst             3969 non-null   uint8  \n",
      " 76  job_title_data engineer            3969 non-null   uint8  \n",
      " 77  job_title_data quality management  3969 non-null   uint8  \n",
      " 78  job_title_data scientist           3969 non-null   uint8  \n",
      " 79  job_title_research scientist       3969 non-null   uint8  \n",
      " 80  job_title_software developer       3969 non-null   uint8  \n",
      " 81  job_title_software engineer        3969 non-null   uint8  \n",
      " 82  job_title_system engineer          3969 non-null   uint8  \n",
      " 83  position_level_entry level         3969 non-null   uint8  \n",
      " 84  position_level_executive           3969 non-null   uint8  \n",
      " 85  position_level_junior executive    3969 non-null   uint8  \n",
      " 86  position_level_manager             3969 non-null   uint8  \n",
      " 87  position_level_middle management   3969 non-null   uint8  \n",
      " 88  position_level_non-executive       3969 non-null   uint8  \n",
      " 89  position_level_professional        3969 non-null   uint8  \n",
      " 90  position_level_senior executive    3969 non-null   uint8  \n",
      " 91  position_level_senior management   3969 non-null   uint8  \n",
      " 92  salary_average_log                 3969 non-null   float64\n",
      "dtypes: float64(4), int64(71), uint8(18)\n",
      "memory usage: 2.3 MB\n"
     ]
    }
   ],
   "source": [
    "# applying log function to target variable\n",
    "jobs['salary_average_log'] = np.log(jobs['salary_average'])\n",
    "jobs.info()"
   ]
  },
  {
   "cell_type": "code",
   "execution_count": 10,
   "metadata": {},
   "outputs": [
    {
     "data": {
      "text/plain": [
       "minimum_years_experience\n",
       "0      4950.00\n",
       "1      4500.00\n",
       "2      5150.00\n",
       "3      6250.00\n",
       "4      7000.00\n",
       "5      7500.00\n",
       "6      8250.00\n",
       "7      9000.00\n",
       "8      9995.75\n",
       "9     10500.00\n",
       "10    12000.00\n",
       "11    10750.00\n",
       "12    13250.00\n",
       "13    16000.00\n",
       "14    13666.75\n",
       "15    15000.00\n",
       "16    15000.00\n",
       "Name: salary_average, dtype: float64"
      ]
     },
     "execution_count": 10,
     "metadata": {},
     "output_type": "execute_result"
    }
   ],
   "source": [
    "jobs.groupby(by='minimum_years_experience').salary_average.median()"
   ]
  },
  {
   "cell_type": "code",
   "execution_count": 11,
   "metadata": {},
   "outputs": [
    {
     "data": {
      "text/html": [
       "<div>\n",
       "<style scoped>\n",
       "    .dataframe tbody tr th:only-of-type {\n",
       "        vertical-align: middle;\n",
       "    }\n",
       "\n",
       "    .dataframe tbody tr th {\n",
       "        vertical-align: top;\n",
       "    }\n",
       "\n",
       "    .dataframe thead th {\n",
       "        text-align: right;\n",
       "    }\n",
       "</style>\n",
       "<table border=\"1\" class=\"dataframe\">\n",
       "  <thead>\n",
       "    <tr style=\"text-align: right;\">\n",
       "      <th></th>\n",
       "      <th>minimum_years_experience</th>\n",
       "      <th>salary_average</th>\n",
       "      <th>salary_above_median</th>\n",
       "    </tr>\n",
       "  </thead>\n",
       "  <tbody>\n",
       "    <tr>\n",
       "      <th>0</th>\n",
       "      <td>5</td>\n",
       "      <td>13125.0</td>\n",
       "      <td>0</td>\n",
       "    </tr>\n",
       "    <tr>\n",
       "      <th>1</th>\n",
       "      <td>3</td>\n",
       "      <td>4500.0</td>\n",
       "      <td>0</td>\n",
       "    </tr>\n",
       "    <tr>\n",
       "      <th>2</th>\n",
       "      <td>2</td>\n",
       "      <td>3400.0</td>\n",
       "      <td>0</td>\n",
       "    </tr>\n",
       "    <tr>\n",
       "      <th>3</th>\n",
       "      <td>15</td>\n",
       "      <td>6000.0</td>\n",
       "      <td>0</td>\n",
       "    </tr>\n",
       "    <tr>\n",
       "      <th>4</th>\n",
       "      <td>2</td>\n",
       "      <td>6000.0</td>\n",
       "      <td>0</td>\n",
       "    </tr>\n",
       "  </tbody>\n",
       "</table>\n",
       "</div>"
      ],
      "text/plain": [
       "   minimum_years_experience  salary_average  salary_above_median\n",
       "0                         5         13125.0                    0\n",
       "1                         3          4500.0                    0\n",
       "2                         2          3400.0                    0\n",
       "3                        15          6000.0                    0\n",
       "4                         2          6000.0                    0"
      ]
     },
     "execution_count": 11,
     "metadata": {},
     "output_type": "execute_result"
    }
   ],
   "source": [
    "jobs_median = jobs[['minimum_years_experience', 'salary_average']].copy()\n",
    "jobs_median['salary_above_median'] = 0\n",
    "jobs_median.head()"
   ]
  },
  {
   "cell_type": "code",
   "execution_count": null,
   "metadata": {},
   "outputs": [],
   "source": []
  },
  {
   "cell_type": "code",
   "execution_count": null,
   "metadata": {},
   "outputs": [],
   "source": []
  },
  {
   "cell_type": "code",
   "execution_count": 13,
   "metadata": {},
   "outputs": [],
   "source": [
    "# target variable - average salary\n",
    "jobs_v1 = jobs.drop(columns=['salary_average_log'])\n",
    "jobs_v1.to_csv('../data/modelling_dataset_v1.csv', index=False)\n",
    "\n",
    "# target variable - np.log(average salary)\n",
    "jobs_v2 = jobs.drop(columns=['salary_average'])\n",
    "jobs_v2.to_csv('../data/modelling_dataset_v2.csv', index=False)\n",
    "\n",
    "# target variable - classification using median values\n",
    "# jobs_v3.to_csv('../data/modelling_dataset_v3.csv', index=False)"
   ]
  },
  {
   "cell_type": "code",
   "execution_count": null,
   "metadata": {},
   "outputs": [],
   "source": []
  },
  {
   "cell_type": "markdown",
   "metadata": {},
   "source": [
    "## Pre-processing for Classification Modelling"
   ]
  },
  {
   "cell_type": "code",
   "execution_count": null,
   "metadata": {},
   "outputs": [],
   "source": []
  },
  {
   "cell_type": "code",
   "execution_count": null,
   "metadata": {},
   "outputs": [],
   "source": []
  },
  {
   "cell_type": "code",
   "execution_count": null,
   "metadata": {},
   "outputs": [],
   "source": []
  },
  {
   "cell_type": "code",
   "execution_count": null,
   "metadata": {},
   "outputs": [],
   "source": []
  },
  {
   "cell_type": "code",
   "execution_count": null,
   "metadata": {},
   "outputs": [],
   "source": []
  },
  {
   "cell_type": "code",
   "execution_count": null,
   "metadata": {},
   "outputs": [],
   "source": []
  },
  {
   "cell_type": "code",
   "execution_count": null,
   "metadata": {},
   "outputs": [],
   "source": [
    "job_text.head()"
   ]
  },
  {
   "cell_type": "code",
   "execution_count": null,
   "metadata": {},
   "outputs": [],
   "source": [
    "jobs['salary_average']"
   ]
  },
  {
   "cell_type": "code",
   "execution_count": null,
   "metadata": {},
   "outputs": [],
   "source": [
    "job_text = pd.concat([job_text, jobs['salary_average']], \n",
    "                     axis = 1, join = 'outer')\n",
    "job_text.head()"
   ]
  },
  {
   "cell_type": "code",
   "execution_count": null,
   "metadata": {},
   "outputs": [],
   "source": [
    "jobs['salary_average'].median()"
   ]
  },
  {
   "cell_type": "code",
   "execution_count": null,
   "metadata": {},
   "outputs": [],
   "source": [
    "job_nlp['salary_above_median'] = (job_nlp['salary_average'] > 6650.0).astype(int)\n",
    "job_nlp.head()"
   ]
  },
  {
   "cell_type": "code",
   "execution_count": null,
   "metadata": {},
   "outputs": [],
   "source": [
    "job_nlp.drop(columns=['salary_average'], inplace=True)\n",
    "job_nlp.info()"
   ]
  },
  {
   "cell_type": "code",
   "execution_count": null,
   "metadata": {},
   "outputs": [],
   "source": [
    "job_nlp['salary_above_median'].value_counts()"
   ]
  },
  {
   "cell_type": "code",
   "execution_count": null,
   "metadata": {},
   "outputs": [],
   "source": [
    "job_nlp.to_csv('../assets/modelling_dataset_mediansalary_classification.csv', index=False)"
   ]
  },
  {
   "cell_type": "code",
   "execution_count": null,
   "metadata": {},
   "outputs": [],
   "source": []
  }
 ],
 "metadata": {
  "kernelspec": {
   "display_name": "Python 3",
   "language": "python",
   "name": "python3"
  },
  "language_info": {
   "codemirror_mode": {
    "name": "ipython",
    "version": 3
   },
   "file_extension": ".py",
   "mimetype": "text/x-python",
   "name": "python",
   "nbconvert_exporter": "python",
   "pygments_lexer": "ipython3",
   "version": "3.8.5"
  }
 },
 "nbformat": 4,
 "nbformat_minor": 4
}
