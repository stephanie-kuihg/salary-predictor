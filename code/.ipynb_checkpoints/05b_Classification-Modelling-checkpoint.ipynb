{
 "cells": [
  {
   "cell_type": "markdown",
   "metadata": {},
   "source": [
    "# 4b. Classification Modelling\n",
    "---\n",
    "\n",
    "### Table of Contents <a class=\"anchor\" id=\"toc\"></a>\n",
    "\n",
    "* [Overview](#overview)\n",
    "* [Importing Libraries](#importinglibraries)\n",
    "* [Creating Custom Functions](#customfunctions)\n",
    "* [Classification Modelling](#classification)\n",
    "    * [Null Model](#null)\n",
    "    * [Logistic Regression](#logreg)\n",
    "    * [AdaBoost Classifier](#ada)\n",
    "    * [Bagging Classifier](#bagc)\n",
    "    * [Gradient Boosting Classifier](#gbc)\n",
    "    * [Random Forest Classifier](#rfc)\n",
    "    * [Extra Trees Classifier](#etc)\n",
    "    * [Support Vector Machine for Classification](#svc)\n",
    "    * [Summary of metrics for Classification Modelling](#summary)    \n",
    "* [NLP Classification Modelling](#classificationnlp)\n",
    "    * [Null Model](#nullnlp)\n",
    "    * [Logistic Regression](#logregnlp)\n",
    "    * [AdaBoost Classifier](#adanlp)\n",
    "    * [Bagging Classifier](#bagcnlp)\n",
    "    * [Gradient Boosting Classifier](#gbcnlp)\n",
    "    * [Random Forest Classifier](#rfcnlp)\n",
    "    * [Extra Trees Classifier](#etcnlp)\n",
    "    * [Support Vector Machine for Classification](#svcnlp)\n",
    "    * [Multinomial Naive Bayes](#nbnlp)\n",
    "    * [Summary of metrics for NLP Classification Modelling](#summarynlp) \n",
    "* [Conclusions & Recommendations](#conclusions)\n"
   ]
  },
  {
   "cell_type": "markdown",
   "metadata": {},
   "source": [
    "## Overview <a class=\"anchor\" id=\"overview\"></a>\n",
    "---\n",
    "[Back to top!](#toc)\n",
    "\n",
    "executive summary of models\n",
    "\n",
    "Metrics used"
   ]
  },
  {
   "cell_type": "markdown",
   "metadata": {},
   "source": [
    "## Importing Libraries <a class=\"anchor\" id=\"importinglibraries\"></a>\n",
    "---\n",
    "[Back to top!](#toc)"
   ]
  },
  {
   "cell_type": "code",
   "execution_count": 1,
   "metadata": {},
   "outputs": [],
   "source": [
    "import pandas as pd\n",
    "import numpy as np\n",
    "import math as math\n",
    "import matplotlib.pyplot as plt\n",
    "import seaborn as sns\n",
    "\n",
    "from sklearn.model_selection import train_test_split, cross_val_score, GridSearchCV\n",
    "from sklearn.preprocessing import StandardScaler\n",
    "from sklearn.pipeline import Pipeline\n",
    "\n",
    "from sklearn.naive_bayes import MultinomialNB, CategoricalNB\n",
    "from sklearn.linear_model import LogisticRegression\n",
    "from sklearn.ensemble import AdaBoostClassifier, BaggingClassifier, GradientBoostingClassifier\n",
    "from sklearn.ensemble import RandomForestClassifier, ExtraTreesClassifier\n",
    "from sklearn.svm import SVC\n",
    "\n",
    "from sklearn.metrics import confusion_matrix, plot_confusion_matrix\n",
    "from sklearn.metrics import accuracy_score, precision_score, recall_score, roc_auc_score, plot_roc_curve\n",
    "\n",
    "from sklearn.feature_extraction.text import CountVectorizer, TfidfVectorizer\n",
    "\n",
    "pd.set_option('display.float_format', lambda x: '{:.3f}'.format(x))\n",
    "# limit floats to 3 decimal points"
   ]
  },
  {
   "cell_type": "markdown",
   "metadata": {},
   "source": [
    "## Custom Functions <a class=\"anchor\" id=\"customfunctions\"></a>\n",
    "---\n",
    "[Back to top!](#toc)"
   ]
  },
  {
   "cell_type": "code",
   "execution_count": 2,
   "metadata": {},
   "outputs": [],
   "source": [
    "def get_scores(model_name, pipeline):\n",
    "    print(model_name)\n",
    "    print('------------')\n",
    "    train_score = pipeline.score(X_train, y_train)\n",
    "    print(f'Training score: {round(train_score, 4)}')\n",
    "    test_score = pipeline.score(X_test, y_test)\n",
    "    print(f'Testing score: {round(test_score, 4)}')"
   ]
  },
  {
   "cell_type": "code",
   "execution_count": 3,
   "metadata": {},
   "outputs": [],
   "source": [
    "from sklearn.metrics import accuracy_score, precision_score, recall_score, roc_auc_score, f1_score\n",
    "\n",
    "def get_evaluation_metrics(model_name, cm, preds):\n",
    "    print(model_name)\n",
    "    print('------------')\n",
    "    print(\"True Negatives: %s\" % tn)\n",
    "    print(\"False Positives: %s\" % fp)\n",
    "    print(\"False Negatives: %s\" % fn)\n",
    "    print(\"True Positives: %s\" % tp)\n",
    "    print()\n",
    "    \n",
    "    # accuracy = (tn + tp) / (tn + fp + fn + tp) \n",
    "    accuracy = accuracy_score(y_test, preds) \n",
    "    print(f'Accuracy: {round(accuracy, 4)}')\n",
    "    \n",
    "    specificity = tn / (tn + fp)\n",
    "    print(f'Specificity: {round(specificity, 4)}')\n",
    "    \n",
    "    # sensitivity = tp / (tp + fn)\n",
    "    sensitivity = recall_score(y_test, preds)\n",
    "    print(f'Sensitivity: {round(sensitivity, 4)}')\n",
    "    \n",
    "    # precision = tp / (tp + fp)\n",
    "    precision = precision_score(y_test, preds)\n",
    "    print(f'Precision: {round(precision, 4)}')\n",
    "    \n",
    "    # f1score = 2 * (precision*sensitivity) / (precision + sensitivity)\n",
    "    f1score = f1_score(y_test, preds)\n",
    "    print(f'F1 score: {round(f1score, 4)}')\n",
    "    \n",
    "    roc_auc = roc_auc_score(y_test, preds)\n",
    "    print(f'ROC AUC score: {round(roc_auc, 4)}')"
   ]
  },
  {
   "cell_type": "code",
   "execution_count": 4,
   "metadata": {},
   "outputs": [],
   "source": [
    "def get_gs_metrics(model_name, gs_model):\n",
    "    print(model_name)\n",
    "    print('------------')\n",
    "    # best params\n",
    "    best_params = gs_model.best_params_\n",
    "    print(f\"Best Parameters: {best_params}\")\n",
    "    # best score\n",
    "    best_score = gs_model.best_score_\n",
    "    print(f\"Best train score: {round(best_score, 4)}\")"
   ]
  },
  {
   "cell_type": "markdown",
   "metadata": {},
   "source": [
    "## Classification Modelling <a class=\"anchor\" id=\"customfunctions\"></a>\n",
    "---\n",
    "[Back to top!](#toc)"
   ]
  },
  {
   "cell_type": "code",
   "execution_count": 90,
   "metadata": {
    "scrolled": true
   },
   "outputs": [
    {
     "name": "stdout",
     "output_type": "stream",
     "text": [
      "<class 'pandas.core.frame.DataFrame'>\n",
      "RangeIndex: 3969 entries, 0 to 3968\n",
      "Data columns (total 92 columns):\n",
      " #   Column                             Non-Null Count  Dtype  \n",
      "---  ------                             --------------  -----  \n",
      " 0   minimum_years_experience           3969 non-null   int64  \n",
      " 1   days_new_posting_closing           3969 non-null   float64\n",
      " 2   days_original_posting_closing      3969 non-null   float64\n",
      " 3   job_title_wordcount                3969 non-null   int64  \n",
      " 4   job_title_charcount                3969 non-null   int64  \n",
      " 5   job_description_wordcount          3969 non-null   int64  \n",
      " 6   job_description_charcount          3969 non-null   int64  \n",
      " 7   skills_num                         3969 non-null   int64  \n",
      " 8   skill_tableau                      3969 non-null   int64  \n",
      " 9   skill_datawarehouse                3969 non-null   int64  \n",
      " 10  skill_agile                        3969 non-null   int64  \n",
      " 11  skill_aws                          3969 non-null   int64  \n",
      " 12  skill_c#                           3969 non-null   int64  \n",
      " 13  skill_spring                       3969 non-null   int64  \n",
      " 14  skill_hadoop                       3969 non-null   int64  \n",
      " 15  skill_spark                        3969 non-null   int64  \n",
      " 16  skill_oracle                       3969 non-null   int64  \n",
      " 17  skill_stats                        3969 non-null   int64  \n",
      " 18  skill_datamining                   3969 non-null   int64  \n",
      " 19  skill_github                       3969 non-null   int64  \n",
      " 20  skill_sdlc                         3969 non-null   int64  \n",
      " 21  skill_c++                          3969 non-null   int64  \n",
      " 22  skill_cloud                        3969 non-null   int64  \n",
      " 23  skill_html                         3969 non-null   int64  \n",
      " 24  skill_javascript                   3969 non-null   int64  \n",
      " 25  skill_python                       3969 non-null   int64  \n",
      " 26  skill_azure                        3969 non-null   int64  \n",
      " 27  skill_linux                        3969 non-null   int64  \n",
      " 28  skill_unix                         3969 non-null   int64  \n",
      " 29  skill_ml                           3969 non-null   int64  \n",
      " 30  skill_algo                         3969 non-null   int64  \n",
      " 31  skill_java                         3969 non-null   int64  \n",
      " 32  skill_sql                          3969 non-null   int64  \n",
      " 33  categories_finance                 3969 non-null   int64  \n",
      " 34  categories_IT                      3969 non-null   int64  \n",
      " 35  categories_consulting              3969 non-null   int64  \n",
      " 36  categories_education               3969 non-null   int64  \n",
      " 37  categories_professional            3969 non-null   int64  \n",
      " 38  categories_others                  3969 non-null   int64  \n",
      " 39  categories_insurance               3969 non-null   int64  \n",
      " 40  categories_risk_mgmt               3969 non-null   int64  \n",
      " 41  categories_general_mgmt            3969 non-null   int64  \n",
      " 42  categories_engineering             3969 non-null   int64  \n",
      " 43  categories_civil_service           3969 non-null   int64  \n",
      " 44  categories_legal                   3969 non-null   int64  \n",
      " 45  categories_accounts                3969 non-null   int64  \n",
      " 46  categories_PR                      3969 non-null   int64  \n",
      " 47  categories_research                3969 non-null   int64  \n",
      " 48  categories_manufacturing           3969 non-null   int64  \n",
      " 49  categories_design                  3969 non-null   int64  \n",
      " 50  categories_telcom                  3969 non-null   int64  \n",
      " 51  categories_retail                  3969 non-null   int64  \n",
      " 52  categories_tourism                 3969 non-null   int64  \n",
      " 53  categories_advert                  3969 non-null   int64  \n",
      " 54  categories_admin                   3969 non-null   int64  \n",
      " 55  categories_maintenance             3969 non-null   int64  \n",
      " 56  categories_logistics               3969 non-null   int64  \n",
      " 57  categories_wholesale               3969 non-null   int64  \n",
      " 58  categories_social_services         3969 non-null   int64  \n",
      " 59  categories_security                3969 non-null   int64  \n",
      " 60  categories_property                3969 non-null   int64  \n",
      " 61  categories_therapy                 3969 non-null   int64  \n",
      " 62  categories_architecture            3969 non-null   int64  \n",
      " 63  categories_purchasing              3969 non-null   int64  \n",
      " 64  categories_HR                      3969 non-null   int64  \n",
      " 65  categories_entertainment           3969 non-null   int64  \n",
      " 66  categories_cust_service            3969 non-null   int64  \n",
      " 67  categories_env_health              3969 non-null   int64  \n",
      " 68  categories_construction            3969 non-null   int64  \n",
      " 69  categories_events                  3969 non-null   int64  \n",
      " 70  categories_general_work            3969 non-null   int64  \n",
      " 71  categories_FandB                   3969 non-null   int64  \n",
      " 72  categories_hospitality             3969 non-null   int64  \n",
      " 73  job_title_business analyst         3969 non-null   int64  \n",
      " 74  job_title_data analyst             3969 non-null   int64  \n",
      " 75  job_title_data engineer            3969 non-null   int64  \n",
      " 76  job_title_data quality management  3969 non-null   int64  \n",
      " 77  job_title_data scientist           3969 non-null   int64  \n",
      " 78  job_title_research scientist       3969 non-null   int64  \n",
      " 79  job_title_software developer       3969 non-null   int64  \n",
      " 80  job_title_software engineer        3969 non-null   int64  \n",
      " 81  job_title_system engineer          3969 non-null   int64  \n",
      " 82  position_level_entry level         3969 non-null   int64  \n",
      " 83  position_level_executive           3969 non-null   int64  \n",
      " 84  position_level_junior executive    3969 non-null   int64  \n",
      " 85  position_level_manager             3969 non-null   int64  \n",
      " 86  position_level_middle management   3969 non-null   int64  \n",
      " 87  position_level_non-executive       3969 non-null   int64  \n",
      " 88  position_level_professional        3969 non-null   int64  \n",
      " 89  position_level_senior executive    3969 non-null   int64  \n",
      " 90  position_level_senior management   3969 non-null   int64  \n",
      " 91  salary_above_median                3969 non-null   int64  \n",
      "dtypes: float64(2), int64(90)\n",
      "memory usage: 2.8 MB\n"
     ]
    }
   ],
   "source": [
    "df_v3 = pd.read_csv('../data/modelling_dataset_v3.csv')\n",
    "df_v3.info()"
   ]
  },
  {
   "cell_type": "markdown",
   "metadata": {},
   "source": [
    "### Null Model <a class=\"anchor\" id=\"null\"></a>\n",
    "[Back to top!](#toc)"
   ]
  },
  {
   "cell_type": "code",
   "execution_count": 137,
   "metadata": {},
   "outputs": [],
   "source": [
    "features = [col for col in df_v3.columns if col != 'salary_above_median']\n",
    "X = df_v3[features]\n",
    "y = df_v3['salary_above_median']\n",
    "\n",
    "X_train, X_test, y_train, y_test = train_test_split(X, y, random_state=123)"
   ]
  },
  {
   "cell_type": "code",
   "execution_count": 138,
   "metadata": {},
   "outputs": [
    {
     "data": {
      "text/plain": [
       "0   0.514\n",
       "1   0.486\n",
       "Name: salary_above_median, dtype: float64"
      ]
     },
     "execution_count": 138,
     "metadata": {},
     "output_type": "execute_result"
    }
   ],
   "source": [
    "# baseline accuracy\n",
    "y_test.value_counts(normalize=True)"
   ]
  },
  {
   "cell_type": "markdown",
   "metadata": {},
   "source": [
    "### Logistic Regression <a class=\"anchor\" id=\"logreg\"></a>\n",
    "[Back to top!](#toc)"
   ]
  },
  {
   "cell_type": "code",
   "execution_count": 95,
   "metadata": {},
   "outputs": [
    {
     "data": {
      "text/plain": [
       "LogisticRegression()"
      ]
     },
     "execution_count": 95,
     "metadata": {},
     "output_type": "execute_result"
    }
   ],
   "source": [
    "features = [col for col in df_v3.columns if col != 'salary_above_median']\n",
    "X = df_v3[features]\n",
    "y = df_v3['salary_above_median']\n",
    "\n",
    "X_train, X_test, y_train, y_test = train_test_split(X, y, random_state=123)\n",
    "\n",
    "ss = StandardScaler()\n",
    "ss.fit(X_train)\n",
    "X_train = ss.transform(X_train)\n",
    "X_test = ss.transform(X_test)\n",
    "\n",
    "logreg = LogisticRegression()\n",
    "logreg.fit(X_train, y_train)"
   ]
  },
  {
   "cell_type": "code",
   "execution_count": 96,
   "metadata": {},
   "outputs": [
    {
     "name": "stdout",
     "output_type": "stream",
     "text": [
      "Logistic Regression\n",
      "------------\n",
      "Training score: 0.6683\n",
      "Testing score: 0.6344\n"
     ]
    }
   ],
   "source": [
    "get_scores('Logistic Regression', logreg)\n",
    "\n",
    "# keeping variable for summary input later\n",
    "train_score_logreg = logreg.score(X_train, y_train)"
   ]
  },
  {
   "cell_type": "code",
   "execution_count": 97,
   "metadata": {},
   "outputs": [
    {
     "name": "stdout",
     "output_type": "stream",
     "text": [
      "Logistic Regression\n",
      "------------\n",
      "True Negatives: 334\n",
      "False Positives: 176\n",
      "False Negatives: 187\n",
      "True Positives: 296\n",
      "\n",
      "Accuracy: 0.6344\n",
      "Specificity: 0.6549\n",
      "Sensitivity: 0.6128\n",
      "Precision: 0.6271\n",
      "F1 score: 0.6199\n",
      "ROC AUC score: 0.6339\n"
     ]
    },
    {
     "data": {
      "image/png": "[encoded data removed]",
      "text/plain": [
       "<Figure size 432x288 with 2 Axes>"
      ]
     },
     "metadata": {
      "needs_background": "light"
     },
     "output_type": "display_data"
    }
   ],
   "source": [
    "# Get predictions\n",
    "preds_logreg = logreg.predict(X_test)\n",
    "\n",
    "# Save confusion matrix values\n",
    "tn, fp, fn, tp = confusion_matrix(y_test, preds_logreg).ravel()\n",
    "cm_logreg = tn, fp, fn, tp \n",
    "get_evaluation_metrics('Logistic Regression', cm_logreg, preds_logreg)\n",
    "\n",
    "# keeping variable for summary input later\n",
    "spec_logreg = tn / (tn + fp)\n",
    "\n",
    "# visualizing confusion matrix\n",
    "plot_confusion_matrix(logreg, X_test, y_test, cmap='Blues', values_format='d');"
   ]
  },
  {
   "cell_type": "markdown",
   "metadata": {},
   "source": [
    "### AdaBoost Classifier <a class=\"anchor\" id=\"ada\"></a>\n",
    "[Back to top!](#toc)"
   ]
  },
  {
   "cell_type": "code",
   "execution_count": 98,
   "metadata": {},
   "outputs": [
    {
     "data": {
      "text/plain": [
       "AdaBoostClassifier(n_estimators=500, random_state=123)"
      ]
     },
     "execution_count": 98,
     "metadata": {},
     "output_type": "execute_result"
    }
   ],
   "source": [
    "features = [col for col in df_v3.columns if col != 'salary_above_median']\n",
    "X = df_v3[features]\n",
    "y = df_v3['salary_above_median']\n",
    "\n",
    "X_train, X_test, y_train, y_test = train_test_split(X, y, random_state=123)\n",
    "\n",
    "ss = StandardScaler()\n",
    "ss.fit(X_train)\n",
    "X_train = ss.transform(X_train)\n",
    "X_test = ss.transform(X_test)\n",
    "\n",
    "ada = AdaBoostClassifier(n_estimators=500, random_state=123)\n",
    "ada.fit(X_train, y_train)"
   ]
  },
  {
   "cell_type": "code",
   "execution_count": 99,
   "metadata": {},
   "outputs": [
    {
     "name": "stdout",
     "output_type": "stream",
     "text": [
      "AdaBoost Classifier\n",
      "------------\n",
      "Training score: 0.7272\n",
      "Testing score: 0.6385\n"
     ]
    }
   ],
   "source": [
    "get_scores('AdaBoost Classifier', ada)\n",
    "\n",
    "# keeping variable for summary input later\n",
    "train_score_ada = ada.score(X_train, y_train)"
   ]
  },
  {
   "cell_type": "code",
   "execution_count": 100,
   "metadata": {},
   "outputs": [
    {
     "name": "stdout",
     "output_type": "stream",
     "text": [
      "AdaBoost Classifier\n",
      "------------\n",
      "True Negatives: 349\n",
      "False Positives: 161\n",
      "False Negatives: 198\n",
      "True Positives: 285\n",
      "\n",
      "Accuracy: 0.6385\n",
      "Specificity: 0.6843\n",
      "Sensitivity: 0.5901\n",
      "Precision: 0.639\n",
      "F1 score: 0.6136\n",
      "ROC AUC score: 0.6372\n"
     ]
    },
    {
     "data": {
      "image/png": "[encoded data removed]",
      "text/plain": [
       "<Figure size 432x288 with 2 Axes>"
      ]
     },
     "metadata": {
      "needs_background": "light"
     },
     "output_type": "display_data"
    }
   ],
   "source": [
    "# Get predictions\n",
    "preds_ada = ada.predict(X_test)\n",
    "\n",
    "# Save confusion matrix values\n",
    "tn, fp, fn, tp = confusion_matrix(y_test, preds_ada).ravel()\n",
    "cm_ada = tn, fp, fn, tp \n",
    "get_evaluation_metrics('AdaBoost Classifier', cm_ada, preds_ada)\n",
    "\n",
    "# keeping variable for summary input later\n",
    "spec_ada = tn / (tn + fp)\n",
    "\n",
    "# visualizing confusion matrix\n",
    "plot_confusion_matrix(ada, X_test, y_test, cmap='Blues', values_format='d');"
   ]
  },
  {
   "cell_type": "markdown",
   "metadata": {},
   "source": [
    "### Bagging Classifier <a class=\"anchor\" id=\"bagc\"></a>\n",
    "[Back to top!](#toc)"
   ]
  },
  {
   "cell_type": "code",
   "execution_count": 101,
   "metadata": {},
   "outputs": [
    {
     "data": {
      "text/plain": [
       "BaggingClassifier(n_estimators=200, random_state=123)"
      ]
     },
     "execution_count": 101,
     "metadata": {},
     "output_type": "execute_result"
    }
   ],
   "source": [
    "features = [col for col in df_v3.columns if col != 'salary_above_median']\n",
    "X = df_v3[features]\n",
    "y = df_v3['salary_above_median']\n",
    "\n",
    "X_train, X_test, y_train, y_test = train_test_split(X, y, random_state=123)\n",
    "\n",
    "ss = StandardScaler()\n",
    "ss.fit(X_train)\n",
    "X_train = ss.transform(X_train)\n",
    "X_test = ss.transform(X_test)\n",
    "\n",
    "bagc = BaggingClassifier(n_estimators=200, random_state=123)\n",
    "bagc.fit(X_train, y_train)"
   ]
  },
  {
   "cell_type": "code",
   "execution_count": 102,
   "metadata": {},
   "outputs": [
    {
     "name": "stdout",
     "output_type": "stream",
     "text": [
      "Bagging Classifier\n",
      "------------\n",
      "Training score: 0.9983\n",
      "Testing score: 0.6737\n"
     ]
    }
   ],
   "source": [
    "get_scores('Bagging Classifier', bagc)\n",
    "\n",
    "# keeping variable for summary input later\n",
    "train_score_bagc = bagc.score(X_train, y_train)"
   ]
  },
  {
   "cell_type": "code",
   "execution_count": 103,
   "metadata": {},
   "outputs": [
    {
     "name": "stdout",
     "output_type": "stream",
     "text": [
      "Random Forest Classifier\n",
      "------------\n",
      "True Negatives: 374\n",
      "False Positives: 136\n",
      "False Negatives: 188\n",
      "True Positives: 295\n",
      "\n",
      "Accuracy: 0.6737\n",
      "Specificity: 0.7333\n",
      "Sensitivity: 0.6108\n",
      "Precision: 0.6845\n",
      "F1 score: 0.6455\n",
      "ROC AUC score: 0.672\n"
     ]
    },
    {
     "data": {
      "image/png": "[encoded data removed]",
      "text/plain": [
       "<Figure size 432x288 with 2 Axes>"
      ]
     },
     "metadata": {
      "needs_background": "light"
     },
     "output_type": "display_data"
    }
   ],
   "source": [
    "# Get predictions\n",
    "preds_bagc = bagc.predict(X_test)\n",
    "\n",
    "# Save confusion matrix values\n",
    "tn, fp, fn, tp = confusion_matrix(y_test, preds_bagc).ravel()\n",
    "cm_bagc = tn, fp, fn, tp \n",
    "get_evaluation_metrics('Random Forest Classifier', cm_bagc, preds_bagc)\n",
    "\n",
    "# keeping variable for summary input later\n",
    "spec_bagc = tn / (tn + fp)\n",
    "\n",
    "# visualizing confusion matrix\n",
    "plot_confusion_matrix(bagc, X_test, y_test, cmap='Blues', values_format='d');"
   ]
  },
  {
   "cell_type": "markdown",
   "metadata": {},
   "source": [
    "### Gradient Boosting Classifier <a class=\"anchor\" id=\"gbc\"></a>\n",
    "[Back to top!](#toc)"
   ]
  },
  {
   "cell_type": "code",
   "execution_count": 104,
   "metadata": {},
   "outputs": [
    {
     "data": {
      "text/plain": [
       "GradientBoostingClassifier(learning_rate=1.0, max_depth=10, n_estimators=500,\n",
       "                           random_state=123)"
      ]
     },
     "execution_count": 104,
     "metadata": {},
     "output_type": "execute_result"
    }
   ],
   "source": [
    "features = [col for col in df_v3.columns if col != 'salary_above_median']\n",
    "X = df_v3[features]\n",
    "y = df_v3['salary_above_median']\n",
    "\n",
    "X_train, X_test, y_train, y_test = train_test_split(X, y, random_state=123)\n",
    "\n",
    "ss = StandardScaler()\n",
    "ss.fit(X_train)\n",
    "X_train = ss.transform(X_train)\n",
    "X_test = ss.transform(X_test)\n",
    "\n",
    "gbc = GradientBoostingClassifier(n_estimators=500, learning_rate=1.0, max_depth=10, random_state=123)\n",
    "gbc.fit(X_train, y_train)"
   ]
  },
  {
   "cell_type": "code",
   "execution_count": 105,
   "metadata": {},
   "outputs": [
    {
     "name": "stdout",
     "output_type": "stream",
     "text": [
      "Gradient Boosting Classifier\n",
      "------------\n",
      "Training score: 0.9983\n",
      "Testing score: 0.6636\n"
     ]
    }
   ],
   "source": [
    "get_scores('Gradient Boosting Classifier', gbc)\n",
    "\n",
    "# keeping variable for summary input later\n",
    "train_score_gbc = gbc.score(X_train, y_train)"
   ]
  },
  {
   "cell_type": "code",
   "execution_count": 106,
   "metadata": {},
   "outputs": [
    {
     "name": "stdout",
     "output_type": "stream",
     "text": [
      "Gradient Boosting Classifier\n",
      "------------\n",
      "True Negatives: 365\n",
      "False Positives: 145\n",
      "False Negatives: 189\n",
      "True Positives: 294\n",
      "\n",
      "Accuracy: 0.6636\n",
      "Specificity: 0.7157\n",
      "Sensitivity: 0.6087\n",
      "Precision: 0.6697\n",
      "F1 score: 0.6377\n",
      "ROC AUC score: 0.6622\n"
     ]
    },
    {
     "data": {
      "image/png": "[encoded data removed]",
      "text/plain": [
       "<Figure size 432x288 with 2 Axes>"
      ]
     },
     "metadata": {
      "needs_background": "light"
     },
     "output_type": "display_data"
    }
   ],
   "source": [
    "# Get predictions\n",
    "preds_gbc = gbc.predict(X_test)\n",
    "\n",
    "# Save confusion matrix values\n",
    "tn, fp, fn, tp = confusion_matrix(y_test, preds_gbc).ravel()\n",
    "cm_gbc = tn, fp, fn, tp \n",
    "get_evaluation_metrics('Gradient Boosting Classifier', cm_gbc, preds_gbc)\n",
    "\n",
    "# keeping variable for summary input later\n",
    "spec_gbc = tn / (tn + fp)\n",
    "\n",
    "# visualizing confusion matrix\n",
    "plot_confusion_matrix(gbc, X_test, y_test, cmap='Blues', values_format='d');"
   ]
  },
  {
   "cell_type": "markdown",
   "metadata": {},
   "source": [
    "### Random Forest Classifier <a class=\"anchor\" id=\"rfc\"></a>\n",
    "[Back to top!](#toc)"
   ]
  },
  {
   "cell_type": "code",
   "execution_count": 107,
   "metadata": {},
   "outputs": [
    {
     "data": {
      "text/plain": [
       "RandomForestClassifier(max_depth=20)"
      ]
     },
     "execution_count": 107,
     "metadata": {},
     "output_type": "execute_result"
    }
   ],
   "source": [
    "features = [col for col in df_v3.columns if col != 'salary_above_median']\n",
    "X = df_v3[features]\n",
    "y = df_v3['salary_above_median']\n",
    "\n",
    "X_train, X_test, y_train, y_test = train_test_split(X, y, random_state=123)\n",
    "\n",
    "ss = StandardScaler()\n",
    "ss.fit(X_train)\n",
    "X_train = ss.transform(X_train)\n",
    "X_test = ss.transform(X_test)\n",
    "\n",
    "rfc = RandomForestClassifier(max_depth=20)\n",
    "rfc.fit(X_train, y_train)"
   ]
  },
  {
   "cell_type": "code",
   "execution_count": 108,
   "metadata": {},
   "outputs": [
    {
     "name": "stdout",
     "output_type": "stream",
     "text": [
      "Random Forest Classifier\n",
      "------------\n",
      "Training score: 0.9795\n",
      "Testing score: 0.6556\n"
     ]
    }
   ],
   "source": [
    "get_scores('Random Forest Classifier', rfc)\n",
    "\n",
    "# keeping variable for summary input later\n",
    "train_score_rfc = rfc.score(X_train, y_train)"
   ]
  },
  {
   "cell_type": "code",
   "execution_count": 109,
   "metadata": {},
   "outputs": [
    {
     "name": "stdout",
     "output_type": "stream",
     "text": [
      "Random Forest Classifier\n",
      "------------\n",
      "True Negatives: 373\n",
      "False Positives: 137\n",
      "False Negatives: 205\n",
      "True Positives: 278\n",
      "\n",
      "Accuracy: 0.6556\n",
      "Specificity: 0.7314\n",
      "Sensitivity: 0.5756\n",
      "Precision: 0.6699\n",
      "F1 score: 0.6192\n",
      "ROC AUC score: 0.6535\n"
     ]
    },
    {
     "data": {
      "image/png": "[encoded data removed]",
      "text/plain": [
       "<Figure size 432x288 with 2 Axes>"
      ]
     },
     "metadata": {
      "needs_background": "light"
     },
     "output_type": "display_data"
    }
   ],
   "source": [
    "# Get predictions\n",
    "preds_rfc = rfc.predict(X_test)\n",
    "\n",
    "# Save confusion matrix values\n",
    "tn, fp, fn, tp = confusion_matrix(y_test, preds_rfc).ravel()\n",
    "cm_rfc = tn, fp, fn, tp \n",
    "get_evaluation_metrics('Random Forest Classifier', cm_rfc, preds_rfc)\n",
    "\n",
    "# keeping variable for summary input later\n",
    "spec_rfc = tn / (tn + fp)\n",
    "\n",
    "# visualizing confusion matrix\n",
    "plot_confusion_matrix(rfc, X_test, y_test, cmap='Blues', values_format='d');"
   ]
  },
  {
   "cell_type": "markdown",
   "metadata": {},
   "source": [
    "### Extra Trees Classifier <a class=\"anchor\" id=\"etc\"></a>\n",
    "[Back to top!](#toc)"
   ]
  },
  {
   "cell_type": "code",
   "execution_count": 110,
   "metadata": {},
   "outputs": [
    {
     "data": {
      "text/plain": [
       "ExtraTreesClassifier(n_estimators=60, random_state=123)"
      ]
     },
     "execution_count": 110,
     "metadata": {},
     "output_type": "execute_result"
    }
   ],
   "source": [
    "features = [col for col in df_v3.columns if col != 'salary_above_median']\n",
    "X = df_v3[features]\n",
    "y = df_v3['salary_above_median']\n",
    "\n",
    "X_train, X_test, y_train, y_test = train_test_split(X, y, random_state=123)\n",
    "\n",
    "ss = StandardScaler()\n",
    "ss.fit(X_train)\n",
    "X_train = ss.transform(X_train)\n",
    "X_test = ss.transform(X_test)\n",
    "\n",
    "etc = ExtraTreesClassifier(n_estimators=60, random_state=123)\n",
    "etc.fit(X_train, y_train)"
   ]
  },
  {
   "cell_type": "code",
   "execution_count": 111,
   "metadata": {},
   "outputs": [
    {
     "name": "stdout",
     "output_type": "stream",
     "text": [
      "Extra Trees Classifier\n",
      "------------\n",
      "Training score: 0.9983\n",
      "Testing score: 0.6697\n"
     ]
    }
   ],
   "source": [
    "get_scores('Extra Trees Classifier', etc)\n",
    "\n",
    "# keeping variable for summary input later\n",
    "train_score_etc = etc.score(X_train, y_train)"
   ]
  },
  {
   "cell_type": "code",
   "execution_count": 112,
   "metadata": {},
   "outputs": [
    {
     "name": "stdout",
     "output_type": "stream",
     "text": [
      "Extra Trees Classifier\n",
      "------------\n",
      "True Negatives: 364\n",
      "False Positives: 146\n",
      "False Negatives: 182\n",
      "True Positives: 301\n",
      "\n",
      "Accuracy: 0.6697\n",
      "Specificity: 0.7137\n",
      "Sensitivity: 0.6232\n",
      "Precision: 0.6734\n",
      "F1 score: 0.6473\n",
      "ROC AUC score: 0.6685\n"
     ]
    },
    {
     "data": {
      "image/png": "[encoded data removed]",
      "text/plain": [
       "<Figure size 432x288 with 2 Axes>"
      ]
     },
     "metadata": {
      "needs_background": "light"
     },
     "output_type": "display_data"
    }
   ],
   "source": [
    "# Get predictions\n",
    "preds_etc = etc.predict(X_test)\n",
    "\n",
    "# Save confusion matrix values\n",
    "tn, fp, fn, tp = confusion_matrix(y_test, preds_etc).ravel()\n",
    "cm_etc = tn, fp, fn, tp \n",
    "get_evaluation_metrics('Extra Trees Classifier', cm_etc, preds_etc)\n",
    "\n",
    "# keeping variable for summary input later\n",
    "spec_etc = tn / (tn + fp)\n",
    "\n",
    "# visualizing confusion matrix\n",
    "plot_confusion_matrix(etc, X_test, y_test, cmap='Blues', values_format='d');"
   ]
  },
  {
   "cell_type": "markdown",
   "metadata": {},
   "source": [
    "### Support Vector Machine for Classification <a class=\"anchor\" id=\"svc\"></a>\n",
    "[Back to top!](#toc)"
   ]
  },
  {
   "cell_type": "code",
   "execution_count": 113,
   "metadata": {},
   "outputs": [
    {
     "data": {
      "text/plain": [
       "SVC(gamma='auto')"
      ]
     },
     "execution_count": 113,
     "metadata": {},
     "output_type": "execute_result"
    }
   ],
   "source": [
    "features = [col for col in df_v3.columns if col != 'salary_above_median']\n",
    "X = df_v3[features]\n",
    "y = df_v3['salary_above_median']\n",
    "\n",
    "X_train, X_test, y_train, y_test = train_test_split(X, y, random_state=123)\n",
    "\n",
    "ss = StandardScaler()\n",
    "ss.fit(X_train)\n",
    "X_train = ss.transform(X_train)\n",
    "X_test = ss.transform(X_test)\n",
    "\n",
    "svc = SVC(gamma='auto')\n",
    "svc.fit(X_train, y_train)"
   ]
  },
  {
   "cell_type": "code",
   "execution_count": 114,
   "metadata": {},
   "outputs": [
    {
     "name": "stdout",
     "output_type": "stream",
     "text": [
      "Support Vector Machine for Classification\n",
      "------------\n",
      "Training score: 0.7658\n",
      "Testing score: 0.6375\n"
     ]
    }
   ],
   "source": [
    "get_scores('Support Vector Machine for Classification', svc)\n",
    "\n",
    "# keeping variable for summary input later\n",
    "train_score_svc = svc.score(X_train, y_train)"
   ]
  },
  {
   "cell_type": "code",
   "execution_count": 115,
   "metadata": {},
   "outputs": [
    {
     "name": "stdout",
     "output_type": "stream",
     "text": [
      "Support Vector Machine for Classification\n",
      "------------\n",
      "True Negatives: 357\n",
      "False Positives: 153\n",
      "False Negatives: 207\n",
      "True Positives: 276\n",
      "\n",
      "Accuracy: 0.6375\n",
      "Specificity: 0.7\n",
      "Sensitivity: 0.5714\n",
      "Precision: 0.6434\n",
      "F1 score: 0.6053\n",
      "ROC AUC score: 0.6357\n"
     ]
    },
    {
     "data": {
      "image/png": "[encoded data removed]",
      "text/plain": [
       "<Figure size 432x288 with 2 Axes>"
      ]
     },
     "metadata": {
      "needs_background": "light"
     },
     "output_type": "display_data"
    }
   ],
   "source": [
    "# Get predictions\n",
    "preds_svc = svc.predict(X_test)\n",
    "\n",
    "# Save confusion matrix values\n",
    "tn, fp, fn, tp = confusion_matrix(y_test, preds_svc).ravel()\n",
    "cm_svc = tn, fp, fn, tp \n",
    "get_evaluation_metrics('Support Vector Machine for Classification', cm_svc, preds_svc)\n",
    "\n",
    "# keeping variable for summary input later\n",
    "spec_svc = tn / (tn + fp)\n",
    "\n",
    "# visualizing confusion matrix\n",
    "plot_confusion_matrix(svc, X_test, y_test, cmap='Blues', values_format='d');"
   ]
  },
  {
   "cell_type": "markdown",
   "metadata": {},
   "source": [
    "### Summary of metrics for classification modelling <a class=\"anchor\" id=\"summary\"></a>\n",
    "[Back to top!](#toc)"
   ]
  },
  {
   "cell_type": "code",
   "execution_count": 147,
   "metadata": {},
   "outputs": [
    {
     "data": {
      "text/html": [
       "<div>\n",
       "<style scoped>\n",
       "    .dataframe tbody tr th:only-of-type {\n",
       "        vertical-align: middle;\n",
       "    }\n",
       "\n",
       "    .dataframe tbody tr th {\n",
       "        vertical-align: top;\n",
       "    }\n",
       "\n",
       "    .dataframe thead th {\n",
       "        text-align: right;\n",
       "    }\n",
       "</style>\n",
       "<table border=\"1\" class=\"dataframe\">\n",
       "  <thead>\n",
       "    <tr style=\"text-align: right;\">\n",
       "      <th></th>\n",
       "      <th>Model</th>\n",
       "      <th>Train Score</th>\n",
       "      <th>Test Score</th>\n",
       "      <th>Precision</th>\n",
       "      <th>Specificity</th>\n",
       "      <th>Recall</th>\n",
       "      <th>F1 Score</th>\n",
       "      <th>ROC AUC Score</th>\n",
       "    </tr>\n",
       "  </thead>\n",
       "  <tbody>\n",
       "    <tr>\n",
       "      <th>0</th>\n",
       "      <td>Null Model</td>\n",
       "      <td>n/a</td>\n",
       "      <td>0.514</td>\n",
       "      <td>n/a</td>\n",
       "      <td>n/a</td>\n",
       "      <td>n/a</td>\n",
       "      <td>n/a</td>\n",
       "      <td>n/a</td>\n",
       "    </tr>\n",
       "    <tr>\n",
       "      <th>1</th>\n",
       "      <td>Logistic Regression</td>\n",
       "      <td>0.668</td>\n",
       "      <td>0.634</td>\n",
       "      <td>0.627</td>\n",
       "      <td>0.655</td>\n",
       "      <td>0.613</td>\n",
       "      <td>0.620</td>\n",
       "      <td>0.634</td>\n",
       "    </tr>\n",
       "    <tr>\n",
       "      <th>2</th>\n",
       "      <td>AdaBoost Classifer</td>\n",
       "      <td>0.727</td>\n",
       "      <td>0.638</td>\n",
       "      <td>0.639</td>\n",
       "      <td>0.684</td>\n",
       "      <td>0.590</td>\n",
       "      <td>0.614</td>\n",
       "      <td>0.637</td>\n",
       "    </tr>\n",
       "    <tr>\n",
       "      <th>3</th>\n",
       "      <td>Bagging Classifier</td>\n",
       "      <td>0.998</td>\n",
       "      <td>0.674</td>\n",
       "      <td>0.684</td>\n",
       "      <td>0.733</td>\n",
       "      <td>0.611</td>\n",
       "      <td>0.646</td>\n",
       "      <td>0.672</td>\n",
       "    </tr>\n",
       "    <tr>\n",
       "      <th>4</th>\n",
       "      <td>Gradient Boosting Classifier</td>\n",
       "      <td>0.998</td>\n",
       "      <td>0.664</td>\n",
       "      <td>0.670</td>\n",
       "      <td>0.716</td>\n",
       "      <td>0.609</td>\n",
       "      <td>0.638</td>\n",
       "      <td>0.662</td>\n",
       "    </tr>\n",
       "    <tr>\n",
       "      <th>5</th>\n",
       "      <td>Random Forest Classifier</td>\n",
       "      <td>0.980</td>\n",
       "      <td>0.656</td>\n",
       "      <td>0.670</td>\n",
       "      <td>0.731</td>\n",
       "      <td>0.576</td>\n",
       "      <td>0.619</td>\n",
       "      <td>0.653</td>\n",
       "    </tr>\n",
       "    <tr>\n",
       "      <th>6</th>\n",
       "      <td>Extra Trees Classifier</td>\n",
       "      <td>0.998</td>\n",
       "      <td>0.670</td>\n",
       "      <td>0.673</td>\n",
       "      <td>0.714</td>\n",
       "      <td>0.623</td>\n",
       "      <td>0.647</td>\n",
       "      <td>0.668</td>\n",
       "    </tr>\n",
       "    <tr>\n",
       "      <th>7</th>\n",
       "      <td>SVM for Classification</td>\n",
       "      <td>0.766</td>\n",
       "      <td>0.637</td>\n",
       "      <td>0.643</td>\n",
       "      <td>0.700</td>\n",
       "      <td>0.571</td>\n",
       "      <td>0.605</td>\n",
       "      <td>0.636</td>\n",
       "    </tr>\n",
       "  </tbody>\n",
       "</table>\n",
       "</div>"
      ],
      "text/plain": [
       "                          Model Train Score  Test Score Precision Specificity  \\\n",
       "0                    Null Model         n/a       0.514       n/a         n/a   \n",
       "1           Logistic Regression       0.668       0.634     0.627       0.655   \n",
       "2            AdaBoost Classifer       0.727       0.638     0.639       0.684   \n",
       "3            Bagging Classifier       0.998       0.674     0.684       0.733   \n",
       "4  Gradient Boosting Classifier       0.998       0.664     0.670       0.716   \n",
       "5      Random Forest Classifier       0.980       0.656     0.670       0.731   \n",
       "6        Extra Trees Classifier       0.998       0.670     0.673       0.714   \n",
       "7        SVM for Classification       0.766       0.637     0.643       0.700   \n",
       "\n",
       "  Recall F1 Score ROC AUC Score  \n",
       "0    n/a      n/a           n/a  \n",
       "1  0.613    0.620         0.634  \n",
       "2  0.590    0.614         0.637  \n",
       "3  0.611    0.646         0.672  \n",
       "4  0.609    0.638         0.662  \n",
       "5  0.576    0.619         0.653  \n",
       "6  0.623    0.647         0.668  \n",
       "7  0.571    0.605         0.636  "
      ]
     },
     "execution_count": 147,
     "metadata": {},
     "output_type": "execute_result"
    }
   ],
   "source": [
    "# list of dict\n",
    "summary = [{'Model': 'Null Model', \n",
    "            'Train Score': 'n/a', \n",
    "            'Test Score': 0.514,\n",
    "            'Precision': 'n/a', \n",
    "            'Specificity': 'n/a',\n",
    "            'Recall': 'n/a',\n",
    "            'F1 Score': 'n/a', \n",
    "            'ROC AUC Score': 'n/a'},\n",
    "           {'Model': 'Logistic Regression', \n",
    "            'Train Score': train_score_logreg, \n",
    "            'Test Score': accuracy_score(y_test, preds_logreg),\n",
    "            'Precision': precision_score(y_test, preds_logreg), \n",
    "            'Specificity': spec_logreg,\n",
    "            'Recall': recall_score(y_test, preds_logreg),\n",
    "            'F1 Score': f1_score(y_test, preds_logreg), \n",
    "            'ROC AUC Score': roc_auc_score(y_test, preds_logreg)},\n",
    "           {'Model': 'AdaBoost Classifer', \n",
    "            'Train Score': train_score_ada, \n",
    "            'Test Score': accuracy_score(y_test, preds_ada),\n",
    "            'Precision': precision_score(y_test, preds_ada), \n",
    "            'Specificity': spec_ada,\n",
    "            'Recall': recall_score(y_test, preds_ada),\n",
    "            'F1 Score': f1_score(y_test, preds_ada), \n",
    "            'ROC AUC Score': roc_auc_score(y_test, preds_ada)}, \n",
    "           {'Model': 'Bagging Classifier', \n",
    "            'Train Score': train_score_bagc, \n",
    "            'Test Score': accuracy_score(y_test, preds_bagc),\n",
    "            'Precision': precision_score(y_test, preds_bagc), \n",
    "            'Specificity': spec_bagc,\n",
    "            'Recall': recall_score(y_test, preds_bagc),\n",
    "            'F1 Score': f1_score(y_test, preds_bagc), \n",
    "            'ROC AUC Score': roc_auc_score(y_test, preds_bagc)},\n",
    "           {'Model': 'Gradient Boosting Classifier', \n",
    "            'Train Score': train_score_gbc, \n",
    "            'Test Score': accuracy_score(y_test, preds_gbc),\n",
    "            'Precision': precision_score(y_test, preds_gbc), \n",
    "            'Specificity': spec_gbc,\n",
    "            'Recall': recall_score(y_test, preds_gbc),\n",
    "            'F1 Score': f1_score(y_test, preds_gbc), \n",
    "            'ROC AUC Score': roc_auc_score(y_test, preds_gbc)},\n",
    "           {'Model': 'Random Forest Classifier', \n",
    "            'Train Score': train_score_rfc, \n",
    "            'Test Score': accuracy_score(y_test, preds_rfc),\n",
    "            'Precision': precision_score(y_test, preds_rfc), \n",
    "            'Specificity': spec_rfc,\n",
    "            'Recall': recall_score(y_test, preds_rfc),\n",
    "            'F1 Score': f1_score(y_test, preds_rfc), \n",
    "            'ROC AUC Score': roc_auc_score(y_test, preds_rfc)},\n",
    "           {'Model': 'Extra Trees Classifier', \n",
    "            'Train Score': train_score_etc, \n",
    "            'Test Score': accuracy_score(y_test, preds_etc),\n",
    "            'Precision': precision_score(y_test, preds_etc), \n",
    "            'Specificity': spec_etc,\n",
    "            'Recall': recall_score(y_test, preds_etc),\n",
    "            'F1 Score': f1_score(y_test, preds_etc), \n",
    "            'ROC AUC Score': roc_auc_score(y_test, preds_etc)},\n",
    "           {'Model': 'SVM for Classification', \n",
    "            'Train Score': train_score_svc, \n",
    "            'Test Score': accuracy_score(y_test, preds_svc),\n",
    "            'Precision': precision_score(y_test, preds_svc), \n",
    "            'Specificity': spec_svc,\n",
    "            'Recall': recall_score(y_test, preds_svc),\n",
    "            'F1 Score': f1_score(y_test, preds_svc), \n",
    "            'ROC AUC Score': roc_auc_score(y_test, preds_svc)}]\n",
    "\n",
    "summary_v3 = pd.DataFrame(summary)\n",
    "summary_v3.round(4) # rounding off values to 4 decimal places"
   ]
  },
  {
   "cell_type": "markdown",
   "metadata": {},
   "source": [
    "## Classification Modelling for NLP <a class=\"anchor\" id=\"classificationnlp\"></a>\n",
    "---\n",
    "[Back to top!](#toc)"
   ]
  },
  {
   "cell_type": "code",
   "execution_count": 5,
   "metadata": {},
   "outputs": [
    {
     "data": {
      "text/html": [
       "<div>\n",
       "<style scoped>\n",
       "    .dataframe tbody tr th:only-of-type {\n",
       "        vertical-align: middle;\n",
       "    }\n",
       "\n",
       "    .dataframe tbody tr th {\n",
       "        vertical-align: top;\n",
       "    }\n",
       "\n",
       "    .dataframe thead th {\n",
       "        text-align: right;\n",
       "    }\n",
       "</style>\n",
       "<table border=\"1\" class=\"dataframe\">\n",
       "  <thead>\n",
       "    <tr style=\"text-align: right;\">\n",
       "      <th></th>\n",
       "      <th>job_title</th>\n",
       "      <th>salary_above_median</th>\n",
       "    </tr>\n",
       "  </thead>\n",
       "  <tbody>\n",
       "    <tr>\n",
       "      <th>0</th>\n",
       "      <td>Senior Derivatives XA Market Data Engineer At ...</td>\n",
       "      <td>1</td>\n",
       "    </tr>\n",
       "    <tr>\n",
       "      <th>1</th>\n",
       "      <td>IT - Business Analyst (Data Analytics and Mach...</td>\n",
       "      <td>0</td>\n",
       "    </tr>\n",
       "    <tr>\n",
       "      <th>2</th>\n",
       "      <td>Junior Data Analyst (Finance / Python) - up to...</td>\n",
       "      <td>0</td>\n",
       "    </tr>\n",
       "    <tr>\n",
       "      <th>3</th>\n",
       "      <td>Data Analytics Consultant This TMCA* (TeSA Mid...</td>\n",
       "      <td>0</td>\n",
       "    </tr>\n",
       "    <tr>\n",
       "      <th>4</th>\n",
       "      <td>(IT)- Data science analyst We are a top 8 glob...</td>\n",
       "      <td>1</td>\n",
       "    </tr>\n",
       "  </tbody>\n",
       "</table>\n",
       "</div>"
      ],
      "text/plain": [
       "                                           job_title  salary_above_median\n",
       "0  Senior Derivatives XA Market Data Engineer At ...                    1\n",
       "1  IT - Business Analyst (Data Analytics and Mach...                    0\n",
       "2  Junior Data Analyst (Finance / Python) - up to...                    0\n",
       "3  Data Analytics Consultant This TMCA* (TeSA Mid...                    0\n",
       "4  (IT)- Data science analyst We are a top 8 glob...                    1"
      ]
     },
     "execution_count": 5,
     "metadata": {},
     "output_type": "execute_result"
    }
   ],
   "source": [
    "df_v4 = pd.read_csv('../data/modelling_dataset_v4.csv')\n",
    "df_v4.head()"
   ]
  },
  {
   "cell_type": "code",
   "execution_count": 7,
   "metadata": {},
   "outputs": [
    {
     "data": {
      "text/plain": [
       "0   0.517\n",
       "1   0.483\n",
       "Name: salary_above_median, dtype: float64"
      ]
     },
     "execution_count": 7,
     "metadata": {},
     "output_type": "execute_result"
    }
   ],
   "source": [
    "X = df_v4['job_title']\n",
    "y = df_v4['salary_above_median']\n",
    "\n",
    "# balanced classes in dataset\n",
    "y.value_counts(normalize=True)"
   ]
  },
  {
   "cell_type": "markdown",
   "metadata": {},
   "source": [
    "### Null Model <a class=\"anchor\" id=\"nullnlp\"></a>\n",
    "[Back to top!](#toc)"
   ]
  },
  {
   "cell_type": "code",
   "execution_count": 10,
   "metadata": {},
   "outputs": [
    {
     "data": {
      "text/plain": [
       "0   0.514\n",
       "1   0.486\n",
       "Name: salary_above_median, dtype: float64"
      ]
     },
     "execution_count": 10,
     "metadata": {},
     "output_type": "execute_result"
    }
   ],
   "source": [
    "# split data into training and testing sets\n",
    "X_train, X_test, y_train, y_test = train_test_split(X, y, test_size=0.25, random_state=123)\n",
    "\n",
    "# baseline accuracy\n",
    "y_test.value_counts(normalize=True)"
   ]
  },
  {
   "cell_type": "markdown",
   "metadata": {},
   "source": [
    "### Logistic Regression <a class=\"anchor\" id=\"logregnlp\"></a>\n",
    "[Back to top!](#toc)"
   ]
  },
  {
   "cell_type": "code",
   "execution_count": 13,
   "metadata": {},
   "outputs": [
    {
     "data": {
      "text/plain": [
       "{'memory': None,\n",
       " 'steps': [('cvec', CountVectorizer(stop_words='english')),\n",
       "  ('logreg', LogisticRegression(solver='liblinear'))],\n",
       " 'verbose': False,\n",
       " 'cvec': CountVectorizer(stop_words='english'),\n",
       " 'logreg': LogisticRegression(solver='liblinear'),\n",
       " 'cvec__analyzer': 'word',\n",
       " 'cvec__binary': False,\n",
       " 'cvec__decode_error': 'strict',\n",
       " 'cvec__dtype': numpy.int64,\n",
       " 'cvec__encoding': 'utf-8',\n",
       " 'cvec__input': 'content',\n",
       " 'cvec__lowercase': True,\n",
       " 'cvec__max_df': 1.0,\n",
       " 'cvec__max_features': None,\n",
       " 'cvec__min_df': 1,\n",
       " 'cvec__ngram_range': (1, 1),\n",
       " 'cvec__preprocessor': None,\n",
       " 'cvec__stop_words': 'english',\n",
       " 'cvec__strip_accents': None,\n",
       " 'cvec__token_pattern': '(?u)\\\\b\\\\w\\\\w+\\\\b',\n",
       " 'cvec__tokenizer': None,\n",
       " 'cvec__vocabulary': None,\n",
       " 'logreg__C': 1.0,\n",
       " 'logreg__class_weight': None,\n",
       " 'logreg__dual': False,\n",
       " 'logreg__fit_intercept': True,\n",
       " 'logreg__intercept_scaling': 1,\n",
       " 'logreg__l1_ratio': None,\n",
       " 'logreg__max_iter': 100,\n",
       " 'logreg__multi_class': 'auto',\n",
       " 'logreg__n_jobs': None,\n",
       " 'logreg__penalty': 'l2',\n",
       " 'logreg__random_state': None,\n",
       " 'logreg__solver': 'liblinear',\n",
       " 'logreg__tol': 0.0001,\n",
       " 'logreg__verbose': 0,\n",
       " 'logreg__warm_start': False}"
      ]
     },
     "execution_count": 13,
     "metadata": {},
     "output_type": "execute_result"
    }
   ],
   "source": [
    "# redefining training and testing sets with same random_state\n",
    "X_train, X_test, y_train, y_test = train_test_split(X, y, random_state=123)\n",
    "\n",
    "# Setting up pipeline for model\n",
    "# 1. CountVectorizer (transformer)\n",
    "# 2. Logistic Regression (estimator)\n",
    "pipe_cvec_logreg = Pipeline([('cvec', CountVectorizer(stop_words=('english'))),\n",
    "                             ('logreg', LogisticRegression(solver='liblinear'))])\n",
    "\n",
    "# Fitting the pipeline\n",
    "pipe_cvec_logreg.fit(X_train, y_train)\n",
    "\n",
    "# uncomment to see params\n",
    "# pipe_cvec_logreg.get_params()"
   ]
  },
  {
   "cell_type": "code",
   "execution_count": 14,
   "metadata": {},
   "outputs": [
    {
     "name": "stdout",
     "output_type": "stream",
     "text": [
      "Logistic Regression (cvec)\n",
      "------------\n",
      "Training score: 0.9892\n",
      "Testing score: 0.7049\n"
     ]
    }
   ],
   "source": [
    "get_scores('Logistic Regression (cvec)', pipe_cvec_logreg)\n",
    "\n",
    "# keeping variable for summary input later\n",
    "train_score_cvec_logreg = pipe_cvec_logreg.score(X_train, y_train)"
   ]
  },
  {
   "cell_type": "code",
   "execution_count": 15,
   "metadata": {},
   "outputs": [
    {
     "name": "stdout",
     "output_type": "stream",
     "text": [
      "Logistic Regression (cvec)\n",
      "------------\n",
      "True Negatives: 378\n",
      "False Positives: 132\n",
      "False Negatives: 161\n",
      "True Positives: 322\n",
      "\n",
      "Accuracy: 0.7049\n",
      "Specificity: 0.7412\n",
      "Sensitivity: 0.6667\n",
      "Precision: 0.7093\n",
      "F1 score: 0.6873\n",
      "ROC AUC score: 0.7039\n"
     ]
    },
    {
     "data": {
      "image/png": "[encoded data removed]",
      "text/plain": [
       "<Figure size 432x288 with 2 Axes>"
      ]
     },
     "metadata": {
      "needs_background": "light"
     },
     "output_type": "display_data"
    }
   ],
   "source": [
    "# Get predictions\n",
    "preds_cvec_logreg = pipe_cvec_logreg.predict(X_test)\n",
    "\n",
    "# Save confusion matrix values\n",
    "tn, fp, fn, tp = confusion_matrix(y_test, preds_cvec_logreg).ravel()\n",
    "cm_cvec_logreg = tn, fp, fn, tp \n",
    "get_evaluation_metrics('Logistic Regression (cvec)', cm_cvec_logreg, preds_cvec_logreg)\n",
    "\n",
    "# keeping variable for summary input later\n",
    "spec_cvec_logreg = tn / (tn + fp)\n",
    "\n",
    "# visualizing confusion matrix\n",
    "plot_confusion_matrix(pipe_cvec_logreg, X_test, y_test, cmap='Blues', values_format='d');"
   ]
  },
  {
   "cell_type": "code",
   "execution_count": null,
   "metadata": {},
   "outputs": [],
   "source": []
  },
  {
   "cell_type": "markdown",
   "metadata": {},
   "source": [
    "### AdaBoost Classifier <a class=\"anchor\" id=\"adanlp\"></a>\n",
    "[Back to top!](#toc)"
   ]
  },
  {
   "cell_type": "code",
   "execution_count": 16,
   "metadata": {},
   "outputs": [
    {
     "data": {
      "text/plain": [
       "Pipeline(steps=[('cvec', CountVectorizer(stop_words='english')),\n",
       "                ('ada',\n",
       "                 AdaBoostClassifier(n_estimators=500, random_state=123))])"
      ]
     },
     "execution_count": 16,
     "metadata": {},
     "output_type": "execute_result"
    }
   ],
   "source": [
    "# redefining training and testing sets with same random_state\n",
    "X_train, X_test, y_train, y_test = train_test_split(X, y, random_state=123)\n",
    "\n",
    "# Setting up pipeline for model\n",
    "# 1. CountVectorizer (transformer)\n",
    "# 2. AdaBoost Classifier (estimator)\n",
    "pipe_cvec_ada = Pipeline([('cvec', CountVectorizer(stop_words=('english'))),\n",
    "                          ('ada', AdaBoostClassifier(n_estimators=500, random_state=123))])\n",
    "\n",
    "# Fitting the pipeline\n",
    "pipe_cvec_ada.fit(X_train, y_train)\n",
    "\n",
    "# uncomment to see params\n",
    "# pipe_cvec_ada.get_params()"
   ]
  },
  {
   "cell_type": "code",
   "execution_count": 17,
   "metadata": {},
   "outputs": [
    {
     "name": "stdout",
     "output_type": "stream",
     "text": [
      "AdaBoost Classifier (cvec)\n",
      "------------\n",
      "Training score: 0.9425\n",
      "Testing score: 0.6888\n"
     ]
    }
   ],
   "source": [
    "get_scores('AdaBoost Classifier (cvec)', pipe_cvec_ada)\n",
    "\n",
    "# keeping variable for summary input later\n",
    "train_score_cvec_ada = pipe_cvec_ada.score(X_train, y_train)"
   ]
  },
  {
   "cell_type": "code",
   "execution_count": 18,
   "metadata": {},
   "outputs": [
    {
     "name": "stdout",
     "output_type": "stream",
     "text": [
      "AdaBoost Classifier (cvec)\n",
      "------------\n",
      "True Negatives: 377\n",
      "False Positives: 133\n",
      "False Negatives: 176\n",
      "True Positives: 307\n",
      "\n",
      "Accuracy: 0.6888\n",
      "Specificity: 0.7392\n",
      "Sensitivity: 0.6356\n",
      "Precision: 0.6977\n",
      "F1 score: 0.6652\n",
      "ROC AUC score: 0.6874\n"
     ]
    },
    {
     "data": {
      "image/png": "[encoded data removed]",
      "text/plain": [
       "<Figure size 432x288 with 2 Axes>"
      ]
     },
     "metadata": {
      "needs_background": "light"
     },
     "output_type": "display_data"
    }
   ],
   "source": [
    "# Get predictions\n",
    "preds_cvec_ada = pipe_cvec_ada.predict(X_test)\n",
    "\n",
    "# Save confusion matrix values\n",
    "tn, fp, fn, tp = confusion_matrix(y_test, preds_cvec_ada).ravel()\n",
    "cm_cvec_ada = tn, fp, fn, tp \n",
    "get_evaluation_metrics('AdaBoost Classifier (cvec)', cm_cvec_ada, preds_cvec_ada)\n",
    "\n",
    "# keeping variable for summary input later\n",
    "spec_cvec_ada = tn / (tn + fp)\n",
    "\n",
    "# visualizing confusion matrix\n",
    "plot_confusion_matrix(pipe_cvec_ada, X_test, y_test, cmap='Blues', values_format='d');"
   ]
  },
  {
   "cell_type": "code",
   "execution_count": null,
   "metadata": {},
   "outputs": [],
   "source": []
  },
  {
   "cell_type": "code",
   "execution_count": null,
   "metadata": {},
   "outputs": [],
   "source": []
  },
  {
   "cell_type": "markdown",
   "metadata": {},
   "source": [
    "### Bagging Classifier <a class=\"anchor\" id=\"bagcnlp\"></a>\n",
    "[Back to top!](#toc)"
   ]
  },
  {
   "cell_type": "code",
   "execution_count": 19,
   "metadata": {},
   "outputs": [
    {
     "data": {
      "text/plain": [
       "Pipeline(steps=[('cvec', CountVectorizer(stop_words='english')),\n",
       "                ('bagc',\n",
       "                 BaggingClassifier(n_estimators=200, random_state=123))])"
      ]
     },
     "execution_count": 19,
     "metadata": {},
     "output_type": "execute_result"
    }
   ],
   "source": [
    "# redefining training and testing sets with same random_state\n",
    "X_train, X_test, y_train, y_test = train_test_split(X, y, random_state=123)\n",
    "\n",
    "# Setting up pipeline for model\n",
    "# 1. CountVectorizer (transformer)\n",
    "# 2. Bagging Classifier (estimator)\n",
    "pipe_cvec_bagc = Pipeline([('cvec', CountVectorizer(stop_words=('english'))),\n",
    "                           ('bagc', BaggingClassifier(n_estimators=200, random_state=123))])\n",
    "\n",
    "# Fitting the pipeline\n",
    "pipe_cvec_bagc.fit(X_train, y_train)\n",
    "\n",
    "# uncomment to see params\n",
    "# pipe_cvec_bagc.get_params()"
   ]
  },
  {
   "cell_type": "code",
   "execution_count": 20,
   "metadata": {},
   "outputs": [
    {
     "name": "stdout",
     "output_type": "stream",
     "text": [
      "Bagging Classifier (cvec)\n",
      "------------\n",
      "Training score: 0.9963\n",
      "Testing score: 0.7009\n"
     ]
    }
   ],
   "source": [
    "get_scores('Bagging Classifier (cvec)', pipe_cvec_bagc)\n",
    "\n",
    "# keeping variable for summary input later\n",
    "train_score_cvec_bagc = pipe_cvec_bagc.score(X_train, y_train)"
   ]
  },
  {
   "cell_type": "code",
   "execution_count": 21,
   "metadata": {},
   "outputs": [
    {
     "name": "stdout",
     "output_type": "stream",
     "text": [
      "Bagging Classifier (cvec)\n",
      "------------\n",
      "True Negatives: 377\n",
      "False Positives: 133\n",
      "False Negatives: 164\n",
      "True Positives: 319\n",
      "\n",
      "Accuracy: 0.7009\n",
      "Specificity: 0.7392\n",
      "Sensitivity: 0.6605\n",
      "Precision: 0.7058\n",
      "F1 score: 0.6824\n",
      "ROC AUC score: 0.6998\n"
     ]
    },
    {
     "data": {
      "image/png": "[encoded data removed]",
      "text/plain": [
       "<Figure size 432x288 with 2 Axes>"
      ]
     },
     "metadata": {
      "needs_background": "light"
     },
     "output_type": "display_data"
    }
   ],
   "source": [
    "# Get predictions\n",
    "preds_cvec_bagc = pipe_cvec_bagc.predict(X_test)\n",
    "\n",
    "# Save confusion matrix values\n",
    "tn, fp, fn, tp = confusion_matrix(y_test, preds_cvec_bagc).ravel()\n",
    "cm_cvec_bagc = tn, fp, fn, tp \n",
    "get_evaluation_metrics('Bagging Classifier (cvec)', cm_cvec_bagc, preds_cvec_bagc)\n",
    "\n",
    "# keeping variable for summary input later\n",
    "spec_cvec_bagc = tn / (tn + fp)\n",
    "\n",
    "# visualizing confusion matrix\n",
    "plot_confusion_matrix(pipe_cvec_bagc, X_test, y_test, cmap='Blues', values_format='d');"
   ]
  },
  {
   "cell_type": "code",
   "execution_count": null,
   "metadata": {},
   "outputs": [],
   "source": []
  },
  {
   "cell_type": "markdown",
   "metadata": {},
   "source": [
    "### Gradient Boosting Classifier <a class=\"anchor\" id=\"gbcnlp\"></a>\n",
    "[Back to top!](#toc)"
   ]
  },
  {
   "cell_type": "code",
   "execution_count": 22,
   "metadata": {},
   "outputs": [
    {
     "data": {
      "text/plain": [
       "Pipeline(steps=[('cvec', CountVectorizer(stop_words='english')),\n",
       "                ('gbc',\n",
       "                 GradientBoostingClassifier(learning_rate=1.0, max_depth=10,\n",
       "                                            n_estimators=500,\n",
       "                                            random_state=123))])"
      ]
     },
     "execution_count": 22,
     "metadata": {},
     "output_type": "execute_result"
    }
   ],
   "source": [
    "# redefining training and testing sets with same random_state\n",
    "X_train, X_test, y_train, y_test = train_test_split(X, y, random_state=123)\n",
    "\n",
    "# Setting up pipeline for model\n",
    "# 1. CountVectorizer (transformer)\n",
    "# 2. Gradient Boosting Classifier (estimator)\n",
    "pipe_cvec_gbc = Pipeline([('cvec', CountVectorizer(stop_words=('english'))),\n",
    "                          ('gbc', GradientBoostingClassifier(n_estimators=500, learning_rate=1.0, \n",
    "                                                             max_depth=10, random_state=123))])\n",
    "\n",
    "# Fitting the pipeline\n",
    "pipe_cvec_gbc.fit(X_train, y_train)\n",
    "\n",
    "# uncomment to see params\n",
    "# pipe_cvec_gbc.get_params()"
   ]
  },
  {
   "cell_type": "code",
   "execution_count": 23,
   "metadata": {},
   "outputs": [
    {
     "name": "stdout",
     "output_type": "stream",
     "text": [
      "Gradient Boosting Classifier (cvec)\n",
      "------------\n",
      "Training score: 0.9963\n",
      "Testing score: 0.721\n"
     ]
    }
   ],
   "source": [
    "get_scores('Gradient Boosting Classifier (cvec)', pipe_cvec_gbc)\n",
    "\n",
    "# keeping variable for summary input later\n",
    "train_score_cvec_gbc = pipe_cvec_gbc.score(X_train, y_train)"
   ]
  },
  {
   "cell_type": "code",
   "execution_count": 24,
   "metadata": {},
   "outputs": [
    {
     "name": "stdout",
     "output_type": "stream",
     "text": [
      "Gradient Boosting Classifier (cvec)\n",
      "------------\n",
      "True Negatives: 390\n",
      "False Positives: 120\n",
      "False Negatives: 157\n",
      "True Positives: 326\n",
      "\n",
      "Accuracy: 0.721\n",
      "Specificity: 0.7647\n",
      "Sensitivity: 0.6749\n",
      "Precision: 0.7309\n",
      "F1 score: 0.7018\n",
      "ROC AUC score: 0.7198\n"
     ]
    },
    {
     "data": {
      "image/png": "[encoded data removed]",
      "text/plain": [
       "<Figure size 432x288 with 2 Axes>"
      ]
     },
     "metadata": {
      "needs_background": "light"
     },
     "output_type": "display_data"
    }
   ],
   "source": [
    "# Get predictions\n",
    "preds_cvec_gbc = pipe_cvec_gbc.predict(X_test)\n",
    "\n",
    "# Save confusion matrix values\n",
    "tn, fp, fn, tp = confusion_matrix(y_test, preds_cvec_gbc).ravel()\n",
    "cm_cvec_gbc = tn, fp, fn, tp \n",
    "get_evaluation_metrics('Gradient Boosting Classifier (cvec)', cm_cvec_gbc, preds_cvec_gbc)\n",
    "\n",
    "# keeping variable for summary input later\n",
    "spec_cvec_gbc = tn / (tn + fp)\n",
    "\n",
    "# visualizing confusion matrix\n",
    "plot_confusion_matrix(pipe_cvec_gbc, X_test, y_test, cmap='Blues', values_format='d');"
   ]
  },
  {
   "cell_type": "code",
   "execution_count": null,
   "metadata": {},
   "outputs": [],
   "source": []
  },
  {
   "cell_type": "markdown",
   "metadata": {},
   "source": [
    "### Random Forest Classifier <a class=\"anchor\" id=\"rfcnlp\"></a>\n",
    "[Back to top!](#toc)"
   ]
  },
  {
   "cell_type": "code",
   "execution_count": 28,
   "metadata": {},
   "outputs": [
    {
     "data": {
      "text/plain": [
       "Pipeline(steps=[('cvec', CountVectorizer(stop_words='english')),\n",
       "                ('rfc', RandomForestClassifier(max_depth=20))])"
      ]
     },
     "execution_count": 28,
     "metadata": {},
     "output_type": "execute_result"
    }
   ],
   "source": [
    "# redefining training and testing sets with same random_state\n",
    "X_train, X_test, y_train, y_test = train_test_split(X, y, random_state=123)\n",
    "\n",
    "# Setting up pipeline for model\n",
    "# 1. CountVectorizer (transformer)\n",
    "# 2. Random Forest Classifier (estimator)\n",
    "pipe_cvec_rfc = Pipeline([('cvec', CountVectorizer(stop_words=('english'))),\n",
    "                          ('rfc', RandomForestClassifier(max_depth=20))])\n",
    "\n",
    "# Fitting the pipeline\n",
    "pipe_cvec_rfc.fit(X_train, y_train)\n",
    "\n",
    "# uncomment to see params\n",
    "# pipe_cvec_rfc.get_params()"
   ]
  },
  {
   "cell_type": "code",
   "execution_count": 29,
   "metadata": {},
   "outputs": [
    {
     "name": "stdout",
     "output_type": "stream",
     "text": [
      "Random Forest Classifier (cvec)\n",
      "------------\n",
      "Training score: 0.9315\n",
      "Testing score: 0.7049\n"
     ]
    }
   ],
   "source": [
    "get_scores('Random Forest Classifier (cvec)', pipe_cvec_rfc)\n",
    "\n",
    "# keeping variable for summary input later\n",
    "train_score_cvec_rfc = pipe_cvec_rfc.score(X_train, y_train)"
   ]
  },
  {
   "cell_type": "code",
   "execution_count": 30,
   "metadata": {},
   "outputs": [
    {
     "name": "stdout",
     "output_type": "stream",
     "text": [
      "Random Forest Classifier (cvec)\n",
      "------------\n",
      "True Negatives: 411\n",
      "False Positives: 99\n",
      "False Negatives: 194\n",
      "True Positives: 289\n",
      "\n",
      "Accuracy: 0.7049\n",
      "Specificity: 0.8059\n",
      "Sensitivity: 0.5983\n",
      "Precision: 0.7448\n",
      "F1 score: 0.6636\n",
      "ROC AUC score: 0.7021\n"
     ]
    },
    {
     "data": {
      "image/png": "[encoded data removed]",
      "text/plain": [
       "<Figure size 432x288 with 2 Axes>"
      ]
     },
     "metadata": {
      "needs_background": "light"
     },
     "output_type": "display_data"
    }
   ],
   "source": [
    "# Get predictions\n",
    "preds_cvec_rfc = pipe_cvec_rfc.predict(X_test)\n",
    "\n",
    "# Save confusion matrix values\n",
    "tn, fp, fn, tp = confusion_matrix(y_test, preds_cvec_rfc).ravel()\n",
    "cm_cvec_rfc = tn, fp, fn, tp \n",
    "get_evaluation_metrics('Random Forest Classifier (cvec)', cm_cvec_rfc, preds_cvec_rfc)\n",
    "\n",
    "# keeping variable for summary input later\n",
    "spec_cvec_rfc = tn / (tn + fp)\n",
    "\n",
    "# visualizing confusion matrix\n",
    "plot_confusion_matrix(pipe_cvec_rfc, X_test, y_test, cmap='Blues', values_format='d');"
   ]
  },
  {
   "cell_type": "code",
   "execution_count": null,
   "metadata": {},
   "outputs": [],
   "source": []
  },
  {
   "cell_type": "code",
   "execution_count": null,
   "metadata": {},
   "outputs": [],
   "source": []
  },
  {
   "cell_type": "markdown",
   "metadata": {},
   "source": [
    "### Extra Trees Classifier <a class=\"anchor\" id=\"etcnlp\"></a>\n",
    "[Back to top!](#toc)"
   ]
  },
  {
   "cell_type": "code",
   "execution_count": 31,
   "metadata": {},
   "outputs": [
    {
     "data": {
      "text/plain": [
       "Pipeline(steps=[('cvec', CountVectorizer(stop_words='english')),\n",
       "                ('etc',\n",
       "                 ExtraTreesClassifier(n_estimators=60, random_state=123))])"
      ]
     },
     "execution_count": 31,
     "metadata": {},
     "output_type": "execute_result"
    }
   ],
   "source": [
    "# redefining training and testing sets with same random_state\n",
    "X_train, X_test, y_train, y_test = train_test_split(X, y, random_state=123)\n",
    "\n",
    "# Setting up pipeline for model\n",
    "# 1. CountVectorizer (transformer)\n",
    "# 2. Extra Trees Classifier (estimator)\n",
    "pipe_cvec_etc = Pipeline([('cvec', CountVectorizer(stop_words=('english'))),\n",
    "                          ('etc', ExtraTreesClassifier(n_estimators=60, random_state=123))])\n",
    "\n",
    "# Fitting the pipeline\n",
    "pipe_cvec_etc.fit(X_train, y_train)\n",
    "\n",
    "# uncomment to see params\n",
    "# pipe_cvec_etc.get_params()"
   ]
  },
  {
   "cell_type": "code",
   "execution_count": 32,
   "metadata": {},
   "outputs": [
    {
     "name": "stdout",
     "output_type": "stream",
     "text": [
      "Extra Trees Classifier (cvec)\n",
      "------------\n",
      "Training score: 0.9963\n",
      "Testing score: 0.711\n"
     ]
    }
   ],
   "source": [
    "get_scores('Extra Trees Classifier (cvec)', pipe_cvec_etc)\n",
    "\n",
    "# keeping variable for summary input later\n",
    "train_score_cvec_etc = pipe_cvec_etc.score(X_train, y_train)"
   ]
  },
  {
   "cell_type": "code",
   "execution_count": 33,
   "metadata": {},
   "outputs": [
    {
     "name": "stdout",
     "output_type": "stream",
     "text": [
      "Extra Trees Classifier (cvec)\n",
      "------------\n",
      "True Negatives: 392\n",
      "False Positives: 118\n",
      "False Negatives: 169\n",
      "True Positives: 314\n",
      "\n",
      "Accuracy: 0.711\n",
      "Specificity: 0.7686\n",
      "Sensitivity: 0.6501\n",
      "Precision: 0.7269\n",
      "F1 score: 0.6863\n",
      "ROC AUC score: 0.7094\n"
     ]
    },
    {
     "data": {
      "image/png": "[encoded data removed]",
      "text/plain": [
       "<Figure size 432x288 with 2 Axes>"
      ]
     },
     "metadata": {
      "needs_background": "light"
     },
     "output_type": "display_data"
    }
   ],
   "source": [
    "# Get predictions\n",
    "preds_cvec_etc = pipe_cvec_etc.predict(X_test)\n",
    "\n",
    "# Save confusion matrix values\n",
    "tn, fp, fn, tp = confusion_matrix(y_test, preds_cvec_etc).ravel()\n",
    "cm_cvec_etc = tn, fp, fn, tp \n",
    "get_evaluation_metrics('Extra Trees Classifier (cvec)', cm_cvec_etc, preds_cvec_etc)\n",
    "\n",
    "# keeping variable for summary input later\n",
    "spec_cvec_etc = tn / (tn + fp)\n",
    "\n",
    "# visualizing confusion matrix\n",
    "plot_confusion_matrix(pipe_cvec_etc, X_test, y_test, cmap='Blues', values_format='d');"
   ]
  },
  {
   "cell_type": "code",
   "execution_count": null,
   "metadata": {},
   "outputs": [],
   "source": []
  },
  {
   "cell_type": "markdown",
   "metadata": {},
   "source": [
    "### Support Vector Machine for Classification <a class=\"anchor\" id=\"svcnlp\"></a>\n",
    "[Back to top!](#toc)"
   ]
  },
  {
   "cell_type": "code",
   "execution_count": 34,
   "metadata": {},
   "outputs": [
    {
     "data": {
      "text/plain": [
       "Pipeline(steps=[('cvec', CountVectorizer(stop_words='english')),\n",
       "                ('svc', SVC(gamma='auto'))])"
      ]
     },
     "execution_count": 34,
     "metadata": {},
     "output_type": "execute_result"
    }
   ],
   "source": [
    "# redefining training and testing sets with same random_state\n",
    "X_train, X_test, y_train, y_test = train_test_split(X, y, random_state=123)\n",
    "\n",
    "# Setting up pipeline for model\n",
    "# 1. CountVectorizer (transformer)\n",
    "# 2. SVM for Classification (estimator)\n",
    "pipe_cvec_svc = Pipeline([('cvec', CountVectorizer(stop_words=('english'))),\n",
    "                          ('svc', SVC(gamma='auto'))])\n",
    "\n",
    "# Fitting the pipeline\n",
    "pipe_cvec_svc.fit(X_train, y_train)\n",
    "\n",
    "# uncomment to see params\n",
    "# pipe_cvec_svc.get_params()"
   ]
  },
  {
   "cell_type": "code",
   "execution_count": 35,
   "metadata": {},
   "outputs": [
    {
     "name": "stdout",
     "output_type": "stream",
     "text": [
      "Support Vector Machine for Classification (cvec)\n",
      "------------\n",
      "Training score: 0.6566\n",
      "Testing score: 0.6103\n"
     ]
    }
   ],
   "source": [
    "get_scores('Support Vector Machine for Classification (cvec)', pipe_cvec_svc)\n",
    "\n",
    "# keeping variable for summary input later\n",
    "train_score_cvec_svc = pipe_cvec_svc.score(X_train, y_train)"
   ]
  },
  {
   "cell_type": "code",
   "execution_count": 36,
   "metadata": {},
   "outputs": [
    {
     "name": "stdout",
     "output_type": "stream",
     "text": [
      "Support Vector Machine for Classification (cvec)\n",
      "------------\n",
      "True Negatives: 392\n",
      "False Positives: 118\n",
      "False Negatives: 169\n",
      "True Positives: 314\n",
      "\n",
      "Accuracy: 0.6103\n",
      "Specificity: 0.7686\n",
      "Sensitivity: 0.3251\n",
      "Precision: 0.7202\n",
      "F1 score: 0.4479\n",
      "ROC AUC score: 0.6027\n"
     ]
    },
    {
     "data": {
      "image/png": "[encoded data removed]",
      "text/plain": [
       "<Figure size 432x288 with 2 Axes>"
      ]
     },
     "metadata": {
      "needs_background": "light"
     },
     "output_type": "display_data"
    }
   ],
   "source": [
    "# Get predictions\n",
    "preds_cvec_svc = pipe_cvec_svc.predict(X_test)\n",
    "\n",
    "# Save confusion matrix values\n",
    "tn, fp, fn, tp = confusion_matrix(y_test, preds_cvec_etc).ravel()\n",
    "cm_cvec_svc = tn, fp, fn, tp \n",
    "get_evaluation_metrics('Support Vector Machine for Classification (cvec)', cm_cvec_svc, preds_cvec_svc)\n",
    "\n",
    "# keeping variable for summary input later\n",
    "spec_cvec_svc = tn / (tn + fp)\n",
    "\n",
    "# visualizing confusion matrix\n",
    "plot_confusion_matrix(pipe_cvec_svc, X_test, y_test, cmap='Blues', values_format='d');"
   ]
  },
  {
   "cell_type": "code",
   "execution_count": null,
   "metadata": {},
   "outputs": [],
   "source": []
  },
  {
   "cell_type": "code",
   "execution_count": null,
   "metadata": {},
   "outputs": [],
   "source": []
  },
  {
   "cell_type": "markdown",
   "metadata": {},
   "source": [
    "### Multinomial Naive Bayes <a class=\"anchor\" id=\"nbnlp\"></a>\n",
    "[Back to top!](#toc)"
   ]
  },
  {
   "cell_type": "code",
   "execution_count": 37,
   "metadata": {},
   "outputs": [
    {
     "data": {
      "text/plain": [
       "Pipeline(steps=[('cvec', CountVectorizer(stop_words='english')),\n",
       "                ('nb', MultinomialNB())])"
      ]
     },
     "execution_count": 37,
     "metadata": {},
     "output_type": "execute_result"
    }
   ],
   "source": [
    "# redefining training and testing sets with same random_state\n",
    "X_train, X_test, y_train, y_test = train_test_split(X, y, random_state=123)\n",
    "\n",
    "# Setting up pipeline for model\n",
    "# 1. CountVectorizer (transformer)\n",
    "# 2. Multinomial Naive Bayes (estimator)\n",
    "pipe_cvec_nb = Pipeline([('cvec', CountVectorizer(stop_words=('english'))),\n",
    "                         ('nb', MultinomialNB())])\n",
    "\n",
    "# Fitting the pipeline\n",
    "pipe_cvec_nb.fit(X_train, y_train)\n",
    "\n",
    "# uncomment to see params\n",
    "# pipe_cvec_nb.get_params()"
   ]
  },
  {
   "cell_type": "code",
   "execution_count": 38,
   "metadata": {},
   "outputs": [
    {
     "name": "stdout",
     "output_type": "stream",
     "text": [
      "Multinomial Naive Bayes (cvec)\n",
      "------------\n",
      "Training score: 0.8128\n",
      "Testing score: 0.6939\n"
     ]
    }
   ],
   "source": [
    "get_scores('Multinomial Naive Bayes (cvec)', pipe_cvec_nb)\n",
    "\n",
    "# keeping variable for summary input later\n",
    "train_score_cvec_nb = pipe_cvec_nb.score(X_train, y_train)"
   ]
  },
  {
   "cell_type": "code",
   "execution_count": 39,
   "metadata": {},
   "outputs": [
    {
     "name": "stdout",
     "output_type": "stream",
     "text": [
      "Multinomial Naive Bayes (cvec)\n",
      "------------\n",
      "True Negatives: 388\n",
      "False Positives: 122\n",
      "False Negatives: 182\n",
      "True Positives: 301\n",
      "\n",
      "Accuracy: 0.6939\n",
      "Specificity: 0.7608\n",
      "Sensitivity: 0.6232\n",
      "Precision: 0.7116\n",
      "F1 score: 0.6645\n",
      "ROC AUC score: 0.692\n"
     ]
    },
    {
     "data": {
      "image/png": "[encoded data removed]",
      "text/plain": [
       "<Figure size 432x288 with 2 Axes>"
      ]
     },
     "metadata": {
      "needs_background": "light"
     },
     "output_type": "display_data"
    }
   ],
   "source": [
    "# Get predictions\n",
    "preds_cvec_nb = pipe_cvec_nb.predict(X_test)\n",
    "\n",
    "# Save confusion matrix values\n",
    "tn, fp, fn, tp = confusion_matrix(y_test, preds_cvec_nb).ravel()\n",
    "cm_cvec_nb = tn, fp, fn, tp \n",
    "get_evaluation_metrics('Multinomial Naive Bayes (cvec)', cm_cvec_nb, preds_cvec_nb)\n",
    "\n",
    "# keeping variable for summary input later\n",
    "spec_cvec_nb = tn / (tn + fp)\n",
    "\n",
    "# visualizing confusion matrix\n",
    "plot_confusion_matrix(pipe_cvec_nb, X_test, y_test, cmap='Blues', values_format='d');"
   ]
  },
  {
   "cell_type": "markdown",
   "metadata": {},
   "source": [
    "### Summary of metrics for NLP classification modelling <a class=\"anchor\" id=\"summarynlp\"></a>\n",
    "[Back to top!](#toc)"
   ]
  },
  {
   "cell_type": "code",
   "execution_count": 43,
   "metadata": {},
   "outputs": [
    {
     "data": {
      "text/html": [
       "<div>\n",
       "<style scoped>\n",
       "    .dataframe tbody tr th:only-of-type {\n",
       "        vertical-align: middle;\n",
       "    }\n",
       "\n",
       "    .dataframe tbody tr th {\n",
       "        vertical-align: top;\n",
       "    }\n",
       "\n",
       "    .dataframe thead th {\n",
       "        text-align: right;\n",
       "    }\n",
       "</style>\n",
       "<table border=\"1\" class=\"dataframe\">\n",
       "  <thead>\n",
       "    <tr style=\"text-align: right;\">\n",
       "      <th></th>\n",
       "      <th>Model</th>\n",
       "      <th>Train Score</th>\n",
       "      <th>Test Score</th>\n",
       "      <th>Precision</th>\n",
       "      <th>Specificity</th>\n",
       "      <th>Recall</th>\n",
       "      <th>F1 Score</th>\n",
       "      <th>ROC AUC Score</th>\n",
       "    </tr>\n",
       "  </thead>\n",
       "  <tbody>\n",
       "    <tr>\n",
       "      <th>0</th>\n",
       "      <td>Null Model</td>\n",
       "      <td>n/a</td>\n",
       "      <td>0.514</td>\n",
       "      <td>n/a</td>\n",
       "      <td>n/a</td>\n",
       "      <td>n/a</td>\n",
       "      <td>n/a</td>\n",
       "      <td>n/a</td>\n",
       "    </tr>\n",
       "    <tr>\n",
       "      <th>1</th>\n",
       "      <td>Logistic Regression (cvec)</td>\n",
       "      <td>0.989</td>\n",
       "      <td>0.705</td>\n",
       "      <td>0.709</td>\n",
       "      <td>0.741</td>\n",
       "      <td>0.667</td>\n",
       "      <td>0.687</td>\n",
       "      <td>0.704</td>\n",
       "    </tr>\n",
       "    <tr>\n",
       "      <th>2</th>\n",
       "      <td>AdaBoost Classifer (cvec)</td>\n",
       "      <td>0.943</td>\n",
       "      <td>0.689</td>\n",
       "      <td>0.698</td>\n",
       "      <td>0.739</td>\n",
       "      <td>0.636</td>\n",
       "      <td>0.665</td>\n",
       "      <td>0.687</td>\n",
       "    </tr>\n",
       "    <tr>\n",
       "      <th>3</th>\n",
       "      <td>Bagging Classifier (cvec)</td>\n",
       "      <td>0.996</td>\n",
       "      <td>0.701</td>\n",
       "      <td>0.706</td>\n",
       "      <td>0.739</td>\n",
       "      <td>0.660</td>\n",
       "      <td>0.682</td>\n",
       "      <td>0.700</td>\n",
       "    </tr>\n",
       "    <tr>\n",
       "      <th>4</th>\n",
       "      <td>Gradient Boosting Classifier (cvec)</td>\n",
       "      <td>0.996</td>\n",
       "      <td>0.721</td>\n",
       "      <td>0.731</td>\n",
       "      <td>0.765</td>\n",
       "      <td>0.675</td>\n",
       "      <td>0.702</td>\n",
       "      <td>0.720</td>\n",
       "    </tr>\n",
       "    <tr>\n",
       "      <th>5</th>\n",
       "      <td>Random Forest Classifier (cvec)</td>\n",
       "      <td>0.931</td>\n",
       "      <td>0.705</td>\n",
       "      <td>0.745</td>\n",
       "      <td>0.806</td>\n",
       "      <td>0.598</td>\n",
       "      <td>0.664</td>\n",
       "      <td>0.702</td>\n",
       "    </tr>\n",
       "    <tr>\n",
       "      <th>6</th>\n",
       "      <td>Extra Trees Classifier (cvec)</td>\n",
       "      <td>0.996</td>\n",
       "      <td>0.711</td>\n",
       "      <td>0.727</td>\n",
       "      <td>0.769</td>\n",
       "      <td>0.650</td>\n",
       "      <td>0.686</td>\n",
       "      <td>0.709</td>\n",
       "    </tr>\n",
       "    <tr>\n",
       "      <th>7</th>\n",
       "      <td>SVM for Classification (cvec)</td>\n",
       "      <td>0.657</td>\n",
       "      <td>0.610</td>\n",
       "      <td>0.720</td>\n",
       "      <td>0.769</td>\n",
       "      <td>0.325</td>\n",
       "      <td>0.448</td>\n",
       "      <td>0.603</td>\n",
       "    </tr>\n",
       "    <tr>\n",
       "      <th>8</th>\n",
       "      <td>Multinomial Naive Bayes (cvec)</td>\n",
       "      <td>0.813</td>\n",
       "      <td>0.694</td>\n",
       "      <td>0.712</td>\n",
       "      <td>0.761</td>\n",
       "      <td>0.623</td>\n",
       "      <td>0.664</td>\n",
       "      <td>0.692</td>\n",
       "    </tr>\n",
       "  </tbody>\n",
       "</table>\n",
       "</div>"
      ],
      "text/plain": [
       "                                 Model Train Score  Test Score Precision  \\\n",
       "0                           Null Model         n/a       0.514       n/a   \n",
       "1           Logistic Regression (cvec)       0.989       0.705     0.709   \n",
       "2            AdaBoost Classifer (cvec)       0.943       0.689     0.698   \n",
       "3            Bagging Classifier (cvec)       0.996       0.701     0.706   \n",
       "4  Gradient Boosting Classifier (cvec)       0.996       0.721     0.731   \n",
       "5      Random Forest Classifier (cvec)       0.931       0.705     0.745   \n",
       "6        Extra Trees Classifier (cvec)       0.996       0.711     0.727   \n",
       "7        SVM for Classification (cvec)       0.657       0.610     0.720   \n",
       "8       Multinomial Naive Bayes (cvec)       0.813       0.694     0.712   \n",
       "\n",
       "  Specificity Recall F1 Score ROC AUC Score  \n",
       "0         n/a    n/a      n/a           n/a  \n",
       "1       0.741  0.667    0.687         0.704  \n",
       "2       0.739  0.636    0.665         0.687  \n",
       "3       0.739  0.660    0.682         0.700  \n",
       "4       0.765  0.675    0.702         0.720  \n",
       "5       0.806  0.598    0.664         0.702  \n",
       "6       0.769  0.650    0.686         0.709  \n",
       "7       0.769  0.325    0.448         0.603  \n",
       "8       0.761  0.623    0.664         0.692  "
      ]
     },
     "execution_count": 43,
     "metadata": {},
     "output_type": "execute_result"
    }
   ],
   "source": [
    "# list of dict\n",
    "summary = [{'Model': 'Null Model', \n",
    "            'Train Score': 'n/a', \n",
    "            'Test Score': 0.514,\n",
    "            'Precision': 'n/a', \n",
    "            'Specificity': 'n/a',\n",
    "            'Recall': 'n/a',\n",
    "            'F1 Score': 'n/a', \n",
    "            'ROC AUC Score': 'n/a'},\n",
    "           {'Model': 'Logistic Regression (cvec)', \n",
    "            'Train Score': train_score_cvec_logreg, \n",
    "            'Test Score': accuracy_score(y_test, preds_cvec_logreg),\n",
    "            'Precision': precision_score(y_test, preds_cvec_logreg), \n",
    "            'Specificity': spec_cvec_logreg,\n",
    "            'Recall': recall_score(y_test, preds_cvec_logreg),\n",
    "            'F1 Score': f1_score(y_test, preds_cvec_logreg), \n",
    "            'ROC AUC Score': roc_auc_score(y_test, preds_cvec_logreg)},\n",
    "           {'Model': 'AdaBoost Classifer (cvec)', \n",
    "            'Train Score': train_score_cvec_ada, \n",
    "            'Test Score': accuracy_score(y_test, preds_cvec_ada),\n",
    "            'Precision': precision_score(y_test, preds_cvec_ada), \n",
    "            'Specificity': spec_cvec_ada,\n",
    "            'Recall': recall_score(y_test, preds_cvec_ada),\n",
    "            'F1 Score': f1_score(y_test, preds_cvec_ada), \n",
    "            'ROC AUC Score': roc_auc_score(y_test, preds_cvec_ada)}, \n",
    "           {'Model': 'Bagging Classifier (cvec)', \n",
    "            'Train Score': train_score_cvec_bagc, \n",
    "            'Test Score': accuracy_score(y_test, preds_cvec_bagc),\n",
    "            'Precision': precision_score(y_test, preds_cvec_bagc), \n",
    "            'Specificity': spec_cvec_bagc,\n",
    "            'Recall': recall_score(y_test, preds_cvec_bagc),\n",
    "            'F1 Score': f1_score(y_test, preds_cvec_bagc), \n",
    "            'ROC AUC Score': roc_auc_score(y_test, preds_cvec_bagc)},\n",
    "           {'Model': 'Gradient Boosting Classifier (cvec)', \n",
    "            'Train Score': train_score_cvec_gbc, \n",
    "            'Test Score': accuracy_score(y_test, preds_cvec_gbc),\n",
    "            'Precision': precision_score(y_test, preds_cvec_gbc), \n",
    "            'Specificity': spec_cvec_gbc,\n",
    "            'Recall': recall_score(y_test, preds_cvec_gbc),\n",
    "            'F1 Score': f1_score(y_test, preds_cvec_gbc), \n",
    "            'ROC AUC Score': roc_auc_score(y_test, preds_cvec_gbc)},\n",
    "           {'Model': 'Random Forest Classifier (cvec)', \n",
    "            'Train Score': train_score_cvec_rfc, \n",
    "            'Test Score': accuracy_score(y_test, preds_cvec_rfc),\n",
    "            'Precision': precision_score(y_test, preds_cvec_rfc), \n",
    "            'Specificity': spec_cvec_rfc,\n",
    "            'Recall': recall_score(y_test, preds_cvec_rfc),\n",
    "            'F1 Score': f1_score(y_test, preds_cvec_rfc), \n",
    "            'ROC AUC Score': roc_auc_score(y_test, preds_cvec_rfc)},\n",
    "           {'Model': 'Extra Trees Classifier (cvec)', \n",
    "            'Train Score': train_score_cvec_etc, \n",
    "            'Test Score': accuracy_score(y_test, preds_cvec_etc),\n",
    "            'Precision': precision_score(y_test, preds_cvec_etc), \n",
    "            'Specificity': spec_cvec_etc,\n",
    "            'Recall': recall_score(y_test, preds_cvec_etc),\n",
    "            'F1 Score': f1_score(y_test, preds_cvec_etc), \n",
    "            'ROC AUC Score': roc_auc_score(y_test, preds_cvec_etc)},\n",
    "           {'Model': 'SVM for Classification (cvec)', \n",
    "            'Train Score': train_score_cvec_svc, \n",
    "            'Test Score': accuracy_score(y_test, preds_cvec_svc),\n",
    "            'Precision': precision_score(y_test, preds_cvec_svc), \n",
    "            'Specificity': spec_cvec_svc,\n",
    "            'Recall': recall_score(y_test, preds_cvec_svc),\n",
    "            'F1 Score': f1_score(y_test, preds_cvec_svc), \n",
    "            'ROC AUC Score': roc_auc_score(y_test, preds_cvec_svc)},\n",
    "           {'Model': 'Multinomial Naive Bayes (cvec)', \n",
    "            'Train Score': train_score_cvec_nb, \n",
    "            'Test Score': accuracy_score(y_test, preds_cvec_nb),\n",
    "            'Precision': precision_score(y_test, preds_cvec_nb), \n",
    "            'Specificity': spec_cvec_nb,\n",
    "            'Recall': recall_score(y_test, preds_cvec_nb),\n",
    "            'F1 Score': f1_score(y_test, preds_cvec_nb), \n",
    "            'ROC AUC Score': roc_auc_score(y_test, preds_cvec_nb)}]\n",
    "\n",
    "summary_v4 = pd.DataFrame(summary)\n",
    "summary_v4.round(4) # rounding off values to 4 decimal places"
   ]
  },
  {
   "cell_type": "markdown",
   "metadata": {},
   "source": [
    "## Conclusions & Recommendations <a class=\"anchor\" id=\"conclusions\"></a>\n",
    "---\n",
    "[Back to top!](#toc)"
   ]
  },
  {
   "cell_type": "code",
   "execution_count": null,
   "metadata": {},
   "outputs": [],
   "source": []
  }
 ],
 "metadata": {
  "kernelspec": {
   "display_name": "Python 3",
   "language": "python",
   "name": "python3"
  },
  "language_info": {
   "codemirror_mode": {
    "name": "ipython",
    "version": 3
   },
   "file_extension": ".py",
   "mimetype": "text/x-python",
   "name": "python",
   "nbconvert_exporter": "python",
   "pygments_lexer": "ipython3",
   "version": "3.8.5"
  }
 },
 "nbformat": 4,
 "nbformat_minor": 4
}
