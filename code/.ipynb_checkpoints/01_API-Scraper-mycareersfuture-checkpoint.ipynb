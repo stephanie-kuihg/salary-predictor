{
 "cells": [
  {
   "cell_type": "markdown",
   "metadata": {},
   "source": [
    "# Predicting Potential Salaries using Data Science\n",
    "---\n",
    "\n",
    "### Background\n",
    "Job hunting is part and parcel of life. On average, a person changes jobs about five times during his/her working career. One of the biggest hurdle to overcome in job hunting is to negotiate salaries and this salary prediction models aims to eliminate this hurdle for both job seekers and hiring companies.\n",
    "\n",
    "### Target Audience\n",
    "\n",
    "**1. Primary stakeholders: Job seekers** <br/>\n",
    "With this salary prediction model readily available, one will be able to gain insights into the industry from exploratory data analysis, and get a benchmark or an idea of the salary that might be offered before applying for the job. Not only job seekers can apply this model to his/her next potential job, existing employees will also be able to check if he/she is paid according to the market trend, and negotiate for a higher pay within the company. As the exploratory data analysis will show the market demand for such jobs, companies might need to offer competitive salaries in order to retain their existing employees.\n",
    "\n",
    "\n",
    "**2. Secondary stakeholders: Companies seeking to hire** <br/>\n",
    "Companies will be able to set realistic hiring budgets if they are setting up new data science teams. They will also be able to check hiring market trends, and are able to decide if they should offer competitive salaries if they are in urgent need of certain roles.\n",
    "\n",
    "\n",
    "**3. Platform: Job Portals and Recruitment Agencies** <br/>\n",
    "This salary prediction model can be utilized by job portals and recruitment agencies to reconcile these two stakeholders. As the companies post up their job listings, the job seekers are able \n",
    "\n",
    "### Data Source\n",
    "The dataset used in this salary prediction model is scraped from Singapore job portal mycareersfuture.sg, and compromises of jobs in the data science industry including but not limited to roles such as data scientist, data analyst and data engineers. While this particular industry was selected as a form of personal research before embarking on my job hunt as a data scientist, it is merely a proof of concept, and can be easily tweaked to predict salaries from other industries.\n",
    "\n",
    "### Project Workflow\n",
    "\n",
    "**1. Scraping the Data** <br/>\n",
    "\n",
    "Using an API scraper, datasets were obtained from mycareersfuture.sg using the following keywords to search for job listings:\n",
    "* data scientist\n",
    "* data analyst\n",
    "* data enginner\n",
    "* business analyst\n",
    "* machine learning\n",
    "* python\n",
    "* data\n",
    "\n",
    "These datasets were then concatenated to create a comprehensive dataset that includes most jobs in the data science industry.\n",
    "\n",
    "**2. Cleaning the Data** <br/>\n",
    "\n",
    "Several cleaning and transformation tasks were performed in order to prepare a dataset suitable for modelling. Some actions taken as this stage are:\n",
    "* Feature engineering the target variable (average salary) from the minimum and maximum salary values of each job listing, and removing those that appeared invalid such as zero values and those that were too high.\n",
    "* Several of the features in the dataset such as `job_title`, `position_level` were categorical with a huge number of possible unique values. Hence standardization and simplification of those features were required.\n",
    "\n",
    "After cleaning the dataset, there was 4,000 rows and 10 columns in the dataset.\n",
    "\n",
    "**3. Exploratory Data Analysis** <br/>\n",
    "\n",
    "Correlations between the different features in the datasets are investigated in this section. Further feature engineering from text features such as `skills` was done to convert it to the categorical features for modelling.\n",
    "\n",
    "**4. Pre-processing** <br/>\n",
    "\n",
    "This section involves one-hot encoding the standarized categorical variables in the dataset. The resultant dataset for modelling contained about 4,000 rows and 90 columns. \n",
    "\n",
    "A second target variable `salary_above_median` was also created for classification modelling. `salary_above_median` will represent if the salary offered will be above or below the median value according to the candidate's year of experience.\n",
    "* 1 represents salary above median values for that given year of experience\n",
    "* 0 represents salary below median values for that given year of experience.\n",
    "\n",
    "**5a. Regression Modelling** <br/>\n",
    "\n",
    "\n",
    "**5b. Classification Modelling** <br/>\n",
    "\n"
   ]
  },
  {
   "cell_type": "markdown",
   "metadata": {},
   "source": [
    "## MyCareersFuture.sg API Calls \n",
    "---\n",
    "Credit: https://github.com/pwaaron/jobscrapers"
   ]
  },
  {
   "cell_type": "code",
   "execution_count": 40,
   "metadata": {},
   "outputs": [],
   "source": [
    "import requests\n",
    "from urllib.parse import urlencode\n",
    "from bs4 import BeautifulSoup\n",
    "\n",
    "import pandas as pd"
   ]
  },
  {
   "cell_type": "code",
   "execution_count": 41,
   "metadata": {},
   "outputs": [],
   "source": [
    "API_LINK = 'https://api1.mycareersfuture.sg/v2/jobs?'"
   ]
  },
  {
   "cell_type": "markdown",
   "metadata": {},
   "source": [
    "### Variables to change\n",
    "Please change the search query and the number of total jobs you would like to query."
   ]
  },
  {
   "cell_type": "code",
   "execution_count": 73,
   "metadata": {},
   "outputs": [],
   "source": [
    "jobs = []\n",
    "LIMIT = 100 # Limit should not exceed 100. The smaller the number, the gentler it is\n",
    "SEARCH_QUERY = 'python' #search query\n",
    "TOTAL_JOBS = 20000 # Number of jobs to be queried\n",
    "N_PAGES = TOTAL_JOBS//LIMIT"
   ]
  },
  {
   "cell_type": "markdown",
   "metadata": {},
   "source": [
    "### Running query\n"
   ]
  },
  {
   "cell_type": "code",
   "execution_count": 14,
   "metadata": {},
   "outputs": [],
   "source": [
    "#For limited queries\n",
    "for page in range(N_PAGES):\n",
    "    query = {'limit': LIMIT, 'page': page, 'search': SEARCH_QUERY}\n",
    "    r = requests.get(API_LINK + urlencode(query))\n",
    "    jobs.extend(r.json()[\"results\"])"
   ]
  },
  {
   "cell_type": "code",
   "execution_count": 74,
   "metadata": {},
   "outputs": [],
   "source": [
    "#To query all pages\n",
    "page = 0 \n",
    "query = {'limit': LIMIT, 'page': page, 'search': SEARCH_QUERY}\n",
    "r = requests.get(API_LINK + urlencode(query))\n",
    "\n",
    "while r.json()[\"results\"]:\n",
    "    jobs.extend(r.json()[\"results\"])\n",
    "    page += 1\n",
    "    query = {'limit': LIMIT, 'page': page, 'search': SEARCH_QUERY}\n",
    "    r = requests.get(API_LINK + urlencode(query))"
   ]
  },
  {
   "cell_type": "code",
   "execution_count": 75,
   "metadata": {},
   "outputs": [
    {
     "data": {
      "text/plain": [
       "2677"
      ]
     },
     "execution_count": 75,
     "metadata": {},
     "output_type": "execute_result"
    }
   ],
   "source": [
    "len(jobs)"
   ]
  },
  {
   "cell_type": "markdown",
   "metadata": {},
   "source": [
    "### Extract the Information Out"
   ]
  },
  {
   "cell_type": "code",
   "execution_count": 76,
   "metadata": {},
   "outputs": [],
   "source": [
    "job_id = list(map(lambda job: job['uuid'], jobs))\n",
    "ext_job_id = list(map(lambda job: job['metadata']['jobPostId'], jobs))\n",
    "job_title = list(map(lambda job: job['title'], jobs))\n",
    "job_description = list(map(lambda job: BeautifulSoup(job['description'], 'lxml').text, jobs))\n",
    "minimum_years_experience = list(map(lambda job: job['minimumYearsExperience'], jobs))\n",
    "ssoc_code = list(map(lambda job: job['ssocCode'], jobs))\n",
    "categories = list(map(lambda job: '; '.join(list(map(lambda category: category['category'], job['categories']))), jobs))\n",
    "employment_types = list(map(lambda job: '; '.join(list(map(lambda employmentType: employmentType['employmentType'], job['employmentTypes']))), jobs))\n",
    "position_levels = list(map(lambda job: '; '.join(list(map(lambda positionLevel: positionLevel['position'], job['positionLevels']))), jobs))\n",
    "skills = list(map(lambda job: '; '.join(list(map(lambda skill: skill['skill'], job['skills']))), jobs))\n",
    "organisation = list(map(lambda job: job['postedCompany']['name'], jobs))\n",
    "new_posting_date = list(map(lambda job: job['metadata']['newPostingDate'], jobs))\n",
    "original_posting_date = list(map(lambda job: job['metadata']['originalPostingDate'], jobs))\n",
    "closing_date = list(map(lambda job: job['metadata']['expiryDate'], jobs))\n",
    "last_updated = list(map(lambda job: job['metadata']['updatedAt'], jobs))\n",
    "salary_minimum = list(map(lambda job: job['salary']['minimum'], jobs))\n",
    "salary_maximum = list(map(lambda job: job['salary']['maximum'], jobs))\n",
    "salary_type = list(map(lambda job: job['salary']['type']['salaryType'], jobs))\n",
    "api_link = list(map(lambda job: job['_links']['self']['href'], jobs))\n",
    "job_url = list(map(lambda job: job['metadata']['jobDetailsUrl'], jobs))"
   ]
  },
  {
   "cell_type": "markdown",
   "metadata": {},
   "source": [
    "### Save as Dataframe and Export as CSV"
   ]
  },
  {
   "cell_type": "code",
   "execution_count": 77,
   "metadata": {},
   "outputs": [],
   "source": [
    "col = {'job_id': job_id, 'ext_job_id': ext_job_id, \n",
    "       'job_title': job_title, 'job_description': job_description,\n",
    "       'minimum_years_experience': minimum_years_experience, \n",
    "       'ssoc_code': ssoc_code, 'categories': categories, \n",
    "       'employment_types': employment_types, 'position_levels': position_levels, \n",
    "       'new_posting_date': new_posting_date, 'original_posting_date': original_posting_date, \n",
    "       'closing_date': closing_date, 'last_updated': last_updated, \n",
    "       'skills': skills, 'organisation': organisation,\n",
    "       'salary_minimum': salary_minimum, 'salary_maximum': salary_maximum, 'salary_type': salary_type,\n",
    "       'api_link': api_link, 'job_url': job_url}"
   ]
  },
  {
   "cell_type": "code",
   "execution_count": 78,
   "metadata": {},
   "outputs": [],
   "source": [
    "jobs = pd.DataFrame(col)"
   ]
  },
  {
   "cell_type": "code",
   "execution_count": 79,
   "metadata": {},
   "outputs": [
    {
     "name": "stdout",
     "output_type": "stream",
     "text": [
      "DONE\n"
     ]
    }
   ],
   "source": [
    "PREFIX = \"mycareersfuturesg_results\"\n",
    "FILENAME = '_'.join((PREFIX + ' '+ SEARCH_QUERY).split()) + \".csv\"\n",
    "jobs.to_csv(FILENAME, index=False)\n",
    "print(\"DONE\")"
   ]
  },
  {
   "cell_type": "markdown",
   "metadata": {},
   "source": [
    "### Checking exported .csv"
   ]
  },
  {
   "cell_type": "code",
   "execution_count": 80,
   "metadata": {},
   "outputs": [
    {
     "data": {
      "text/plain": [
       "(2677, 20)"
      ]
     },
     "execution_count": 80,
     "metadata": {},
     "output_type": "execute_result"
    }
   ],
   "source": [
    "jobs.shape"
   ]
  },
  {
   "cell_type": "code",
   "execution_count": 81,
   "metadata": {},
   "outputs": [
    {
     "data": {
      "text/html": [
       "<div>\n",
       "<style scoped>\n",
       "    .dataframe tbody tr th:only-of-type {\n",
       "        vertical-align: middle;\n",
       "    }\n",
       "\n",
       "    .dataframe tbody tr th {\n",
       "        vertical-align: top;\n",
       "    }\n",
       "\n",
       "    .dataframe thead th {\n",
       "        text-align: right;\n",
       "    }\n",
       "</style>\n",
       "<table border=\"1\" class=\"dataframe\">\n",
       "  <thead>\n",
       "    <tr style=\"text-align: right;\">\n",
       "      <th></th>\n",
       "      <th>job_id</th>\n",
       "      <th>ext_job_id</th>\n",
       "      <th>job_title</th>\n",
       "      <th>job_description</th>\n",
       "      <th>minimum_years_experience</th>\n",
       "      <th>ssoc_code</th>\n",
       "      <th>categories</th>\n",
       "      <th>employment_types</th>\n",
       "      <th>position_levels</th>\n",
       "      <th>new_posting_date</th>\n",
       "      <th>original_posting_date</th>\n",
       "      <th>closing_date</th>\n",
       "      <th>last_updated</th>\n",
       "      <th>skills</th>\n",
       "      <th>organisation</th>\n",
       "      <th>salary_minimum</th>\n",
       "      <th>salary_maximum</th>\n",
       "      <th>salary_type</th>\n",
       "      <th>api_link</th>\n",
       "      <th>job_url</th>\n",
       "    </tr>\n",
       "  </thead>\n",
       "  <tbody>\n",
       "    <tr>\n",
       "      <th>0</th>\n",
       "      <td>90f5a8ac82ff1d5dfb7e42b52539ffe7</td>\n",
       "      <td>MCF-2021-0106896</td>\n",
       "      <td>Product Technical Lead ( Python )</td>\n",
       "      <td>We are looking for Product Technical Lead ( Py...</td>\n",
       "      <td>8</td>\n",
       "      <td>9943</td>\n",
       "      <td>Information Technology</td>\n",
       "      <td>Permanent</td>\n",
       "      <td>Professional</td>\n",
       "      <td>2021-04-24</td>\n",
       "      <td>2021-03-12</td>\n",
       "      <td>2021-05-24</td>\n",
       "      <td>2021-05-10T16:38:24.000Z</td>\n",
       "      <td>AWS; Django; Flask; Git; Github; Machine Learn...</td>\n",
       "      <td>ARYAN SOLUTIONS PTE. LTD.</td>\n",
       "      <td>10000</td>\n",
       "      <td>11000</td>\n",
       "      <td>Monthly</td>\n",
       "      <td>https://api.mycareersfuture.gov.sg/v2/jobs/90f...</td>\n",
       "      <td>https://www.mycareersfuture.gov.sg/job/informa...</td>\n",
       "    </tr>\n",
       "    <tr>\n",
       "      <th>1</th>\n",
       "      <td>84e22053f08516412d1380a206d4d190</td>\n",
       "      <td>MCF-2021-0186226</td>\n",
       "      <td>Python Expert</td>\n",
       "      <td>\\nNewly Created Role\\nExposure to Latest Techn...</td>\n",
       "      <td>4</td>\n",
       "      <td>2504</td>\n",
       "      <td>Information Technology</td>\n",
       "      <td>Full Time</td>\n",
       "      <td>Professional</td>\n",
       "      <td>2021-04-26</td>\n",
       "      <td>2021-04-26</td>\n",
       "      <td>2021-05-26</td>\n",
       "      <td>2021-05-10T16:25:51.000Z</td>\n",
       "      <td>Designing; Encoding; Microsoft Technologies; O...</td>\n",
       "      <td>MICHAEL PAGE INTERNATIONAL PTE LTD</td>\n",
       "      <td>5000</td>\n",
       "      <td>8000</td>\n",
       "      <td>Monthly</td>\n",
       "      <td>https://api.mycareersfuture.gov.sg/v2/jobs/84e...</td>\n",
       "      <td>https://www.mycareersfuture.gov.sg/job/informa...</td>\n",
       "    </tr>\n",
       "    <tr>\n",
       "      <th>2</th>\n",
       "      <td>752afd8aa0a2863251e9b9ba5f637422</td>\n",
       "      <td>MCF-2021-0174611</td>\n",
       "      <td>Python Developer</td>\n",
       "      <td>Job description :\\n\\nExperience with Python, D...</td>\n",
       "      <td>5</td>\n",
       "      <td>10216</td>\n",
       "      <td>Information Technology</td>\n",
       "      <td>Contract</td>\n",
       "      <td>Professional</td>\n",
       "      <td>2021-04-20</td>\n",
       "      <td>2021-04-20</td>\n",
       "      <td>2021-05-20</td>\n",
       "      <td>2021-05-10T16:29:33.000Z</td>\n",
       "      <td>Analysis; API; Django; Flask; JavaScript; NumP...</td>\n",
       "      <td>U3 INFOTECH PTE. LTD.</td>\n",
       "      <td>8000</td>\n",
       "      <td>11000</td>\n",
       "      <td>Monthly</td>\n",
       "      <td>https://api.mycareersfuture.gov.sg/v2/jobs/752...</td>\n",
       "      <td>https://www.mycareersfuture.gov.sg/job/informa...</td>\n",
       "    </tr>\n",
       "    <tr>\n",
       "      <th>3</th>\n",
       "      <td>5d9d21e6b03f30170841e5a4175f88a4</td>\n",
       "      <td>MCF-2021-0211484</td>\n",
       "      <td>Python Developer</td>\n",
       "      <td>Background\\nImpact Credit Solutions (“ICS”) is...</td>\n",
       "      <td>3</td>\n",
       "      <td>2447</td>\n",
       "      <td>Banking and Finance; Engineering; Information ...</td>\n",
       "      <td>Full Time</td>\n",
       "      <td>Manager</td>\n",
       "      <td>2021-05-10</td>\n",
       "      <td>2021-05-10</td>\n",
       "      <td>2021-06-09</td>\n",
       "      <td>2021-05-10T16:17:41.000Z</td>\n",
       "      <td>Capital Markets; Core Banking; Django; Finance...</td>\n",
       "      <td>IMPACT CREDIT SOLUTIONS PTE. LTD.</td>\n",
       "      <td>7500</td>\n",
       "      <td>10000</td>\n",
       "      <td>Monthly</td>\n",
       "      <td>https://api.mycareersfuture.gov.sg/v2/jobs/5d9...</td>\n",
       "      <td>https://www.mycareersfuture.gov.sg/job/banking...</td>\n",
       "    </tr>\n",
       "    <tr>\n",
       "      <th>4</th>\n",
       "      <td>907c8a431d0e58fee992d682856c2efb</td>\n",
       "      <td>MCF-2021-0209870</td>\n",
       "      <td>Python and React Junior Engineer</td>\n",
       "      <td>• 1-6 years of experience working with various...</td>\n",
       "      <td>1</td>\n",
       "      <td>14320</td>\n",
       "      <td>Information Technology</td>\n",
       "      <td>Full Time</td>\n",
       "      <td>Professional</td>\n",
       "      <td>2021-05-10</td>\n",
       "      <td>2021-05-10</td>\n",
       "      <td>2021-06-09</td>\n",
       "      <td>2021-05-10T16:18:43.000Z</td>\n",
       "      <td>Building Codes; Business Intelligence; DevOps;...</td>\n",
       "      <td>TOSS-EX PTE. LTD.</td>\n",
       "      <td>4900</td>\n",
       "      <td>5000</td>\n",
       "      <td>Monthly</td>\n",
       "      <td>https://api.mycareersfuture.gov.sg/v2/jobs/907...</td>\n",
       "      <td>https://www.mycareersfuture.gov.sg/job/informa...</td>\n",
       "    </tr>\n",
       "  </tbody>\n",
       "</table>\n",
       "</div>"
      ],
      "text/plain": [
       "                             job_id        ext_job_id  \\\n",
       "0  90f5a8ac82ff1d5dfb7e42b52539ffe7  MCF-2021-0106896   \n",
       "1  84e22053f08516412d1380a206d4d190  MCF-2021-0186226   \n",
       "2  752afd8aa0a2863251e9b9ba5f637422  MCF-2021-0174611   \n",
       "3  5d9d21e6b03f30170841e5a4175f88a4  MCF-2021-0211484   \n",
       "4  907c8a431d0e58fee992d682856c2efb  MCF-2021-0209870   \n",
       "\n",
       "                           job_title  \\\n",
       "0  Product Technical Lead ( Python )   \n",
       "1                     Python Expert    \n",
       "2                   Python Developer   \n",
       "3                   Python Developer   \n",
       "4  Python and React Junior Engineer    \n",
       "\n",
       "                                     job_description  \\\n",
       "0  We are looking for Product Technical Lead ( Py...   \n",
       "1  \\nNewly Created Role\\nExposure to Latest Techn...   \n",
       "2  Job description :\\n\\nExperience with Python, D...   \n",
       "3  Background\\nImpact Credit Solutions (“ICS”) is...   \n",
       "4  • 1-6 years of experience working with various...   \n",
       "\n",
       "   minimum_years_experience  ssoc_code  \\\n",
       "0                         8       9943   \n",
       "1                         4       2504   \n",
       "2                         5      10216   \n",
       "3                         3       2447   \n",
       "4                         1      14320   \n",
       "\n",
       "                                          categories employment_types  \\\n",
       "0                             Information Technology        Permanent   \n",
       "1                             Information Technology        Full Time   \n",
       "2                             Information Technology         Contract   \n",
       "3  Banking and Finance; Engineering; Information ...        Full Time   \n",
       "4                             Information Technology        Full Time   \n",
       "\n",
       "  position_levels new_posting_date original_posting_date closing_date  \\\n",
       "0    Professional       2021-04-24            2021-03-12   2021-05-24   \n",
       "1    Professional       2021-04-26            2021-04-26   2021-05-26   \n",
       "2    Professional       2021-04-20            2021-04-20   2021-05-20   \n",
       "3         Manager       2021-05-10            2021-05-10   2021-06-09   \n",
       "4    Professional       2021-05-10            2021-05-10   2021-06-09   \n",
       "\n",
       "               last_updated  \\\n",
       "0  2021-05-10T16:38:24.000Z   \n",
       "1  2021-05-10T16:25:51.000Z   \n",
       "2  2021-05-10T16:29:33.000Z   \n",
       "3  2021-05-10T16:17:41.000Z   \n",
       "4  2021-05-10T16:18:43.000Z   \n",
       "\n",
       "                                              skills  \\\n",
       "0  AWS; Django; Flask; Git; Github; Machine Learn...   \n",
       "1  Designing; Encoding; Microsoft Technologies; O...   \n",
       "2  Analysis; API; Django; Flask; JavaScript; NumP...   \n",
       "3  Capital Markets; Core Banking; Django; Finance...   \n",
       "4  Building Codes; Business Intelligence; DevOps;...   \n",
       "\n",
       "                         organisation  salary_minimum  salary_maximum  \\\n",
       "0           ARYAN SOLUTIONS PTE. LTD.           10000           11000   \n",
       "1  MICHAEL PAGE INTERNATIONAL PTE LTD            5000            8000   \n",
       "2               U3 INFOTECH PTE. LTD.            8000           11000   \n",
       "3   IMPACT CREDIT SOLUTIONS PTE. LTD.            7500           10000   \n",
       "4                   TOSS-EX PTE. LTD.            4900            5000   \n",
       "\n",
       "  salary_type                                           api_link  \\\n",
       "0     Monthly  https://api.mycareersfuture.gov.sg/v2/jobs/90f...   \n",
       "1     Monthly  https://api.mycareersfuture.gov.sg/v2/jobs/84e...   \n",
       "2     Monthly  https://api.mycareersfuture.gov.sg/v2/jobs/752...   \n",
       "3     Monthly  https://api.mycareersfuture.gov.sg/v2/jobs/5d9...   \n",
       "4     Monthly  https://api.mycareersfuture.gov.sg/v2/jobs/907...   \n",
       "\n",
       "                                             job_url  \n",
       "0  https://www.mycareersfuture.gov.sg/job/informa...  \n",
       "1  https://www.mycareersfuture.gov.sg/job/informa...  \n",
       "2  https://www.mycareersfuture.gov.sg/job/informa...  \n",
       "3  https://www.mycareersfuture.gov.sg/job/banking...  \n",
       "4  https://www.mycareersfuture.gov.sg/job/informa...  "
      ]
     },
     "execution_count": 81,
     "metadata": {},
     "output_type": "execute_result"
    }
   ],
   "source": [
    "jobs.head()"
   ]
  },
  {
   "cell_type": "code",
   "execution_count": 51,
   "metadata": {},
   "outputs": [
    {
     "name": "stdout",
     "output_type": "stream",
     "text": [
      "<class 'pandas.core.frame.DataFrame'>\n",
      "RangeIndex: 15102 entries, 0 to 15101\n",
      "Data columns (total 20 columns):\n",
      " #   Column                    Non-Null Count  Dtype \n",
      "---  ------                    --------------  ----- \n",
      " 0   job_id                    15102 non-null  object\n",
      " 1   ext_job_id                15102 non-null  object\n",
      " 2   job_title                 15102 non-null  object\n",
      " 3   job_description           15102 non-null  object\n",
      " 4   minimum_years_experience  15102 non-null  int64 \n",
      " 5   ssoc_code                 15102 non-null  int64 \n",
      " 6   categories                15102 non-null  object\n",
      " 7   employment_types          15102 non-null  object\n",
      " 8   position_levels           15102 non-null  object\n",
      " 9   new_posting_date          15102 non-null  object\n",
      " 10  original_posting_date     15102 non-null  object\n",
      " 11  closing_date              15102 non-null  object\n",
      " 12  last_updated              15102 non-null  object\n",
      " 13  skills                    15102 non-null  object\n",
      " 14  organisation              15102 non-null  object\n",
      " 15  salary_minimum            15102 non-null  int64 \n",
      " 16  salary_maximum            15102 non-null  int64 \n",
      " 17  salary_type               15102 non-null  object\n",
      " 18  api_link                  15102 non-null  object\n",
      " 19  job_url                   15102 non-null  object\n",
      "dtypes: int64(4), object(16)\n",
      "memory usage: 2.3+ MB\n"
     ]
    }
   ],
   "source": [
    "jobs.info()"
   ]
  },
  {
   "cell_type": "code",
   "execution_count": null,
   "metadata": {},
   "outputs": [],
   "source": []
  },
  {
   "cell_type": "code",
   "execution_count": null,
   "metadata": {},
   "outputs": [],
   "source": []
  },
  {
   "cell_type": "code",
   "execution_count": null,
   "metadata": {},
   "outputs": [],
   "source": []
  },
  {
   "cell_type": "code",
   "execution_count": null,
   "metadata": {},
   "outputs": [],
   "source": []
  },
  {
   "cell_type": "code",
   "execution_count": null,
   "metadata": {},
   "outputs": [],
   "source": []
  }
 ],
 "metadata": {
  "kernelspec": {
   "display_name": "Python 3",
   "language": "python",
   "name": "python3"
  },
  "language_info": {
   "codemirror_mode": {
    "name": "ipython",
    "version": 3
   },
   "file_extension": ".py",
   "mimetype": "text/x-python",
   "name": "python",
   "nbconvert_exporter": "python",
   "pygments_lexer": "ipython3",
   "version": "3.8.5"
  }
 },
 "nbformat": 4,
 "nbformat_minor": 4
}
